{
 "cells": [
  {
   "cell_type": "code",
   "execution_count": 3,
   "metadata": {},
   "outputs": [],
   "source": [
    "import pandas as pd\n",
    "import csv\n",
    "import os\n",
    "from sqlalchemy import create_engine \n",
    "\n"
   ]
  },
  {
   "cell_type": "code",
   "execution_count": 4,
   "metadata": {},
   "outputs": [
    {
     "output_type": "execute_result",
     "data": {
      "text/plain": [
       "              GroupDescription  Year    JAN    FEB    MAR     APR     MAY  \\\n",
       "0  TRAFFIC COUNT AT SAND BEACH  2020  2,761  3,072  5,577       0       0   \n",
       "1  TRAFFIC COUNT AT SAND BEACH  2019  1,620  1,876  3,673   8,625  25,714   \n",
       "2  TRAFFIC COUNT AT SAND BEACH  2018  2,576  2,713  4,490   9,300  28,645   \n",
       "3  TRAFFIC COUNT AT SAND BEACH  2017  3,561  3,345  3,849  11,101  25,473   \n",
       "4  TRAFFIC COUNT AT SAND BEACH  2016  4,029  3,950  5,482  12,377  25,455   \n",
       "\n",
       "      JUN     JUL     AUG     SEP     OCT     NOV    DEC  \n",
       "0  22,253  55,397  77,397  58,395  60,090  10,451    NaN  \n",
       "1  51,944  75,628  75,542  60,667  47,346   5,951  2,907  \n",
       "2  52,604  75,831  76,602  62,366  47,341   5,195  2,859  \n",
       "3  50,576  75,152  76,926  61,430  56,664   6,992  2,690  \n",
       "4  49,466  76,086  80,472  62,015  45,932   7,292  3,253  "
      ],
      "text/html": "<div>\n<style scoped>\n    .dataframe tbody tr th:only-of-type {\n        vertical-align: middle;\n    }\n\n    .dataframe tbody tr th {\n        vertical-align: top;\n    }\n\n    .dataframe thead th {\n        text-align: right;\n    }\n</style>\n<table border=\"1\" class=\"dataframe\">\n  <thead>\n    <tr style=\"text-align: right;\">\n      <th></th>\n      <th>GroupDescription</th>\n      <th>Year</th>\n      <th>JAN</th>\n      <th>FEB</th>\n      <th>MAR</th>\n      <th>APR</th>\n      <th>MAY</th>\n      <th>JUN</th>\n      <th>JUL</th>\n      <th>AUG</th>\n      <th>SEP</th>\n      <th>OCT</th>\n      <th>NOV</th>\n      <th>DEC</th>\n    </tr>\n  </thead>\n  <tbody>\n    <tr>\n      <th>0</th>\n      <td>TRAFFIC COUNT AT SAND BEACH</td>\n      <td>2020</td>\n      <td>2,761</td>\n      <td>3,072</td>\n      <td>5,577</td>\n      <td>0</td>\n      <td>0</td>\n      <td>22,253</td>\n      <td>55,397</td>\n      <td>77,397</td>\n      <td>58,395</td>\n      <td>60,090</td>\n      <td>10,451</td>\n      <td>NaN</td>\n    </tr>\n    <tr>\n      <th>1</th>\n      <td>TRAFFIC COUNT AT SAND BEACH</td>\n      <td>2019</td>\n      <td>1,620</td>\n      <td>1,876</td>\n      <td>3,673</td>\n      <td>8,625</td>\n      <td>25,714</td>\n      <td>51,944</td>\n      <td>75,628</td>\n      <td>75,542</td>\n      <td>60,667</td>\n      <td>47,346</td>\n      <td>5,951</td>\n      <td>2,907</td>\n    </tr>\n    <tr>\n      <th>2</th>\n      <td>TRAFFIC COUNT AT SAND BEACH</td>\n      <td>2018</td>\n      <td>2,576</td>\n      <td>2,713</td>\n      <td>4,490</td>\n      <td>9,300</td>\n      <td>28,645</td>\n      <td>52,604</td>\n      <td>75,831</td>\n      <td>76,602</td>\n      <td>62,366</td>\n      <td>47,341</td>\n      <td>5,195</td>\n      <td>2,859</td>\n    </tr>\n    <tr>\n      <th>3</th>\n      <td>TRAFFIC COUNT AT SAND BEACH</td>\n      <td>2017</td>\n      <td>3,561</td>\n      <td>3,345</td>\n      <td>3,849</td>\n      <td>11,101</td>\n      <td>25,473</td>\n      <td>50,576</td>\n      <td>75,152</td>\n      <td>76,926</td>\n      <td>61,430</td>\n      <td>56,664</td>\n      <td>6,992</td>\n      <td>2,690</td>\n    </tr>\n    <tr>\n      <th>4</th>\n      <td>TRAFFIC COUNT AT SAND BEACH</td>\n      <td>2016</td>\n      <td>4,029</td>\n      <td>3,950</td>\n      <td>5,482</td>\n      <td>12,377</td>\n      <td>25,455</td>\n      <td>49,466</td>\n      <td>76,086</td>\n      <td>80,472</td>\n      <td>62,015</td>\n      <td>45,932</td>\n      <td>7,292</td>\n      <td>3,253</td>\n    </tr>\n  </tbody>\n</table>\n</div>"
     },
     "metadata": {},
     "execution_count": 4
    }
   ],
   "source": [
    "path=os.path.join(\"Resources\", \"acadia.csv\")\n",
    "acadia_np = pd.read_csv(path, header=[3], encoding='utf-8', delimiter=\",\")\n",
    "acadia_np.head()"
   ]
  },
  {
   "cell_type": "code",
   "execution_count": 4,
   "metadata": {},
   "outputs": [
    {
     "output_type": "execute_result",
     "data": {
      "text/plain": [
       "               GroupDescription  Year     JAN     FEB     MAR     APR     MAY  \\\n",
       "0  Total Vehicles entering Park  2020  11,821  17,602  30,199       0   5,123   \n",
       "1  Total Vehicles entering Park  2019   8,957  12,404  48,683  62,075  77,937   \n",
       "2  Total Vehicles entering Park  2018  13,218  16,662  49,688  61,540  76,917   \n",
       "3  Total Vehicles entering Park  2017   8,873  15,853  47,326  57,145  67,916   \n",
       "4  Total Vehicles entering Park  2016   8,439  13,788  43,906  55,570  72,014   \n",
       "\n",
       "      JUN     JUL     AUG     SEP     OCT     NOV     DEC  \n",
       "0  60,626  71,777  60,873  75,433  74,032     NaN     NaN  \n",
       "1  80,044  75,595  66,414  72,792  60,779  30,459  16,367  \n",
       "2  75,982  74,023  65,659  72,394  59,750  30,678  17,403  \n",
       "3  68,984  69,555  63,890  66,209  55,339  30,194  18,374  \n",
       "4  74,475  74,352  66,669  70,603  58,893  28,693  13,657  "
      ],
      "text/html": "<div>\n<style scoped>\n    .dataframe tbody tr th:only-of-type {\n        vertical-align: middle;\n    }\n\n    .dataframe tbody tr th {\n        vertical-align: top;\n    }\n\n    .dataframe thead th {\n        text-align: right;\n    }\n</style>\n<table border=\"1\" class=\"dataframe\">\n  <thead>\n    <tr style=\"text-align: right;\">\n      <th></th>\n      <th>GroupDescription</th>\n      <th>Year</th>\n      <th>JAN</th>\n      <th>FEB</th>\n      <th>MAR</th>\n      <th>APR</th>\n      <th>MAY</th>\n      <th>JUN</th>\n      <th>JUL</th>\n      <th>AUG</th>\n      <th>SEP</th>\n      <th>OCT</th>\n      <th>NOV</th>\n      <th>DEC</th>\n    </tr>\n  </thead>\n  <tbody>\n    <tr>\n      <th>0</th>\n      <td>Total Vehicles entering Park</td>\n      <td>2020</td>\n      <td>11,821</td>\n      <td>17,602</td>\n      <td>30,199</td>\n      <td>0</td>\n      <td>5,123</td>\n      <td>60,626</td>\n      <td>71,777</td>\n      <td>60,873</td>\n      <td>75,433</td>\n      <td>74,032</td>\n      <td>NaN</td>\n      <td>NaN</td>\n    </tr>\n    <tr>\n      <th>1</th>\n      <td>Total Vehicles entering Park</td>\n      <td>2019</td>\n      <td>8,957</td>\n      <td>12,404</td>\n      <td>48,683</td>\n      <td>62,075</td>\n      <td>77,937</td>\n      <td>80,044</td>\n      <td>75,595</td>\n      <td>66,414</td>\n      <td>72,792</td>\n      <td>60,779</td>\n      <td>30,459</td>\n      <td>16,367</td>\n    </tr>\n    <tr>\n      <th>2</th>\n      <td>Total Vehicles entering Park</td>\n      <td>2018</td>\n      <td>13,218</td>\n      <td>16,662</td>\n      <td>49,688</td>\n      <td>61,540</td>\n      <td>76,917</td>\n      <td>75,982</td>\n      <td>74,023</td>\n      <td>65,659</td>\n      <td>72,394</td>\n      <td>59,750</td>\n      <td>30,678</td>\n      <td>17,403</td>\n    </tr>\n    <tr>\n      <th>3</th>\n      <td>Total Vehicles entering Park</td>\n      <td>2017</td>\n      <td>8,873</td>\n      <td>15,853</td>\n      <td>47,326</td>\n      <td>57,145</td>\n      <td>67,916</td>\n      <td>68,984</td>\n      <td>69,555</td>\n      <td>63,890</td>\n      <td>66,209</td>\n      <td>55,339</td>\n      <td>30,194</td>\n      <td>18,374</td>\n    </tr>\n    <tr>\n      <th>4</th>\n      <td>Total Vehicles entering Park</td>\n      <td>2016</td>\n      <td>8,439</td>\n      <td>13,788</td>\n      <td>43,906</td>\n      <td>55,570</td>\n      <td>72,014</td>\n      <td>74,475</td>\n      <td>74,352</td>\n      <td>66,669</td>\n      <td>70,603</td>\n      <td>58,893</td>\n      <td>28,693</td>\n      <td>13,657</td>\n    </tr>\n  </tbody>\n</table>\n</div>"
     },
     "metadata": {},
     "execution_count": 4
    }
   ],
   "source": [
    "path=os.path.join(\"Resources\", \"arches.csv\")\n",
    "arches_np = pd.read_csv(path, header=[2], encoding='utf-8', delimiter=\",\")\n",
    "arches_np.head()"
   ]
  },
  {
   "cell_type": "code",
   "execution_count": 5,
   "metadata": {},
   "outputs": [
    {
     "output_type": "execute_result",
     "data": {
      "text/plain": [
       "               GroupDescription  Year     JAN     FEB     MAR     APR     MAY  \\\n",
       "0  Total Vehicles entering Park  2020  11,821  17,602  30,199       0   5,123   \n",
       "1  Total Vehicles entering Park  2019   8,957  12,404  48,683  62,075  77,937   \n",
       "2  Total Vehicles entering Park  2018  13,218  16,662  49,688  61,540  76,917   \n",
       "3  Total Vehicles entering Park  2017   8,873  15,853  47,326  57,145  67,916   \n",
       "4  Total Vehicles entering Park  2016   8,439  13,788  43,906  55,570  72,014   \n",
       "\n",
       "      JUN     JUL     AUG     SEP     OCT     NOV     DEC  \n",
       "0  60,626  71,777  60,873  75,433  74,032     NaN     NaN  \n",
       "1  80,044  75,595  66,414  72,792  60,779  30,459  16,367  \n",
       "2  75,982  74,023  65,659  72,394  59,750  30,678  17,403  \n",
       "3  68,984  69,555  63,890  66,209  55,339  30,194  18,374  \n",
       "4  74,475  74,352  66,669  70,603  58,893  28,693  13,657  "
      ],
      "text/html": "<div>\n<style scoped>\n    .dataframe tbody tr th:only-of-type {\n        vertical-align: middle;\n    }\n\n    .dataframe tbody tr th {\n        vertical-align: top;\n    }\n\n    .dataframe thead th {\n        text-align: right;\n    }\n</style>\n<table border=\"1\" class=\"dataframe\">\n  <thead>\n    <tr style=\"text-align: right;\">\n      <th></th>\n      <th>GroupDescription</th>\n      <th>Year</th>\n      <th>JAN</th>\n      <th>FEB</th>\n      <th>MAR</th>\n      <th>APR</th>\n      <th>MAY</th>\n      <th>JUN</th>\n      <th>JUL</th>\n      <th>AUG</th>\n      <th>SEP</th>\n      <th>OCT</th>\n      <th>NOV</th>\n      <th>DEC</th>\n    </tr>\n  </thead>\n  <tbody>\n    <tr>\n      <th>0</th>\n      <td>Total Vehicles entering Park</td>\n      <td>2020</td>\n      <td>11,821</td>\n      <td>17,602</td>\n      <td>30,199</td>\n      <td>0</td>\n      <td>5,123</td>\n      <td>60,626</td>\n      <td>71,777</td>\n      <td>60,873</td>\n      <td>75,433</td>\n      <td>74,032</td>\n      <td>NaN</td>\n      <td>NaN</td>\n    </tr>\n    <tr>\n      <th>1</th>\n      <td>Total Vehicles entering Park</td>\n      <td>2019</td>\n      <td>8,957</td>\n      <td>12,404</td>\n      <td>48,683</td>\n      <td>62,075</td>\n      <td>77,937</td>\n      <td>80,044</td>\n      <td>75,595</td>\n      <td>66,414</td>\n      <td>72,792</td>\n      <td>60,779</td>\n      <td>30,459</td>\n      <td>16,367</td>\n    </tr>\n    <tr>\n      <th>2</th>\n      <td>Total Vehicles entering Park</td>\n      <td>2018</td>\n      <td>13,218</td>\n      <td>16,662</td>\n      <td>49,688</td>\n      <td>61,540</td>\n      <td>76,917</td>\n      <td>75,982</td>\n      <td>74,023</td>\n      <td>65,659</td>\n      <td>72,394</td>\n      <td>59,750</td>\n      <td>30,678</td>\n      <td>17,403</td>\n    </tr>\n    <tr>\n      <th>3</th>\n      <td>Total Vehicles entering Park</td>\n      <td>2017</td>\n      <td>8,873</td>\n      <td>15,853</td>\n      <td>47,326</td>\n      <td>57,145</td>\n      <td>67,916</td>\n      <td>68,984</td>\n      <td>69,555</td>\n      <td>63,890</td>\n      <td>66,209</td>\n      <td>55,339</td>\n      <td>30,194</td>\n      <td>18,374</td>\n    </tr>\n    <tr>\n      <th>4</th>\n      <td>Total Vehicles entering Park</td>\n      <td>2016</td>\n      <td>8,439</td>\n      <td>13,788</td>\n      <td>43,906</td>\n      <td>55,570</td>\n      <td>72,014</td>\n      <td>74,475</td>\n      <td>74,352</td>\n      <td>66,669</td>\n      <td>70,603</td>\n      <td>58,893</td>\n      <td>28,693</td>\n      <td>13,657</td>\n    </tr>\n  </tbody>\n</table>\n</div>"
     },
     "metadata": {},
     "execution_count": 5
    }
   ],
   "source": [
    "\n",
    "arches = arches_np.loc[arches_np['Year'] >= 2010]\n",
    "arches.head()"
   ]
  },
  {
   "cell_type": "code",
   "execution_count": null,
   "metadata": {},
   "outputs": [],
   "source": []
  },
  {
   "cell_type": "code",
   "execution_count": 8,
   "metadata": {},
   "outputs": [
    {
     "output_type": "execute_result",
     "data": {
      "text/plain": [
       "                     GroupDescription  Year    JAN    FEB    MAR    APR  \\\n",
       "0  TRAFFIC COUNT AT INTERIOR ENTRANCE  2020  2,982  2,771  4,123  4,348   \n",
       "1  TRAFFIC COUNT AT INTERIOR ENTRANCE  2019  2,221  2,800  3,636  7,383   \n",
       "2  TRAFFIC COUNT AT INTERIOR ENTRANCE  2018  2,890  2,885  3,821  5,313   \n",
       "3  TRAFFIC COUNT AT INTERIOR ENTRANCE  2017  2,992  3,039  4,425  5,696   \n",
       "4  TRAFFIC COUNT AT INTERIOR ENTRANCE  2016  2,987  3,249  4,445  5,665   \n",
       "\n",
       "      MAY     JUN     JUL     AUG     SEP    OCT    NOV    DEC  \n",
       "0  10,960  19,095  24,575  25,407  12,240  5,766  3,660    NaN  \n",
       "1  13,881  23,521  27,472  24,153  18,784  7,938  3,878  3,074  \n",
       "2  18,391  30,177  21,741  18,793  14,448  6,032  3,226  2,790  \n",
       "3  11,169  19,363  22,681  22,633  14,255  7,233  3,939  2,790  \n",
       "4  10,952  18,928  23,074  21,641  15,450  7,846  4,036  2,979  "
      ],
      "text/html": "<div>\n<style scoped>\n    .dataframe tbody tr th:only-of-type {\n        vertical-align: middle;\n    }\n\n    .dataframe tbody tr th {\n        vertical-align: top;\n    }\n\n    .dataframe thead th {\n        text-align: right;\n    }\n</style>\n<table border=\"1\" class=\"dataframe\">\n  <thead>\n    <tr style=\"text-align: right;\">\n      <th></th>\n      <th>GroupDescription</th>\n      <th>Year</th>\n      <th>JAN</th>\n      <th>FEB</th>\n      <th>MAR</th>\n      <th>APR</th>\n      <th>MAY</th>\n      <th>JUN</th>\n      <th>JUL</th>\n      <th>AUG</th>\n      <th>SEP</th>\n      <th>OCT</th>\n      <th>NOV</th>\n      <th>DEC</th>\n    </tr>\n  </thead>\n  <tbody>\n    <tr>\n      <th>0</th>\n      <td>TRAFFIC COUNT AT INTERIOR ENTRANCE</td>\n      <td>2020</td>\n      <td>2,982</td>\n      <td>2,771</td>\n      <td>4,123</td>\n      <td>4,348</td>\n      <td>10,960</td>\n      <td>19,095</td>\n      <td>24,575</td>\n      <td>25,407</td>\n      <td>12,240</td>\n      <td>5,766</td>\n      <td>3,660</td>\n      <td>NaN</td>\n    </tr>\n    <tr>\n      <th>1</th>\n      <td>TRAFFIC COUNT AT INTERIOR ENTRANCE</td>\n      <td>2019</td>\n      <td>2,221</td>\n      <td>2,800</td>\n      <td>3,636</td>\n      <td>7,383</td>\n      <td>13,881</td>\n      <td>23,521</td>\n      <td>27,472</td>\n      <td>24,153</td>\n      <td>18,784</td>\n      <td>7,938</td>\n      <td>3,878</td>\n      <td>3,074</td>\n    </tr>\n    <tr>\n      <th>2</th>\n      <td>TRAFFIC COUNT AT INTERIOR ENTRANCE</td>\n      <td>2018</td>\n      <td>2,890</td>\n      <td>2,885</td>\n      <td>3,821</td>\n      <td>5,313</td>\n      <td>18,391</td>\n      <td>30,177</td>\n      <td>21,741</td>\n      <td>18,793</td>\n      <td>14,448</td>\n      <td>6,032</td>\n      <td>3,226</td>\n      <td>2,790</td>\n    </tr>\n    <tr>\n      <th>3</th>\n      <td>TRAFFIC COUNT AT INTERIOR ENTRANCE</td>\n      <td>2017</td>\n      <td>2,992</td>\n      <td>3,039</td>\n      <td>4,425</td>\n      <td>5,696</td>\n      <td>11,169</td>\n      <td>19,363</td>\n      <td>22,681</td>\n      <td>22,633</td>\n      <td>14,255</td>\n      <td>7,233</td>\n      <td>3,939</td>\n      <td>2,790</td>\n    </tr>\n    <tr>\n      <th>4</th>\n      <td>TRAFFIC COUNT AT INTERIOR ENTRANCE</td>\n      <td>2016</td>\n      <td>2,987</td>\n      <td>3,249</td>\n      <td>4,445</td>\n      <td>5,665</td>\n      <td>10,952</td>\n      <td>18,928</td>\n      <td>23,074</td>\n      <td>21,641</td>\n      <td>15,450</td>\n      <td>7,846</td>\n      <td>4,036</td>\n      <td>2,979</td>\n    </tr>\n  </tbody>\n</table>\n</div>"
     },
     "metadata": {},
     "execution_count": 8
    }
   ],
   "source": [
    "path=os.path.join(\"Resources\", \"badlands.csv\")\n",
    "badlands = pd.read_csv(path, header=[2], encoding='utf-8', delimiter=\",\")\n",
    "badlands.head()"
   ]
  },
  {
   "cell_type": "code",
   "execution_count": 9,
   "metadata": {},
   "outputs": [
    {
     "output_type": "execute_result",
     "data": {
      "text/plain": [
       "                     GroupDescription  Year    JAN    FEB     MAR    APR  \\\n",
       "0  TRAFFIC COUNT AT ROUTE 11-PERS.GAP  2020  6,080  6,462   7,736      0   \n",
       "1  TRAFFIC COUNT AT ROUTE 11-PERS.GAP  2019  3,392  5,791  11,143  7,253   \n",
       "2  TRAFFIC COUNT AT ROUTE 11-PERS.GAP  2018  4,535  5,517   9,871  5,968   \n",
       "3  TRAFFIC COUNT AT ROUTE 11-PERS.GAP  2017  5,037  5,533  10,009  6,394   \n",
       "4  TRAFFIC COUNT AT ROUTE 11-PERS.GAP  2016  4,322  4,922   9,136  5,662   \n",
       "\n",
       "     MAY    JUN    JUL    AUG    SEP    OCT    NOV    DEC  \n",
       "0      0  3,085      0  1,463  3,110  5,747    NaN    NaN  \n",
       "1  5,227  3,319  3,120  2,648  2,946  5,687  6,682  6,403  \n",
       "2  4,945  2,877  2,773  2,500  2,723  4,697  6,046  5,403  \n",
       "3  5,135  3,172  2,953  2,391  2,723  4,527  6,182  5,539  \n",
       "4  5,109  3,266  2,727  2,300  2,800  4,948  6,048  5,714  "
      ],
      "text/html": "<div>\n<style scoped>\n    .dataframe tbody tr th:only-of-type {\n        vertical-align: middle;\n    }\n\n    .dataframe tbody tr th {\n        vertical-align: top;\n    }\n\n    .dataframe thead th {\n        text-align: right;\n    }\n</style>\n<table border=\"1\" class=\"dataframe\">\n  <thead>\n    <tr style=\"text-align: right;\">\n      <th></th>\n      <th>GroupDescription</th>\n      <th>Year</th>\n      <th>JAN</th>\n      <th>FEB</th>\n      <th>MAR</th>\n      <th>APR</th>\n      <th>MAY</th>\n      <th>JUN</th>\n      <th>JUL</th>\n      <th>AUG</th>\n      <th>SEP</th>\n      <th>OCT</th>\n      <th>NOV</th>\n      <th>DEC</th>\n    </tr>\n  </thead>\n  <tbody>\n    <tr>\n      <th>0</th>\n      <td>TRAFFIC COUNT AT ROUTE 11-PERS.GAP</td>\n      <td>2020</td>\n      <td>6,080</td>\n      <td>6,462</td>\n      <td>7,736</td>\n      <td>0</td>\n      <td>0</td>\n      <td>3,085</td>\n      <td>0</td>\n      <td>1,463</td>\n      <td>3,110</td>\n      <td>5,747</td>\n      <td>NaN</td>\n      <td>NaN</td>\n    </tr>\n    <tr>\n      <th>1</th>\n      <td>TRAFFIC COUNT AT ROUTE 11-PERS.GAP</td>\n      <td>2019</td>\n      <td>3,392</td>\n      <td>5,791</td>\n      <td>11,143</td>\n      <td>7,253</td>\n      <td>5,227</td>\n      <td>3,319</td>\n      <td>3,120</td>\n      <td>2,648</td>\n      <td>2,946</td>\n      <td>5,687</td>\n      <td>6,682</td>\n      <td>6,403</td>\n    </tr>\n    <tr>\n      <th>2</th>\n      <td>TRAFFIC COUNT AT ROUTE 11-PERS.GAP</td>\n      <td>2018</td>\n      <td>4,535</td>\n      <td>5,517</td>\n      <td>9,871</td>\n      <td>5,968</td>\n      <td>4,945</td>\n      <td>2,877</td>\n      <td>2,773</td>\n      <td>2,500</td>\n      <td>2,723</td>\n      <td>4,697</td>\n      <td>6,046</td>\n      <td>5,403</td>\n    </tr>\n    <tr>\n      <th>3</th>\n      <td>TRAFFIC COUNT AT ROUTE 11-PERS.GAP</td>\n      <td>2017</td>\n      <td>5,037</td>\n      <td>5,533</td>\n      <td>10,009</td>\n      <td>6,394</td>\n      <td>5,135</td>\n      <td>3,172</td>\n      <td>2,953</td>\n      <td>2,391</td>\n      <td>2,723</td>\n      <td>4,527</td>\n      <td>6,182</td>\n      <td>5,539</td>\n    </tr>\n    <tr>\n      <th>4</th>\n      <td>TRAFFIC COUNT AT ROUTE 11-PERS.GAP</td>\n      <td>2016</td>\n      <td>4,322</td>\n      <td>4,922</td>\n      <td>9,136</td>\n      <td>5,662</td>\n      <td>5,109</td>\n      <td>3,266</td>\n      <td>2,727</td>\n      <td>2,300</td>\n      <td>2,800</td>\n      <td>4,948</td>\n      <td>6,048</td>\n      <td>5,714</td>\n    </tr>\n  </tbody>\n</table>\n</div>"
     },
     "metadata": {},
     "execution_count": 9
    }
   ],
   "source": [
    "path=os.path.join(\"Resources\", \"big_bend.csv\")\n",
    "big_bend = pd.read_csv(path, header=[2], encoding='utf-8', delimiter=\",\")\n",
    "big_bend.head()"
   ]
  },
  {
   "cell_type": "code",
   "execution_count": 7,
   "metadata": {},
   "outputs": [
    {
     "output_type": "execute_result",
     "data": {
      "text/plain": [
       "                            GroupDescription  Year JAN FEB MAR    APR    MAY  \\\n",
       "0   TRAFFIC COUNT AT NORTH RIM DRIVE COUNTER  2020   0   0   0      0  1,433   \n",
       "1   TRAFFIC COUNT AT NORTH RIM DRIVE COUNTER  2019   0   0   0      0    770   \n",
       "2   TRAFFIC COUNT AT NORTH RIM DRIVE COUNTER  2018   0   0   0    614  1,790   \n",
       "3   TRAFFIC COUNT AT NORTH RIM DRIVE COUNTER  2017   0   0   0    711  1,535   \n",
       "4   TRAFFIC COUNT AT NORTH RIM DRIVE COUNTER  2016   0   0   0  1,560  3,240   \n",
       "5   TRAFFIC COUNT AT NORTH RIM DRIVE COUNTER  2015   0   0   0    950  3,340   \n",
       "6   TRAFFIC COUNT AT NORTH RIM DRIVE COUNTER  2014   0   0   0  1,232  3,233   \n",
       "7   TRAFFIC COUNT AT NORTH RIM DRIVE COUNTER  2013  10   0   0    275  2,124   \n",
       "8   TRAFFIC COUNT AT NORTH RIM DRIVE COUNTER  2012   0   0   0  1,854  1,821   \n",
       "9   TRAFFIC COUNT AT NORTH RIM DRIVE COUNTER  2011   5   0  48    743  1,681   \n",
       "10  TRAFFIC COUNT AT NORTH RIM DRIVE COUNTER  2010   5   8  22    578    589   \n",
       "\n",
       "      JUN    JUL    AUG    SEP    OCT  NOV  DEC  \n",
       "0   1,969  3,431  2,076  3,034  2,594  NaN  NaN  \n",
       "1   1,147    977    843  1,317    664  916    0  \n",
       "2   1,810    943    825  1,113  1,134  931    0  \n",
       "3   2,018  1,734  1,844  2,242  1,286  772  203  \n",
       "4   3,725  2,320  2,631  2,199  1,355  872    0  \n",
       "5   2,179  2,832  2,559  2,669  1,785  395    0  \n",
       "6   2,100  2,760  2,480  2,654  1,652    0    0  \n",
       "7   1,990  2,668  2,519  1,827    230    0    2  \n",
       "8   4,398  3,462  2,470  2,835  1,368    0    0  \n",
       "9   2,656  3,502  2,832  1,984  1,859    0    4  \n",
       "10  1,033  2,386      0  2,085  1,731  238    0  "
      ],
      "text/html": "<div>\n<style scoped>\n    .dataframe tbody tr th:only-of-type {\n        vertical-align: middle;\n    }\n\n    .dataframe tbody tr th {\n        vertical-align: top;\n    }\n\n    .dataframe thead th {\n        text-align: right;\n    }\n</style>\n<table border=\"1\" class=\"dataframe\">\n  <thead>\n    <tr style=\"text-align: right;\">\n      <th></th>\n      <th>GroupDescription</th>\n      <th>Year</th>\n      <th>JAN</th>\n      <th>FEB</th>\n      <th>MAR</th>\n      <th>APR</th>\n      <th>MAY</th>\n      <th>JUN</th>\n      <th>JUL</th>\n      <th>AUG</th>\n      <th>SEP</th>\n      <th>OCT</th>\n      <th>NOV</th>\n      <th>DEC</th>\n    </tr>\n  </thead>\n  <tbody>\n    <tr>\n      <th>0</th>\n      <td>TRAFFIC COUNT AT NORTH RIM DRIVE COUNTER</td>\n      <td>2020</td>\n      <td>0</td>\n      <td>0</td>\n      <td>0</td>\n      <td>0</td>\n      <td>1,433</td>\n      <td>1,969</td>\n      <td>3,431</td>\n      <td>2,076</td>\n      <td>3,034</td>\n      <td>2,594</td>\n      <td>NaN</td>\n      <td>NaN</td>\n    </tr>\n    <tr>\n      <th>1</th>\n      <td>TRAFFIC COUNT AT NORTH RIM DRIVE COUNTER</td>\n      <td>2019</td>\n      <td>0</td>\n      <td>0</td>\n      <td>0</td>\n      <td>0</td>\n      <td>770</td>\n      <td>1,147</td>\n      <td>977</td>\n      <td>843</td>\n      <td>1,317</td>\n      <td>664</td>\n      <td>916</td>\n      <td>0</td>\n    </tr>\n    <tr>\n      <th>2</th>\n      <td>TRAFFIC COUNT AT NORTH RIM DRIVE COUNTER</td>\n      <td>2018</td>\n      <td>0</td>\n      <td>0</td>\n      <td>0</td>\n      <td>614</td>\n      <td>1,790</td>\n      <td>1,810</td>\n      <td>943</td>\n      <td>825</td>\n      <td>1,113</td>\n      <td>1,134</td>\n      <td>931</td>\n      <td>0</td>\n    </tr>\n    <tr>\n      <th>3</th>\n      <td>TRAFFIC COUNT AT NORTH RIM DRIVE COUNTER</td>\n      <td>2017</td>\n      <td>0</td>\n      <td>0</td>\n      <td>0</td>\n      <td>711</td>\n      <td>1,535</td>\n      <td>2,018</td>\n      <td>1,734</td>\n      <td>1,844</td>\n      <td>2,242</td>\n      <td>1,286</td>\n      <td>772</td>\n      <td>203</td>\n    </tr>\n    <tr>\n      <th>4</th>\n      <td>TRAFFIC COUNT AT NORTH RIM DRIVE COUNTER</td>\n      <td>2016</td>\n      <td>0</td>\n      <td>0</td>\n      <td>0</td>\n      <td>1,560</td>\n      <td>3,240</td>\n      <td>3,725</td>\n      <td>2,320</td>\n      <td>2,631</td>\n      <td>2,199</td>\n      <td>1,355</td>\n      <td>872</td>\n      <td>0</td>\n    </tr>\n    <tr>\n      <th>5</th>\n      <td>TRAFFIC COUNT AT NORTH RIM DRIVE COUNTER</td>\n      <td>2015</td>\n      <td>0</td>\n      <td>0</td>\n      <td>0</td>\n      <td>950</td>\n      <td>3,340</td>\n      <td>2,179</td>\n      <td>2,832</td>\n      <td>2,559</td>\n      <td>2,669</td>\n      <td>1,785</td>\n      <td>395</td>\n      <td>0</td>\n    </tr>\n    <tr>\n      <th>6</th>\n      <td>TRAFFIC COUNT AT NORTH RIM DRIVE COUNTER</td>\n      <td>2014</td>\n      <td>0</td>\n      <td>0</td>\n      <td>0</td>\n      <td>1,232</td>\n      <td>3,233</td>\n      <td>2,100</td>\n      <td>2,760</td>\n      <td>2,480</td>\n      <td>2,654</td>\n      <td>1,652</td>\n      <td>0</td>\n      <td>0</td>\n    </tr>\n    <tr>\n      <th>7</th>\n      <td>TRAFFIC COUNT AT NORTH RIM DRIVE COUNTER</td>\n      <td>2013</td>\n      <td>10</td>\n      <td>0</td>\n      <td>0</td>\n      <td>275</td>\n      <td>2,124</td>\n      <td>1,990</td>\n      <td>2,668</td>\n      <td>2,519</td>\n      <td>1,827</td>\n      <td>230</td>\n      <td>0</td>\n      <td>2</td>\n    </tr>\n    <tr>\n      <th>8</th>\n      <td>TRAFFIC COUNT AT NORTH RIM DRIVE COUNTER</td>\n      <td>2012</td>\n      <td>0</td>\n      <td>0</td>\n      <td>0</td>\n      <td>1,854</td>\n      <td>1,821</td>\n      <td>4,398</td>\n      <td>3,462</td>\n      <td>2,470</td>\n      <td>2,835</td>\n      <td>1,368</td>\n      <td>0</td>\n      <td>0</td>\n    </tr>\n    <tr>\n      <th>9</th>\n      <td>TRAFFIC COUNT AT NORTH RIM DRIVE COUNTER</td>\n      <td>2011</td>\n      <td>5</td>\n      <td>0</td>\n      <td>48</td>\n      <td>743</td>\n      <td>1,681</td>\n      <td>2,656</td>\n      <td>3,502</td>\n      <td>2,832</td>\n      <td>1,984</td>\n      <td>1,859</td>\n      <td>0</td>\n      <td>4</td>\n    </tr>\n    <tr>\n      <th>10</th>\n      <td>TRAFFIC COUNT AT NORTH RIM DRIVE COUNTER</td>\n      <td>2010</td>\n      <td>5</td>\n      <td>8</td>\n      <td>22</td>\n      <td>578</td>\n      <td>589</td>\n      <td>1,033</td>\n      <td>2,386</td>\n      <td>0</td>\n      <td>2,085</td>\n      <td>1,731</td>\n      <td>238</td>\n      <td>0</td>\n    </tr>\n  </tbody>\n</table>\n</div>"
     },
     "metadata": {},
     "execution_count": 7
    }
   ],
   "source": [
    "path=os.path.join(\"Resources\", \"black_canyon.csv\")\n",
    "black_canyon = pd.read_csv(path, header=[2], encoding='utf-8', delimiter=\",\")\n",
    "black_canyon.head()\n",
    "\n",
    "\n",
    "black_canyon = black_canyon.loc[black_canyon['Year'] >= 2010]\n",
    "black_canyon.head(11)"
   ]
  },
  {
   "cell_type": "code",
   "execution_count": 11,
   "metadata": {},
   "outputs": [
    {
     "output_type": "execute_result",
     "data": {
      "text/plain": [
       "                 GroupDescription  Year JAN  FEB  MAR    APR    MAY  JUN  JUL  \\\n",
       "0  TRAFFIC COUNT AT ELEPHANT HILL  2020   0    0  458      0    130  628  322   \n",
       "1  TRAFFIC COUNT AT ELEPHANT HILL  2019  60  112  500  1,510      0  600  192   \n",
       "2  TRAFFIC COUNT AT ELEPHANT HILL  2018  16   46  892  1,030  1,120  124  296   \n",
       "3  TRAFFIC COUNT AT ELEPHANT HILL  2017  16   58  622  1,136    520  204  194   \n",
       "4  TRAFFIC COUNT AT ELEPHANT HILL  2016   0    0  526    906    488  224  160   \n",
       "\n",
       "   AUG  SEP    OCT  NOV  DEC  \n",
       "0  328  724  1,296  NaN  NaN  \n",
       "1  138  500    710  348   88  \n",
       "2  136  302    278  288   44  \n",
       "3  116  308    386  138   56  \n",
       "4  130  272    348  132   38  "
      ],
      "text/html": "<div>\n<style scoped>\n    .dataframe tbody tr th:only-of-type {\n        vertical-align: middle;\n    }\n\n    .dataframe tbody tr th {\n        vertical-align: top;\n    }\n\n    .dataframe thead th {\n        text-align: right;\n    }\n</style>\n<table border=\"1\" class=\"dataframe\">\n  <thead>\n    <tr style=\"text-align: right;\">\n      <th></th>\n      <th>GroupDescription</th>\n      <th>Year</th>\n      <th>JAN</th>\n      <th>FEB</th>\n      <th>MAR</th>\n      <th>APR</th>\n      <th>MAY</th>\n      <th>JUN</th>\n      <th>JUL</th>\n      <th>AUG</th>\n      <th>SEP</th>\n      <th>OCT</th>\n      <th>NOV</th>\n      <th>DEC</th>\n    </tr>\n  </thead>\n  <tbody>\n    <tr>\n      <th>0</th>\n      <td>TRAFFIC COUNT AT ELEPHANT HILL</td>\n      <td>2020</td>\n      <td>0</td>\n      <td>0</td>\n      <td>458</td>\n      <td>0</td>\n      <td>130</td>\n      <td>628</td>\n      <td>322</td>\n      <td>328</td>\n      <td>724</td>\n      <td>1,296</td>\n      <td>NaN</td>\n      <td>NaN</td>\n    </tr>\n    <tr>\n      <th>1</th>\n      <td>TRAFFIC COUNT AT ELEPHANT HILL</td>\n      <td>2019</td>\n      <td>60</td>\n      <td>112</td>\n      <td>500</td>\n      <td>1,510</td>\n      <td>0</td>\n      <td>600</td>\n      <td>192</td>\n      <td>138</td>\n      <td>500</td>\n      <td>710</td>\n      <td>348</td>\n      <td>88</td>\n    </tr>\n    <tr>\n      <th>2</th>\n      <td>TRAFFIC COUNT AT ELEPHANT HILL</td>\n      <td>2018</td>\n      <td>16</td>\n      <td>46</td>\n      <td>892</td>\n      <td>1,030</td>\n      <td>1,120</td>\n      <td>124</td>\n      <td>296</td>\n      <td>136</td>\n      <td>302</td>\n      <td>278</td>\n      <td>288</td>\n      <td>44</td>\n    </tr>\n    <tr>\n      <th>3</th>\n      <td>TRAFFIC COUNT AT ELEPHANT HILL</td>\n      <td>2017</td>\n      <td>16</td>\n      <td>58</td>\n      <td>622</td>\n      <td>1,136</td>\n      <td>520</td>\n      <td>204</td>\n      <td>194</td>\n      <td>116</td>\n      <td>308</td>\n      <td>386</td>\n      <td>138</td>\n      <td>56</td>\n    </tr>\n    <tr>\n      <th>4</th>\n      <td>TRAFFIC COUNT AT ELEPHANT HILL</td>\n      <td>2016</td>\n      <td>0</td>\n      <td>0</td>\n      <td>526</td>\n      <td>906</td>\n      <td>488</td>\n      <td>224</td>\n      <td>160</td>\n      <td>130</td>\n      <td>272</td>\n      <td>348</td>\n      <td>132</td>\n      <td>38</td>\n    </tr>\n  </tbody>\n</table>\n</div>"
     },
     "metadata": {},
     "execution_count": 11
    }
   ],
   "source": [
    "path=os.path.join(\"Resources\", \"canyonlands.csv\")\n",
    "canyonlands = pd.read_csv(path, header=[2], encoding='utf-8', delimiter=\",\")\n",
    "canyonlands.head()\n",
    "\n",
    "\n",
    "canyonlands = canyonlands.loc[canyonlands['Year'] >= 2010]\n",
    "canyonlands.head(11)"
   ]
  },
  {
   "cell_type": "code",
   "execution_count": 12,
   "metadata": {},
   "outputs": [
    {
     "output_type": "execute_result",
     "data": {
      "text/plain": [
       "                  GroupDescription  Year  JAN  FEB    MAR    APR    MAY  \\\n",
       "0  Total Traffic Count at Bullfrog  2020  258  258    610    671  1,460   \n",
       "1  Total Traffic Count at Bullfrog  2019  157  447  2,595    174  1,639   \n",
       "2  Total Traffic Count at Bullfrog  2018  189  276    907  1,578  1,116   \n",
       "3  Total Traffic Count at Bullfrog  2017  128  208    684  1,080  1,129   \n",
       "4  Total Traffic Count at Bullfrog  2016  112  222    565    740    990   \n",
       "\n",
       "     JUN  JUL  AUG    SEP    OCT  NOV  DEC  \n",
       "0  1,166  450  664  1,814  1,854  760  NaN  \n",
       "1    807  551  823    643  1,253  555  575  \n",
       "2    751  564  780    798    605  548  495  \n",
       "3    952  608  667    620  1,713  133  262  \n",
       "4    564  504  487    609    854  567  848  "
      ],
      "text/html": "<div>\n<style scoped>\n    .dataframe tbody tr th:only-of-type {\n        vertical-align: middle;\n    }\n\n    .dataframe tbody tr th {\n        vertical-align: top;\n    }\n\n    .dataframe thead th {\n        text-align: right;\n    }\n</style>\n<table border=\"1\" class=\"dataframe\">\n  <thead>\n    <tr style=\"text-align: right;\">\n      <th></th>\n      <th>GroupDescription</th>\n      <th>Year</th>\n      <th>JAN</th>\n      <th>FEB</th>\n      <th>MAR</th>\n      <th>APR</th>\n      <th>MAY</th>\n      <th>JUN</th>\n      <th>JUL</th>\n      <th>AUG</th>\n      <th>SEP</th>\n      <th>OCT</th>\n      <th>NOV</th>\n      <th>DEC</th>\n    </tr>\n  </thead>\n  <tbody>\n    <tr>\n      <th>0</th>\n      <td>Total Traffic Count at Bullfrog</td>\n      <td>2020</td>\n      <td>258</td>\n      <td>258</td>\n      <td>610</td>\n      <td>671</td>\n      <td>1,460</td>\n      <td>1,166</td>\n      <td>450</td>\n      <td>664</td>\n      <td>1,814</td>\n      <td>1,854</td>\n      <td>760</td>\n      <td>NaN</td>\n    </tr>\n    <tr>\n      <th>1</th>\n      <td>Total Traffic Count at Bullfrog</td>\n      <td>2019</td>\n      <td>157</td>\n      <td>447</td>\n      <td>2,595</td>\n      <td>174</td>\n      <td>1,639</td>\n      <td>807</td>\n      <td>551</td>\n      <td>823</td>\n      <td>643</td>\n      <td>1,253</td>\n      <td>555</td>\n      <td>575</td>\n    </tr>\n    <tr>\n      <th>2</th>\n      <td>Total Traffic Count at Bullfrog</td>\n      <td>2018</td>\n      <td>189</td>\n      <td>276</td>\n      <td>907</td>\n      <td>1,578</td>\n      <td>1,116</td>\n      <td>751</td>\n      <td>564</td>\n      <td>780</td>\n      <td>798</td>\n      <td>605</td>\n      <td>548</td>\n      <td>495</td>\n    </tr>\n    <tr>\n      <th>3</th>\n      <td>Total Traffic Count at Bullfrog</td>\n      <td>2017</td>\n      <td>128</td>\n      <td>208</td>\n      <td>684</td>\n      <td>1,080</td>\n      <td>1,129</td>\n      <td>952</td>\n      <td>608</td>\n      <td>667</td>\n      <td>620</td>\n      <td>1,713</td>\n      <td>133</td>\n      <td>262</td>\n    </tr>\n    <tr>\n      <th>4</th>\n      <td>Total Traffic Count at Bullfrog</td>\n      <td>2016</td>\n      <td>112</td>\n      <td>222</td>\n      <td>565</td>\n      <td>740</td>\n      <td>990</td>\n      <td>564</td>\n      <td>504</td>\n      <td>487</td>\n      <td>609</td>\n      <td>854</td>\n      <td>567</td>\n      <td>848</td>\n    </tr>\n  </tbody>\n</table>\n</div>"
     },
     "metadata": {},
     "execution_count": 12
    }
   ],
   "source": [
    "path=os.path.join(\"Resources\", \"capitol_reef.csv\")\n",
    "capitol_reef = pd.read_csv(path, header=[2], encoding='utf-8', delimiter=\",\")\n",
    "capitol_reef.head()"
   ]
  },
  {
   "cell_type": "code",
   "execution_count": 8,
   "metadata": {},
   "outputs": [
    {
     "output_type": "execute_result",
     "data": {
      "text/plain": [
       "                     GroupDescription  Year     JAN     FEB     MAR     APR  \\\n",
       "0   TRAFFIC COUNT AT ENTRANCE STATION  2020  12,773  14,838  19,539   1,843   \n",
       "1   TRAFFIC COUNT AT ENTRANCE STATION  2019  13,352  10,641  29,953  60,159   \n",
       "2   TRAFFIC COUNT AT ENTRANCE STATION  2018  12,661  13,928  39,295  61,372   \n",
       "3   TRAFFIC COUNT AT ENTRANCE STATION  2017  10,063  12,093  32,473  46,060   \n",
       "4   TRAFFIC COUNT AT ENTRANCE STATION  2016   9,423  12,677  36,241  50,679   \n",
       "5   TRAFFIC COUNT AT ENTRANCE STATION  2015   8,486  11,056  24,449  48,077   \n",
       "6   TRAFFIC COUNT AT ENTRANCE STATION  2014   7,259   8,136  21,558  39,829   \n",
       "7   TRAFFIC COUNT AT ENTRANCE STATION  2013   5,846   6,717  20,643  35,204   \n",
       "8   TRAFFIC COUNT AT ENTRANCE STATION  2012   6,402   7,164  16,823  37,408   \n",
       "9   TRAFFIC COUNT AT ENTRANCE STATION  2011   5,614   5,938  14,311  32,492   \n",
       "10  TRAFFIC COUNT AT ENTRANCE STATION  2010   5,390   6,132  15,423  30,010   \n",
       "\n",
       "       MAY     JUN     JUL     AUG     SEP     OCT     NOV     DEC  \n",
       "0   31,079  61,326  68,488  62,073  81,766  85,030  34,418     NaN  \n",
       "1   78,907  82,213  84,178  83,917  86,281  68,963  26,118  16,922  \n",
       "2   83,011  82,930  86,940  82,001  85,188  64,591  28,846  17,500  \n",
       "3   80,168  74,122  85,434  85,862  82,897  65,127  29,303  19,639  \n",
       "4   76,701  82,180  84,035  82,617  82,666  66,588  26,777  15,244  \n",
       "5   67,515  93,499  80,986  76,505  75,076  55,799  18,957  13,432  \n",
       "6   57,567  67,261  70,366  74,334  67,677  50,602  18,621  11,642  \n",
       "7   59,794  65,942  72,869  67,125  63,500  26,696  15,000   9,791  \n",
       "8   56,659  61,512  68,718  66,480  73,007  44,813  14,620   8,793  \n",
       "9   50,398  62,224  69,159  69,705  61,101  42,338  13,041   8,349  \n",
       "10  57,375  59,394  75,700  68,304  65,501  34,543  12,248   6,480  "
      ],
      "text/html": "<div>\n<style scoped>\n    .dataframe tbody tr th:only-of-type {\n        vertical-align: middle;\n    }\n\n    .dataframe tbody tr th {\n        vertical-align: top;\n    }\n\n    .dataframe thead th {\n        text-align: right;\n    }\n</style>\n<table border=\"1\" class=\"dataframe\">\n  <thead>\n    <tr style=\"text-align: right;\">\n      <th></th>\n      <th>GroupDescription</th>\n      <th>Year</th>\n      <th>JAN</th>\n      <th>FEB</th>\n      <th>MAR</th>\n      <th>APR</th>\n      <th>MAY</th>\n      <th>JUN</th>\n      <th>JUL</th>\n      <th>AUG</th>\n      <th>SEP</th>\n      <th>OCT</th>\n      <th>NOV</th>\n      <th>DEC</th>\n    </tr>\n  </thead>\n  <tbody>\n    <tr>\n      <th>0</th>\n      <td>TRAFFIC COUNT AT ENTRANCE STATION</td>\n      <td>2020</td>\n      <td>12,773</td>\n      <td>14,838</td>\n      <td>19,539</td>\n      <td>1,843</td>\n      <td>31,079</td>\n      <td>61,326</td>\n      <td>68,488</td>\n      <td>62,073</td>\n      <td>81,766</td>\n      <td>85,030</td>\n      <td>34,418</td>\n      <td>NaN</td>\n    </tr>\n    <tr>\n      <th>1</th>\n      <td>TRAFFIC COUNT AT ENTRANCE STATION</td>\n      <td>2019</td>\n      <td>13,352</td>\n      <td>10,641</td>\n      <td>29,953</td>\n      <td>60,159</td>\n      <td>78,907</td>\n      <td>82,213</td>\n      <td>84,178</td>\n      <td>83,917</td>\n      <td>86,281</td>\n      <td>68,963</td>\n      <td>26,118</td>\n      <td>16,922</td>\n    </tr>\n    <tr>\n      <th>2</th>\n      <td>TRAFFIC COUNT AT ENTRANCE STATION</td>\n      <td>2018</td>\n      <td>12,661</td>\n      <td>13,928</td>\n      <td>39,295</td>\n      <td>61,372</td>\n      <td>83,011</td>\n      <td>82,930</td>\n      <td>86,940</td>\n      <td>82,001</td>\n      <td>85,188</td>\n      <td>64,591</td>\n      <td>28,846</td>\n      <td>17,500</td>\n    </tr>\n    <tr>\n      <th>3</th>\n      <td>TRAFFIC COUNT AT ENTRANCE STATION</td>\n      <td>2017</td>\n      <td>10,063</td>\n      <td>12,093</td>\n      <td>32,473</td>\n      <td>46,060</td>\n      <td>80,168</td>\n      <td>74,122</td>\n      <td>85,434</td>\n      <td>85,862</td>\n      <td>82,897</td>\n      <td>65,127</td>\n      <td>29,303</td>\n      <td>19,639</td>\n    </tr>\n    <tr>\n      <th>4</th>\n      <td>TRAFFIC COUNT AT ENTRANCE STATION</td>\n      <td>2016</td>\n      <td>9,423</td>\n      <td>12,677</td>\n      <td>36,241</td>\n      <td>50,679</td>\n      <td>76,701</td>\n      <td>82,180</td>\n      <td>84,035</td>\n      <td>82,617</td>\n      <td>82,666</td>\n      <td>66,588</td>\n      <td>26,777</td>\n      <td>15,244</td>\n    </tr>\n    <tr>\n      <th>5</th>\n      <td>TRAFFIC COUNT AT ENTRANCE STATION</td>\n      <td>2015</td>\n      <td>8,486</td>\n      <td>11,056</td>\n      <td>24,449</td>\n      <td>48,077</td>\n      <td>67,515</td>\n      <td>93,499</td>\n      <td>80,986</td>\n      <td>76,505</td>\n      <td>75,076</td>\n      <td>55,799</td>\n      <td>18,957</td>\n      <td>13,432</td>\n    </tr>\n    <tr>\n      <th>6</th>\n      <td>TRAFFIC COUNT AT ENTRANCE STATION</td>\n      <td>2014</td>\n      <td>7,259</td>\n      <td>8,136</td>\n      <td>21,558</td>\n      <td>39,829</td>\n      <td>57,567</td>\n      <td>67,261</td>\n      <td>70,366</td>\n      <td>74,334</td>\n      <td>67,677</td>\n      <td>50,602</td>\n      <td>18,621</td>\n      <td>11,642</td>\n    </tr>\n    <tr>\n      <th>7</th>\n      <td>TRAFFIC COUNT AT ENTRANCE STATION</td>\n      <td>2013</td>\n      <td>5,846</td>\n      <td>6,717</td>\n      <td>20,643</td>\n      <td>35,204</td>\n      <td>59,794</td>\n      <td>65,942</td>\n      <td>72,869</td>\n      <td>67,125</td>\n      <td>63,500</td>\n      <td>26,696</td>\n      <td>15,000</td>\n      <td>9,791</td>\n    </tr>\n    <tr>\n      <th>8</th>\n      <td>TRAFFIC COUNT AT ENTRANCE STATION</td>\n      <td>2012</td>\n      <td>6,402</td>\n      <td>7,164</td>\n      <td>16,823</td>\n      <td>37,408</td>\n      <td>56,659</td>\n      <td>61,512</td>\n      <td>68,718</td>\n      <td>66,480</td>\n      <td>73,007</td>\n      <td>44,813</td>\n      <td>14,620</td>\n      <td>8,793</td>\n    </tr>\n    <tr>\n      <th>9</th>\n      <td>TRAFFIC COUNT AT ENTRANCE STATION</td>\n      <td>2011</td>\n      <td>5,614</td>\n      <td>5,938</td>\n      <td>14,311</td>\n      <td>32,492</td>\n      <td>50,398</td>\n      <td>62,224</td>\n      <td>69,159</td>\n      <td>69,705</td>\n      <td>61,101</td>\n      <td>42,338</td>\n      <td>13,041</td>\n      <td>8,349</td>\n    </tr>\n    <tr>\n      <th>10</th>\n      <td>TRAFFIC COUNT AT ENTRANCE STATION</td>\n      <td>2010</td>\n      <td>5,390</td>\n      <td>6,132</td>\n      <td>15,423</td>\n      <td>30,010</td>\n      <td>57,375</td>\n      <td>59,394</td>\n      <td>75,700</td>\n      <td>68,304</td>\n      <td>65,501</td>\n      <td>34,543</td>\n      <td>12,248</td>\n      <td>6,480</td>\n    </tr>\n  </tbody>\n</table>\n</div>"
     },
     "metadata": {},
     "execution_count": 8
    }
   ],
   "source": [
    "path=os.path.join(\"Resources\", \"bryce_canyon.csv\")\n",
    "bryce_canyon = pd.read_csv(path, header=[2], encoding='utf-8', delimiter=\",\")\n",
    "bryce_canyon.head()\n",
    "\n",
    "\n",
    "bryce_canyon = bryce_canyon.loc[bryce_canyon['Year'] >= 2010]\n",
    "bryce_canyon.head(11)"
   ]
  },
  {
   "cell_type": "code",
   "execution_count": 14,
   "metadata": {},
   "outputs": [
    {
     "output_type": "execute_result",
     "data": {
      "text/plain": [
       "                 GroupDescription  Year    JAN    FEB     MAR     APR     MAY  \\\n",
       "0  TRAFFIC COUNT AT MAIN ENTRANCE  2020  9,781  1,762   6,703   1,000   1,100   \n",
       "1  TRAFFIC COUNT AT MAIN ENTRANCE  2019  1,398  9,011  18,832  14,805  17,002   \n",
       "2  TRAFFIC COUNT AT MAIN ENTRANCE  2018  9,057  9,488  21,696  13,495  16,187   \n",
       "3  TRAFFIC COUNT AT MAIN ENTRANCE  2017  8,237  9,104  22,141  16,371  19,290   \n",
       "4  TRAFFIC COUNT AT MAIN ENTRANCE  2016  5,581  5,859  17,067  10,975  17,152   \n",
       "\n",
       "      JUN     JUL     AUG     SEP     OCT     NOV     DEC  \n",
       "0   3,450   7,376   6,490   6,219   7,919   3,188     NaN  \n",
       "1  20,548  22,681       0  11,990  14,000   9,500  10,890  \n",
       "2  20,350  22,462  15,328  11,990  14,357   9,943   6,122  \n",
       "3  22,592  27,520  16,701  13,356  13,956  11,769  10,784  \n",
       "4  21,308  28,598  17,150  14,862  15,626  10,603  10,890  "
      ],
      "text/html": "<div>\n<style scoped>\n    .dataframe tbody tr th:only-of-type {\n        vertical-align: middle;\n    }\n\n    .dataframe tbody tr th {\n        vertical-align: top;\n    }\n\n    .dataframe thead th {\n        text-align: right;\n    }\n</style>\n<table border=\"1\" class=\"dataframe\">\n  <thead>\n    <tr style=\"text-align: right;\">\n      <th></th>\n      <th>GroupDescription</th>\n      <th>Year</th>\n      <th>JAN</th>\n      <th>FEB</th>\n      <th>MAR</th>\n      <th>APR</th>\n      <th>MAY</th>\n      <th>JUN</th>\n      <th>JUL</th>\n      <th>AUG</th>\n      <th>SEP</th>\n      <th>OCT</th>\n      <th>NOV</th>\n      <th>DEC</th>\n    </tr>\n  </thead>\n  <tbody>\n    <tr>\n      <th>0</th>\n      <td>TRAFFIC COUNT AT MAIN ENTRANCE</td>\n      <td>2020</td>\n      <td>9,781</td>\n      <td>1,762</td>\n      <td>6,703</td>\n      <td>1,000</td>\n      <td>1,100</td>\n      <td>3,450</td>\n      <td>7,376</td>\n      <td>6,490</td>\n      <td>6,219</td>\n      <td>7,919</td>\n      <td>3,188</td>\n      <td>NaN</td>\n    </tr>\n    <tr>\n      <th>1</th>\n      <td>TRAFFIC COUNT AT MAIN ENTRANCE</td>\n      <td>2019</td>\n      <td>1,398</td>\n      <td>9,011</td>\n      <td>18,832</td>\n      <td>14,805</td>\n      <td>17,002</td>\n      <td>20,548</td>\n      <td>22,681</td>\n      <td>0</td>\n      <td>11,990</td>\n      <td>14,000</td>\n      <td>9,500</td>\n      <td>10,890</td>\n    </tr>\n    <tr>\n      <th>2</th>\n      <td>TRAFFIC COUNT AT MAIN ENTRANCE</td>\n      <td>2018</td>\n      <td>9,057</td>\n      <td>9,488</td>\n      <td>21,696</td>\n      <td>13,495</td>\n      <td>16,187</td>\n      <td>20,350</td>\n      <td>22,462</td>\n      <td>15,328</td>\n      <td>11,990</td>\n      <td>14,357</td>\n      <td>9,943</td>\n      <td>6,122</td>\n    </tr>\n    <tr>\n      <th>3</th>\n      <td>TRAFFIC COUNT AT MAIN ENTRANCE</td>\n      <td>2017</td>\n      <td>8,237</td>\n      <td>9,104</td>\n      <td>22,141</td>\n      <td>16,371</td>\n      <td>19,290</td>\n      <td>22,592</td>\n      <td>27,520</td>\n      <td>16,701</td>\n      <td>13,356</td>\n      <td>13,956</td>\n      <td>11,769</td>\n      <td>10,784</td>\n    </tr>\n    <tr>\n      <th>4</th>\n      <td>TRAFFIC COUNT AT MAIN ENTRANCE</td>\n      <td>2016</td>\n      <td>5,581</td>\n      <td>5,859</td>\n      <td>17,067</td>\n      <td>10,975</td>\n      <td>17,152</td>\n      <td>21,308</td>\n      <td>28,598</td>\n      <td>17,150</td>\n      <td>14,862</td>\n      <td>15,626</td>\n      <td>10,603</td>\n      <td>10,890</td>\n    </tr>\n  </tbody>\n</table>\n</div>"
     },
     "metadata": {},
     "execution_count": 14
    }
   ],
   "source": [
    "path=os.path.join(\"Resources\", \"carlsbad_caverns.csv\")\n",
    "carlsbad_caverns = pd.read_csv(path, header=[2], encoding='utf-8', delimiter=\",\")\n",
    "carlsbad_caverns.head()"
   ]
  },
  {
   "cell_type": "code",
   "execution_count": 15,
   "metadata": {},
   "outputs": [
    {
     "output_type": "execute_result",
     "data": {
      "text/plain": [
       "                  GroupDescription  Year    JAN    FEB    MAR    APR    MAY  \\\n",
       "0  NUMBER OF VEHICLES AT ENTRANCE   2020  3,323  3,399  3,654      0      0   \n",
       "1  NUMBER OF VEHICLES AT ENTRANCE   2019  2,468  3,537  5,660  5,018  9,551   \n",
       "2  NUMBER OF VEHICLES AT ENTRANCE   2018  2,426  3,658  6,972  4,532  7,532   \n",
       "3  NUMBER OF VEHICLES AT ENTRANCE   2017  2,595  4,472  7,015  6,018  6,272   \n",
       "4  NUMBER OF VEHICLES AT ENTRANCE   2016  2,382  2,185  5,993  4,337  5,009   \n",
       "\n",
       "     JUN    JUL    AUG    SEP    OCT    NOV    DEC  \n",
       "0  1,564  4,197  3,393  3,996    NaN    NaN    NaN  \n",
       "1  4,545  3,786  3,811  2,937  4,735  4,026  3,646  \n",
       "2  4,517  3,606  4,249  2,021  2,990  3,303  3,081  \n",
       "3  4,733  3,526  4,642  2,729  3,891  4,532  2,844  \n",
       "4  4,386  2,800  3,708  3,950  4,205  3,432  4,255  "
      ],
      "text/html": "<div>\n<style scoped>\n    .dataframe tbody tr th:only-of-type {\n        vertical-align: middle;\n    }\n\n    .dataframe tbody tr th {\n        vertical-align: top;\n    }\n\n    .dataframe thead th {\n        text-align: right;\n    }\n</style>\n<table border=\"1\" class=\"dataframe\">\n  <thead>\n    <tr style=\"text-align: right;\">\n      <th></th>\n      <th>GroupDescription</th>\n      <th>Year</th>\n      <th>JAN</th>\n      <th>FEB</th>\n      <th>MAR</th>\n      <th>APR</th>\n      <th>MAY</th>\n      <th>JUN</th>\n      <th>JUL</th>\n      <th>AUG</th>\n      <th>SEP</th>\n      <th>OCT</th>\n      <th>NOV</th>\n      <th>DEC</th>\n    </tr>\n  </thead>\n  <tbody>\n    <tr>\n      <th>0</th>\n      <td>NUMBER OF VEHICLES AT ENTRANCE</td>\n      <td>2020</td>\n      <td>3,323</td>\n      <td>3,399</td>\n      <td>3,654</td>\n      <td>0</td>\n      <td>0</td>\n      <td>1,564</td>\n      <td>4,197</td>\n      <td>3,393</td>\n      <td>3,996</td>\n      <td>NaN</td>\n      <td>NaN</td>\n      <td>NaN</td>\n    </tr>\n    <tr>\n      <th>1</th>\n      <td>NUMBER OF VEHICLES AT ENTRANCE</td>\n      <td>2019</td>\n      <td>2,468</td>\n      <td>3,537</td>\n      <td>5,660</td>\n      <td>5,018</td>\n      <td>9,551</td>\n      <td>4,545</td>\n      <td>3,786</td>\n      <td>3,811</td>\n      <td>2,937</td>\n      <td>4,735</td>\n      <td>4,026</td>\n      <td>3,646</td>\n    </tr>\n    <tr>\n      <th>2</th>\n      <td>NUMBER OF VEHICLES AT ENTRANCE</td>\n      <td>2018</td>\n      <td>2,426</td>\n      <td>3,658</td>\n      <td>6,972</td>\n      <td>4,532</td>\n      <td>7,532</td>\n      <td>4,517</td>\n      <td>3,606</td>\n      <td>4,249</td>\n      <td>2,021</td>\n      <td>2,990</td>\n      <td>3,303</td>\n      <td>3,081</td>\n    </tr>\n    <tr>\n      <th>3</th>\n      <td>NUMBER OF VEHICLES AT ENTRANCE</td>\n      <td>2017</td>\n      <td>2,595</td>\n      <td>4,472</td>\n      <td>7,015</td>\n      <td>6,018</td>\n      <td>6,272</td>\n      <td>4,733</td>\n      <td>3,526</td>\n      <td>4,642</td>\n      <td>2,729</td>\n      <td>3,891</td>\n      <td>4,532</td>\n      <td>2,844</td>\n    </tr>\n    <tr>\n      <th>4</th>\n      <td>NUMBER OF VEHICLES AT ENTRANCE</td>\n      <td>2016</td>\n      <td>2,382</td>\n      <td>2,185</td>\n      <td>5,993</td>\n      <td>4,337</td>\n      <td>5,009</td>\n      <td>4,386</td>\n      <td>2,800</td>\n      <td>3,708</td>\n      <td>3,950</td>\n      <td>4,205</td>\n      <td>3,432</td>\n      <td>4,255</td>\n    </tr>\n  </tbody>\n</table>\n</div>"
     },
     "metadata": {},
     "execution_count": 15
    }
   ],
   "source": [
    "path=os.path.join(\"Resources\", \"congaree.csv\")\n",
    "congaree = pd.read_csv(path, header=[2], encoding='utf-8', delimiter=\",\")\n",
    "congaree.head()"
   ]
  },
  {
   "cell_type": "code",
   "execution_count": 16,
   "metadata": {},
   "outputs": [
    {
     "output_type": "execute_result",
     "data": {
      "text/plain": [
       "                          GroupDescription  Year    JAN    FEB    MAR    APR  \\\n",
       "0  TRAFFIC COUNT AT ANNIE SPRINGS ENTRANCE  2020  1,343  1,289  2,210    286   \n",
       "1  TRAFFIC COUNT AT ANNIE SPRINGS ENTRANCE  2019  1,200    937  2,000  6,624   \n",
       "2  TRAFFIC COUNT AT ANNIE SPRINGS ENTRANCE  2018  3,546  3,077  4,643  8,246   \n",
       "3  TRAFFIC COUNT AT ANNIE SPRINGS ENTRANCE  2017    765    554  3,445  5,946   \n",
       "4  TRAFFIC COUNT AT ANNIE SPRINGS ENTRANCE  2016  1,230  2,834  3,542  8,059   \n",
       "\n",
       "      MAY     JUN     JUL     AUG     SEP     OCT    NOV    DEC  \n",
       "0     339  16,246  34,908  53,000   6,848   6,848    NaN    NaN  \n",
       "1  18,670  31,582  40,719  34,935  23,994  11,179  5,808  2,966  \n",
       "2  17,502  31,087  39,593  27,868  24,322  14,344  7,348  1,600  \n",
       "3  15,077  50,000  50,000  35,623  24,675  10,497  3,829  3,564  \n",
       "4  14,584  28,365  43,861  38,020  28,264  10,304  4,081  1,970  "
      ],
      "text/html": "<div>\n<style scoped>\n    .dataframe tbody tr th:only-of-type {\n        vertical-align: middle;\n    }\n\n    .dataframe tbody tr th {\n        vertical-align: top;\n    }\n\n    .dataframe thead th {\n        text-align: right;\n    }\n</style>\n<table border=\"1\" class=\"dataframe\">\n  <thead>\n    <tr style=\"text-align: right;\">\n      <th></th>\n      <th>GroupDescription</th>\n      <th>Year</th>\n      <th>JAN</th>\n      <th>FEB</th>\n      <th>MAR</th>\n      <th>APR</th>\n      <th>MAY</th>\n      <th>JUN</th>\n      <th>JUL</th>\n      <th>AUG</th>\n      <th>SEP</th>\n      <th>OCT</th>\n      <th>NOV</th>\n      <th>DEC</th>\n    </tr>\n  </thead>\n  <tbody>\n    <tr>\n      <th>0</th>\n      <td>TRAFFIC COUNT AT ANNIE SPRINGS ENTRANCE</td>\n      <td>2020</td>\n      <td>1,343</td>\n      <td>1,289</td>\n      <td>2,210</td>\n      <td>286</td>\n      <td>339</td>\n      <td>16,246</td>\n      <td>34,908</td>\n      <td>53,000</td>\n      <td>6,848</td>\n      <td>6,848</td>\n      <td>NaN</td>\n      <td>NaN</td>\n    </tr>\n    <tr>\n      <th>1</th>\n      <td>TRAFFIC COUNT AT ANNIE SPRINGS ENTRANCE</td>\n      <td>2019</td>\n      <td>1,200</td>\n      <td>937</td>\n      <td>2,000</td>\n      <td>6,624</td>\n      <td>18,670</td>\n      <td>31,582</td>\n      <td>40,719</td>\n      <td>34,935</td>\n      <td>23,994</td>\n      <td>11,179</td>\n      <td>5,808</td>\n      <td>2,966</td>\n    </tr>\n    <tr>\n      <th>2</th>\n      <td>TRAFFIC COUNT AT ANNIE SPRINGS ENTRANCE</td>\n      <td>2018</td>\n      <td>3,546</td>\n      <td>3,077</td>\n      <td>4,643</td>\n      <td>8,246</td>\n      <td>17,502</td>\n      <td>31,087</td>\n      <td>39,593</td>\n      <td>27,868</td>\n      <td>24,322</td>\n      <td>14,344</td>\n      <td>7,348</td>\n      <td>1,600</td>\n    </tr>\n    <tr>\n      <th>3</th>\n      <td>TRAFFIC COUNT AT ANNIE SPRINGS ENTRANCE</td>\n      <td>2017</td>\n      <td>765</td>\n      <td>554</td>\n      <td>3,445</td>\n      <td>5,946</td>\n      <td>15,077</td>\n      <td>50,000</td>\n      <td>50,000</td>\n      <td>35,623</td>\n      <td>24,675</td>\n      <td>10,497</td>\n      <td>3,829</td>\n      <td>3,564</td>\n    </tr>\n    <tr>\n      <th>4</th>\n      <td>TRAFFIC COUNT AT ANNIE SPRINGS ENTRANCE</td>\n      <td>2016</td>\n      <td>1,230</td>\n      <td>2,834</td>\n      <td>3,542</td>\n      <td>8,059</td>\n      <td>14,584</td>\n      <td>28,365</td>\n      <td>43,861</td>\n      <td>38,020</td>\n      <td>28,264</td>\n      <td>10,304</td>\n      <td>4,081</td>\n      <td>1,970</td>\n    </tr>\n  </tbody>\n</table>\n</div>"
     },
     "metadata": {},
     "execution_count": 16
    }
   ],
   "source": [
    "path=os.path.join(\"Resources\", \"crater_lake.csv\")\n",
    "crater_lake = pd.read_csv(path, header=[2], encoding='utf-8', delimiter=\",\")\n",
    "crater_lake.head()"
   ]
  },
  {
   "cell_type": "code",
   "execution_count": 18,
   "metadata": {},
   "outputs": [
    {
     "output_type": "execute_result",
     "data": {
      "text/plain": [
       "                      GroupDescription  Year  JAN  FEB    MAR    APR    MAY  \\\n",
       "0  ADJ TRAFFIC COUNT AT BLUE HEN FALLS  2019  757  805  1,525    717    761   \n",
       "1  ADJ TRAFFIC COUNT AT BLUE HEN FALLS  2018  758  766  1,454    673  1,400   \n",
       "2  ADJ TRAFFIC COUNT AT BLUE HEN FALLS  2017  743  780  1,447    772  1,638   \n",
       "3  ADJ TRAFFIC COUNT AT BLUE HEN FALLS  2016  763  867  1,837    713  2,139   \n",
       "4  ADJ TRAFFIC COUNT AT BLUE HEN FALLS  2015  763  813  1,751  2,374  2,592   \n",
       "\n",
       "     JUN    JUL    AUG    SEP  OCT  NOV    DEC  \n",
       "0    939  1,596  2,084  1,024  860  660    847  \n",
       "1    893  2,969    906    892  727  641    901  \n",
       "2    896  1,115    994    986  904  643    596  \n",
       "3  2,999  3,218  4,351  1,195  948  695  1,043  \n",
       "4  2,889  3,328  4,049  1,174  935  626  1,026  "
      ],
      "text/html": "<div>\n<style scoped>\n    .dataframe tbody tr th:only-of-type {\n        vertical-align: middle;\n    }\n\n    .dataframe tbody tr th {\n        vertical-align: top;\n    }\n\n    .dataframe thead th {\n        text-align: right;\n    }\n</style>\n<table border=\"1\" class=\"dataframe\">\n  <thead>\n    <tr style=\"text-align: right;\">\n      <th></th>\n      <th>GroupDescription</th>\n      <th>Year</th>\n      <th>JAN</th>\n      <th>FEB</th>\n      <th>MAR</th>\n      <th>APR</th>\n      <th>MAY</th>\n      <th>JUN</th>\n      <th>JUL</th>\n      <th>AUG</th>\n      <th>SEP</th>\n      <th>OCT</th>\n      <th>NOV</th>\n      <th>DEC</th>\n    </tr>\n  </thead>\n  <tbody>\n    <tr>\n      <th>0</th>\n      <td>ADJ TRAFFIC COUNT AT BLUE HEN FALLS</td>\n      <td>2019</td>\n      <td>757</td>\n      <td>805</td>\n      <td>1,525</td>\n      <td>717</td>\n      <td>761</td>\n      <td>939</td>\n      <td>1,596</td>\n      <td>2,084</td>\n      <td>1,024</td>\n      <td>860</td>\n      <td>660</td>\n      <td>847</td>\n    </tr>\n    <tr>\n      <th>1</th>\n      <td>ADJ TRAFFIC COUNT AT BLUE HEN FALLS</td>\n      <td>2018</td>\n      <td>758</td>\n      <td>766</td>\n      <td>1,454</td>\n      <td>673</td>\n      <td>1,400</td>\n      <td>893</td>\n      <td>2,969</td>\n      <td>906</td>\n      <td>892</td>\n      <td>727</td>\n      <td>641</td>\n      <td>901</td>\n    </tr>\n    <tr>\n      <th>2</th>\n      <td>ADJ TRAFFIC COUNT AT BLUE HEN FALLS</td>\n      <td>2017</td>\n      <td>743</td>\n      <td>780</td>\n      <td>1,447</td>\n      <td>772</td>\n      <td>1,638</td>\n      <td>896</td>\n      <td>1,115</td>\n      <td>994</td>\n      <td>986</td>\n      <td>904</td>\n      <td>643</td>\n      <td>596</td>\n    </tr>\n    <tr>\n      <th>3</th>\n      <td>ADJ TRAFFIC COUNT AT BLUE HEN FALLS</td>\n      <td>2016</td>\n      <td>763</td>\n      <td>867</td>\n      <td>1,837</td>\n      <td>713</td>\n      <td>2,139</td>\n      <td>2,999</td>\n      <td>3,218</td>\n      <td>4,351</td>\n      <td>1,195</td>\n      <td>948</td>\n      <td>695</td>\n      <td>1,043</td>\n    </tr>\n    <tr>\n      <th>4</th>\n      <td>ADJ TRAFFIC COUNT AT BLUE HEN FALLS</td>\n      <td>2015</td>\n      <td>763</td>\n      <td>813</td>\n      <td>1,751</td>\n      <td>2,374</td>\n      <td>2,592</td>\n      <td>2,889</td>\n      <td>3,328</td>\n      <td>4,049</td>\n      <td>1,174</td>\n      <td>935</td>\n      <td>626</td>\n      <td>1,026</td>\n    </tr>\n  </tbody>\n</table>\n</div>"
     },
     "metadata": {},
     "execution_count": 18
    }
   ],
   "source": [
    "path=os.path.join(\"Resources\", \"cuyahoga_valley.csv\")\n",
    "cuyahoga = pd.read_csv(path, header=[2], encoding='utf-8', delimiter=\",\")\n",
    "cuyahoga.head()"
   ]
  },
  {
   "cell_type": "code",
   "execution_count": 19,
   "metadata": {},
   "outputs": [
    {
     "output_type": "execute_result",
     "data": {
      "text/plain": [
       "                   GroupDescription  Year    JAN    FEB    MAR    APR    MAY  \\\n",
       "0  Adj Traffic Count Phinney Canyon  2020      0      0      0      0      0   \n",
       "1     Traffic Count at Ashford Road  2020  1,702  1,721  1,647    372    107   \n",
       "2     Traffic Count at Ashford Road  2019  1,543  1,656  2,871  2,719  2,441   \n",
       "3     Traffic Count at Ashford Road  2018  1,520  1,942  2,757  2,222  2,339   \n",
       "4     Traffic Count at Ashford Road  2017  1,538  1,372  2,409  2,554  2,153   \n",
       "\n",
       "     JUN    JUL    AUG    SEP    OCT    NOV    DEC  \n",
       "0      0      0      0      0      0      0    NaN  \n",
       "1     90    382    268    301    590  1,937    NaN  \n",
       "2  1,417  1,650  1,644  1,345  1,260  1,816  1,471  \n",
       "3  1,295  1,652  2,271  1,759  2,587  1,586  1,583  \n",
       "4  1,389  2,185  2,724    821  1,793  1,756  2,343  "
      ],
      "text/html": "<div>\n<style scoped>\n    .dataframe tbody tr th:only-of-type {\n        vertical-align: middle;\n    }\n\n    .dataframe tbody tr th {\n        vertical-align: top;\n    }\n\n    .dataframe thead th {\n        text-align: right;\n    }\n</style>\n<table border=\"1\" class=\"dataframe\">\n  <thead>\n    <tr style=\"text-align: right;\">\n      <th></th>\n      <th>GroupDescription</th>\n      <th>Year</th>\n      <th>JAN</th>\n      <th>FEB</th>\n      <th>MAR</th>\n      <th>APR</th>\n      <th>MAY</th>\n      <th>JUN</th>\n      <th>JUL</th>\n      <th>AUG</th>\n      <th>SEP</th>\n      <th>OCT</th>\n      <th>NOV</th>\n      <th>DEC</th>\n    </tr>\n  </thead>\n  <tbody>\n    <tr>\n      <th>0</th>\n      <td>Adj Traffic Count Phinney Canyon</td>\n      <td>2020</td>\n      <td>0</td>\n      <td>0</td>\n      <td>0</td>\n      <td>0</td>\n      <td>0</td>\n      <td>0</td>\n      <td>0</td>\n      <td>0</td>\n      <td>0</td>\n      <td>0</td>\n      <td>0</td>\n      <td>NaN</td>\n    </tr>\n    <tr>\n      <th>1</th>\n      <td>Traffic Count at Ashford Road</td>\n      <td>2020</td>\n      <td>1,702</td>\n      <td>1,721</td>\n      <td>1,647</td>\n      <td>372</td>\n      <td>107</td>\n      <td>90</td>\n      <td>382</td>\n      <td>268</td>\n      <td>301</td>\n      <td>590</td>\n      <td>1,937</td>\n      <td>NaN</td>\n    </tr>\n    <tr>\n      <th>2</th>\n      <td>Traffic Count at Ashford Road</td>\n      <td>2019</td>\n      <td>1,543</td>\n      <td>1,656</td>\n      <td>2,871</td>\n      <td>2,719</td>\n      <td>2,441</td>\n      <td>1,417</td>\n      <td>1,650</td>\n      <td>1,644</td>\n      <td>1,345</td>\n      <td>1,260</td>\n      <td>1,816</td>\n      <td>1,471</td>\n    </tr>\n    <tr>\n      <th>3</th>\n      <td>Traffic Count at Ashford Road</td>\n      <td>2018</td>\n      <td>1,520</td>\n      <td>1,942</td>\n      <td>2,757</td>\n      <td>2,222</td>\n      <td>2,339</td>\n      <td>1,295</td>\n      <td>1,652</td>\n      <td>2,271</td>\n      <td>1,759</td>\n      <td>2,587</td>\n      <td>1,586</td>\n      <td>1,583</td>\n    </tr>\n    <tr>\n      <th>4</th>\n      <td>Traffic Count at Ashford Road</td>\n      <td>2017</td>\n      <td>1,538</td>\n      <td>1,372</td>\n      <td>2,409</td>\n      <td>2,554</td>\n      <td>2,153</td>\n      <td>1,389</td>\n      <td>2,185</td>\n      <td>2,724</td>\n      <td>821</td>\n      <td>1,793</td>\n      <td>1,756</td>\n      <td>2,343</td>\n    </tr>\n  </tbody>\n</table>\n</div>"
     },
     "metadata": {},
     "execution_count": 19
    }
   ],
   "source": [
    "path=os.path.join(\"Resources\", \"death_valley.csv\")\n",
    "death_valley = pd.read_csv(path, header=[2], encoding='utf-8', delimiter=\",\")\n",
    "death_valley.head()\n",
    "\n"
   ]
  },
  {
   "cell_type": "code",
   "execution_count": 20,
   "metadata": {},
   "outputs": [
    {
     "output_type": "execute_result",
     "data": {
      "text/plain": [
       "                                    GroupDescription  Year    JAN     FEB  \\\n",
       "0  Adjusted traffic count at Main Entrance / Home...  2020  4,006  31,901   \n",
       "1  Adjusted traffic count at Main Entrance / Home...  2019  7,934  13,096   \n",
       "2                 Traffic Count at Buttonwood Bridge  2020      0       0   \n",
       "3                 Traffic Count at Buttonwood Bridge  2019      0       0   \n",
       "4                         Traffic Count Shark Valley  2020  8,267   7,419   \n",
       "\n",
       "      MAR     APR     MAY     JUN    JUL     AUG     SEP     OCT     NOV  \\\n",
       "0  18,575       0   5,577  12,961  6,023  10,679   1,067   2,154     NaN   \n",
       "1  28,845  22,416  11,061   8,960    860   9,916  11,086  10,698  19,363   \n",
       "2     NaN     NaN     NaN     NaN    NaN     NaN     NaN     NaN     NaN   \n",
       "3       0       0       0       0      0   5,561   4,395   6,316   6,316   \n",
       "4   7,841       0       0   8,387  4,397   2,075   2,175   2,267     NaN   \n",
       "\n",
       "      DEC  \n",
       "0     NaN  \n",
       "1  20,326  \n",
       "2     NaN  \n",
       "3   6,316  \n",
       "4     NaN  "
      ],
      "text/html": "<div>\n<style scoped>\n    .dataframe tbody tr th:only-of-type {\n        vertical-align: middle;\n    }\n\n    .dataframe tbody tr th {\n        vertical-align: top;\n    }\n\n    .dataframe thead th {\n        text-align: right;\n    }\n</style>\n<table border=\"1\" class=\"dataframe\">\n  <thead>\n    <tr style=\"text-align: right;\">\n      <th></th>\n      <th>GroupDescription</th>\n      <th>Year</th>\n      <th>JAN</th>\n      <th>FEB</th>\n      <th>MAR</th>\n      <th>APR</th>\n      <th>MAY</th>\n      <th>JUN</th>\n      <th>JUL</th>\n      <th>AUG</th>\n      <th>SEP</th>\n      <th>OCT</th>\n      <th>NOV</th>\n      <th>DEC</th>\n    </tr>\n  </thead>\n  <tbody>\n    <tr>\n      <th>0</th>\n      <td>Adjusted traffic count at Main Entrance / Home...</td>\n      <td>2020</td>\n      <td>4,006</td>\n      <td>31,901</td>\n      <td>18,575</td>\n      <td>0</td>\n      <td>5,577</td>\n      <td>12,961</td>\n      <td>6,023</td>\n      <td>10,679</td>\n      <td>1,067</td>\n      <td>2,154</td>\n      <td>NaN</td>\n      <td>NaN</td>\n    </tr>\n    <tr>\n      <th>1</th>\n      <td>Adjusted traffic count at Main Entrance / Home...</td>\n      <td>2019</td>\n      <td>7,934</td>\n      <td>13,096</td>\n      <td>28,845</td>\n      <td>22,416</td>\n      <td>11,061</td>\n      <td>8,960</td>\n      <td>860</td>\n      <td>9,916</td>\n      <td>11,086</td>\n      <td>10,698</td>\n      <td>19,363</td>\n      <td>20,326</td>\n    </tr>\n    <tr>\n      <th>2</th>\n      <td>Traffic Count at Buttonwood Bridge</td>\n      <td>2020</td>\n      <td>0</td>\n      <td>0</td>\n      <td>NaN</td>\n      <td>NaN</td>\n      <td>NaN</td>\n      <td>NaN</td>\n      <td>NaN</td>\n      <td>NaN</td>\n      <td>NaN</td>\n      <td>NaN</td>\n      <td>NaN</td>\n      <td>NaN</td>\n    </tr>\n    <tr>\n      <th>3</th>\n      <td>Traffic Count at Buttonwood Bridge</td>\n      <td>2019</td>\n      <td>0</td>\n      <td>0</td>\n      <td>0</td>\n      <td>0</td>\n      <td>0</td>\n      <td>0</td>\n      <td>0</td>\n      <td>5,561</td>\n      <td>4,395</td>\n      <td>6,316</td>\n      <td>6,316</td>\n      <td>6,316</td>\n    </tr>\n    <tr>\n      <th>4</th>\n      <td>Traffic Count Shark Valley</td>\n      <td>2020</td>\n      <td>8,267</td>\n      <td>7,419</td>\n      <td>7,841</td>\n      <td>0</td>\n      <td>0</td>\n      <td>8,387</td>\n      <td>4,397</td>\n      <td>2,075</td>\n      <td>2,175</td>\n      <td>2,267</td>\n      <td>NaN</td>\n      <td>NaN</td>\n    </tr>\n  </tbody>\n</table>\n</div>"
     },
     "metadata": {},
     "execution_count": 20
    }
   ],
   "source": [
    "path=os.path.join(\"Resources\", \"everglades.csv\")\n",
    "everglades = pd.read_csv(path, header=[2], encoding='utf-8', delimiter=\",\")\n",
    "everglades.head()"
   ]
  },
  {
   "cell_type": "code",
   "execution_count": 21,
   "metadata": {},
   "outputs": [
    {
     "output_type": "execute_result",
     "data": {
      "text/plain": [
       "               GroupDescription  Year JAN FEB MAR APR MAY JUN JUL AUG  SEP  \\\n",
       "0  TRAFFIC COUNT AT BELLY RIVER  2012   0   0   0   0   0   0   0   0  NaN   \n",
       "1  TRAFFIC COUNT AT BELLY RIVER  2011   0   0   0   0   0   0   0   0    0   \n",
       "2  TRAFFIC COUNT AT BELLY RIVER  2010   0   0   0   0   0   0   0   0    0   \n",
       "3  TRAFFIC COUNT AT BELLY RIVER  2009   0   0   0   0   0   0   0   0    0   \n",
       "4  TRAFFIC COUNT AT BELLY RIVER  2008   0   0   0   0   0   0   0   0    0   \n",
       "\n",
       "   OCT  NOV  DEC  \n",
       "0  NaN  NaN  NaN  \n",
       "1    0    0    0  \n",
       "2    0    0    0  \n",
       "3    0    0    0  \n",
       "4    0    0    0  "
      ],
      "text/html": "<div>\n<style scoped>\n    .dataframe tbody tr th:only-of-type {\n        vertical-align: middle;\n    }\n\n    .dataframe tbody tr th {\n        vertical-align: top;\n    }\n\n    .dataframe thead th {\n        text-align: right;\n    }\n</style>\n<table border=\"1\" class=\"dataframe\">\n  <thead>\n    <tr style=\"text-align: right;\">\n      <th></th>\n      <th>GroupDescription</th>\n      <th>Year</th>\n      <th>JAN</th>\n      <th>FEB</th>\n      <th>MAR</th>\n      <th>APR</th>\n      <th>MAY</th>\n      <th>JUN</th>\n      <th>JUL</th>\n      <th>AUG</th>\n      <th>SEP</th>\n      <th>OCT</th>\n      <th>NOV</th>\n      <th>DEC</th>\n    </tr>\n  </thead>\n  <tbody>\n    <tr>\n      <th>0</th>\n      <td>TRAFFIC COUNT AT BELLY RIVER</td>\n      <td>2012</td>\n      <td>0</td>\n      <td>0</td>\n      <td>0</td>\n      <td>0</td>\n      <td>0</td>\n      <td>0</td>\n      <td>0</td>\n      <td>0</td>\n      <td>NaN</td>\n      <td>NaN</td>\n      <td>NaN</td>\n      <td>NaN</td>\n    </tr>\n    <tr>\n      <th>1</th>\n      <td>TRAFFIC COUNT AT BELLY RIVER</td>\n      <td>2011</td>\n      <td>0</td>\n      <td>0</td>\n      <td>0</td>\n      <td>0</td>\n      <td>0</td>\n      <td>0</td>\n      <td>0</td>\n      <td>0</td>\n      <td>0</td>\n      <td>0</td>\n      <td>0</td>\n      <td>0</td>\n    </tr>\n    <tr>\n      <th>2</th>\n      <td>TRAFFIC COUNT AT BELLY RIVER</td>\n      <td>2010</td>\n      <td>0</td>\n      <td>0</td>\n      <td>0</td>\n      <td>0</td>\n      <td>0</td>\n      <td>0</td>\n      <td>0</td>\n      <td>0</td>\n      <td>0</td>\n      <td>0</td>\n      <td>0</td>\n      <td>0</td>\n    </tr>\n    <tr>\n      <th>3</th>\n      <td>TRAFFIC COUNT AT BELLY RIVER</td>\n      <td>2009</td>\n      <td>0</td>\n      <td>0</td>\n      <td>0</td>\n      <td>0</td>\n      <td>0</td>\n      <td>0</td>\n      <td>0</td>\n      <td>0</td>\n      <td>0</td>\n      <td>0</td>\n      <td>0</td>\n      <td>0</td>\n    </tr>\n    <tr>\n      <th>4</th>\n      <td>TRAFFIC COUNT AT BELLY RIVER</td>\n      <td>2008</td>\n      <td>0</td>\n      <td>0</td>\n      <td>0</td>\n      <td>0</td>\n      <td>0</td>\n      <td>0</td>\n      <td>0</td>\n      <td>0</td>\n      <td>0</td>\n      <td>0</td>\n      <td>0</td>\n      <td>0</td>\n    </tr>\n  </tbody>\n</table>\n</div>"
     },
     "metadata": {},
     "execution_count": 21
    }
   ],
   "source": [
    "path=os.path.join(\"Resources\", \"glacier.csv\")\n",
    "glacier = pd.read_csv(path, header=[2], encoding='utf-8', delimiter=\",\")\n",
    "glacier.head()"
   ]
  },
  {
   "cell_type": "code",
   "execution_count": 22,
   "metadata": {},
   "outputs": [
    {
     "output_type": "execute_result",
     "data": {
      "text/plain": [
       "              GroupDescription  Year     JAN     FEB     MAR     APR     MAY  \\\n",
       "0  TRAFFIC COUNT (DESERT VIEW)  2020  12,086  12,937  15,013       0       0   \n",
       "1  TRAFFIC COUNT (DESERT VIEW)  2019  10,650   8,998  25,938  31,530  37,040   \n",
       "2  TRAFFIC COUNT (DESERT VIEW)  2018  11,838  12,107  27,425  28,726  34,185   \n",
       "3  TRAFFIC COUNT (DESERT VIEW)  2017   8,395  10,438  25,079  28,763  31,924   \n",
       "4  TRAFFIC COUNT (DESERT VIEW)  2016   8,411   8,400  27,021  24,137  31,288   \n",
       "\n",
       "      JUN     JUL     AUG     SEP     OCT     NOV     DEC  \n",
       "0       0       0       0       0       0     NaN     NaN  \n",
       "1  33,218  35,052  34,998  31,970  30,354  16,517  13,656  \n",
       "2  31,648  34,639  34,507  32,023  26,234  19,000  16,174  \n",
       "3  39,534  35,381  34,697  31,306  28,927  18,648  16,710  \n",
       "4  31,624  35,204  33,707  30,869  28,496  17,360  13,275  "
      ],
      "text/html": "<div>\n<style scoped>\n    .dataframe tbody tr th:only-of-type {\n        vertical-align: middle;\n    }\n\n    .dataframe tbody tr th {\n        vertical-align: top;\n    }\n\n    .dataframe thead th {\n        text-align: right;\n    }\n</style>\n<table border=\"1\" class=\"dataframe\">\n  <thead>\n    <tr style=\"text-align: right;\">\n      <th></th>\n      <th>GroupDescription</th>\n      <th>Year</th>\n      <th>JAN</th>\n      <th>FEB</th>\n      <th>MAR</th>\n      <th>APR</th>\n      <th>MAY</th>\n      <th>JUN</th>\n      <th>JUL</th>\n      <th>AUG</th>\n      <th>SEP</th>\n      <th>OCT</th>\n      <th>NOV</th>\n      <th>DEC</th>\n    </tr>\n  </thead>\n  <tbody>\n    <tr>\n      <th>0</th>\n      <td>TRAFFIC COUNT (DESERT VIEW)</td>\n      <td>2020</td>\n      <td>12,086</td>\n      <td>12,937</td>\n      <td>15,013</td>\n      <td>0</td>\n      <td>0</td>\n      <td>0</td>\n      <td>0</td>\n      <td>0</td>\n      <td>0</td>\n      <td>0</td>\n      <td>NaN</td>\n      <td>NaN</td>\n    </tr>\n    <tr>\n      <th>1</th>\n      <td>TRAFFIC COUNT (DESERT VIEW)</td>\n      <td>2019</td>\n      <td>10,650</td>\n      <td>8,998</td>\n      <td>25,938</td>\n      <td>31,530</td>\n      <td>37,040</td>\n      <td>33,218</td>\n      <td>35,052</td>\n      <td>34,998</td>\n      <td>31,970</td>\n      <td>30,354</td>\n      <td>16,517</td>\n      <td>13,656</td>\n    </tr>\n    <tr>\n      <th>2</th>\n      <td>TRAFFIC COUNT (DESERT VIEW)</td>\n      <td>2018</td>\n      <td>11,838</td>\n      <td>12,107</td>\n      <td>27,425</td>\n      <td>28,726</td>\n      <td>34,185</td>\n      <td>31,648</td>\n      <td>34,639</td>\n      <td>34,507</td>\n      <td>32,023</td>\n      <td>26,234</td>\n      <td>19,000</td>\n      <td>16,174</td>\n    </tr>\n    <tr>\n      <th>3</th>\n      <td>TRAFFIC COUNT (DESERT VIEW)</td>\n      <td>2017</td>\n      <td>8,395</td>\n      <td>10,438</td>\n      <td>25,079</td>\n      <td>28,763</td>\n      <td>31,924</td>\n      <td>39,534</td>\n      <td>35,381</td>\n      <td>34,697</td>\n      <td>31,306</td>\n      <td>28,927</td>\n      <td>18,648</td>\n      <td>16,710</td>\n    </tr>\n    <tr>\n      <th>4</th>\n      <td>TRAFFIC COUNT (DESERT VIEW)</td>\n      <td>2016</td>\n      <td>8,411</td>\n      <td>8,400</td>\n      <td>27,021</td>\n      <td>24,137</td>\n      <td>31,288</td>\n      <td>31,624</td>\n      <td>35,204</td>\n      <td>33,707</td>\n      <td>30,869</td>\n      <td>28,496</td>\n      <td>17,360</td>\n      <td>13,275</td>\n    </tr>\n  </tbody>\n</table>\n</div>"
     },
     "metadata": {},
     "execution_count": 22
    }
   ],
   "source": [
    "path=os.path.join(\"Resources\", \"grand_canyon.csv\")\n",
    "grand_canyon = pd.read_csv(path, header=[2], encoding='utf-8', delimiter=\",\")\n",
    "grand_canyon.head()"
   ]
  },
  {
   "cell_type": "code",
   "execution_count": 23,
   "metadata": {},
   "outputs": [
    {
     "output_type": "execute_result",
     "data": {
      "text/plain": [
       "                    GroupDescription  Year    JAN    FEB    MAR     APR  \\\n",
       "0  TRAFFIC COUNT AT BUFFALO ENTRANCE  2020  5,092  5,176  6,051       0   \n",
       "1  TRAFFIC COUNT AT BUFFALO ENTRANCE  2019  5,881  3,856  7,057  10,014   \n",
       "2  TRAFFIC COUNT AT BUFFALO ENTRANCE  2018  6,054  5,174  6,342   9,342   \n",
       "3  TRAFFIC COUNT AT BUFFALO ENTRANCE  2017  4,773  4,720  5,922   9,602   \n",
       "4  TRAFFIC COUNT AT BUFFALO ENTRANCE  2016  4,914  5,503  6,238   9,235   \n",
       "\n",
       "      MAY     JUN     JUL     AUG     SEP     OCT    NOV    DEC  \n",
       "0  21,103  61,457  90,644  88,368  83,181  41,204    NaN    NaN  \n",
       "1  43,104  75,669  90,679  76,010  68,652  25,153  6,873  4,806  \n",
       "2  43,419  78,952  93,588  79,760  70,283  25,600  5,710  5,568  \n",
       "3  38,039  77,819  89,986  84,215  65,246  25,180  5,929  5,787  \n",
       "4  38,804  79,101  91,196  71,620  65,215  24,800  7,332  4,556  "
      ],
      "text/html": "<div>\n<style scoped>\n    .dataframe tbody tr th:only-of-type {\n        vertical-align: middle;\n    }\n\n    .dataframe tbody tr th {\n        vertical-align: top;\n    }\n\n    .dataframe thead th {\n        text-align: right;\n    }\n</style>\n<table border=\"1\" class=\"dataframe\">\n  <thead>\n    <tr style=\"text-align: right;\">\n      <th></th>\n      <th>GroupDescription</th>\n      <th>Year</th>\n      <th>JAN</th>\n      <th>FEB</th>\n      <th>MAR</th>\n      <th>APR</th>\n      <th>MAY</th>\n      <th>JUN</th>\n      <th>JUL</th>\n      <th>AUG</th>\n      <th>SEP</th>\n      <th>OCT</th>\n      <th>NOV</th>\n      <th>DEC</th>\n    </tr>\n  </thead>\n  <tbody>\n    <tr>\n      <th>0</th>\n      <td>TRAFFIC COUNT AT BUFFALO ENTRANCE</td>\n      <td>2020</td>\n      <td>5,092</td>\n      <td>5,176</td>\n      <td>6,051</td>\n      <td>0</td>\n      <td>21,103</td>\n      <td>61,457</td>\n      <td>90,644</td>\n      <td>88,368</td>\n      <td>83,181</td>\n      <td>41,204</td>\n      <td>NaN</td>\n      <td>NaN</td>\n    </tr>\n    <tr>\n      <th>1</th>\n      <td>TRAFFIC COUNT AT BUFFALO ENTRANCE</td>\n      <td>2019</td>\n      <td>5,881</td>\n      <td>3,856</td>\n      <td>7,057</td>\n      <td>10,014</td>\n      <td>43,104</td>\n      <td>75,669</td>\n      <td>90,679</td>\n      <td>76,010</td>\n      <td>68,652</td>\n      <td>25,153</td>\n      <td>6,873</td>\n      <td>4,806</td>\n    </tr>\n    <tr>\n      <th>2</th>\n      <td>TRAFFIC COUNT AT BUFFALO ENTRANCE</td>\n      <td>2018</td>\n      <td>6,054</td>\n      <td>5,174</td>\n      <td>6,342</td>\n      <td>9,342</td>\n      <td>43,419</td>\n      <td>78,952</td>\n      <td>93,588</td>\n      <td>79,760</td>\n      <td>70,283</td>\n      <td>25,600</td>\n      <td>5,710</td>\n      <td>5,568</td>\n    </tr>\n    <tr>\n      <th>3</th>\n      <td>TRAFFIC COUNT AT BUFFALO ENTRANCE</td>\n      <td>2017</td>\n      <td>4,773</td>\n      <td>4,720</td>\n      <td>5,922</td>\n      <td>9,602</td>\n      <td>38,039</td>\n      <td>77,819</td>\n      <td>89,986</td>\n      <td>84,215</td>\n      <td>65,246</td>\n      <td>25,180</td>\n      <td>5,929</td>\n      <td>5,787</td>\n    </tr>\n    <tr>\n      <th>4</th>\n      <td>TRAFFIC COUNT AT BUFFALO ENTRANCE</td>\n      <td>2016</td>\n      <td>4,914</td>\n      <td>5,503</td>\n      <td>6,238</td>\n      <td>9,235</td>\n      <td>38,804</td>\n      <td>79,101</td>\n      <td>91,196</td>\n      <td>71,620</td>\n      <td>65,215</td>\n      <td>24,800</td>\n      <td>7,332</td>\n      <td>4,556</td>\n    </tr>\n  </tbody>\n</table>\n</div>"
     },
     "metadata": {},
     "execution_count": 23
    }
   ],
   "source": [
    "path=os.path.join(\"Resources\", \"grand_teton.csv\")\n",
    "grand_teton = pd.read_csv(path, header=[2], encoding='utf-8', delimiter=\",\")\n",
    "grand_teton.head()"
   ]
  },
  {
   "cell_type": "code",
   "execution_count": 24,
   "metadata": {},
   "outputs": [
    {
     "output_type": "execute_result",
     "data": {
      "text/plain": [
       "               GroupDescription  Year  JAN  FEB    MAR  APR    MAY    JUN  \\\n",
       "0  TRAFFIC COUNT AT BAKER CREEK  2020  359  190    255   97    450  2,062   \n",
       "1  TRAFFIC COUNT AT BAKER CREEK  2019   42  158    249  555  1,489  3,285   \n",
       "2  TRAFFIC COUNT AT BAKER CREEK  2018  216  179  2,001  834  2,002  3,064   \n",
       "3  TRAFFIC COUNT AT BAKER CREEK  2017  179  179    302  801  2,155  3,230   \n",
       "4  TRAFFIC COUNT AT BAKER CREEK  2016  102  205    926  926  2,243  2,320   \n",
       "\n",
       "     JUL    AUG    SEP    OCT  NOV  DEC  \n",
       "0  3,072  2,311  2,959  2,334  240  NaN  \n",
       "1  3,357  3,238  2,888  1,081  266  140  \n",
       "2  3,612  2,306  4,067  1,494  363  158  \n",
       "3  3,395  2,504  1,104  2,396  499  138  \n",
       "4  5,602  3,987  3,746  2,426  499  187  "
      ],
      "text/html": "<div>\n<style scoped>\n    .dataframe tbody tr th:only-of-type {\n        vertical-align: middle;\n    }\n\n    .dataframe tbody tr th {\n        vertical-align: top;\n    }\n\n    .dataframe thead th {\n        text-align: right;\n    }\n</style>\n<table border=\"1\" class=\"dataframe\">\n  <thead>\n    <tr style=\"text-align: right;\">\n      <th></th>\n      <th>GroupDescription</th>\n      <th>Year</th>\n      <th>JAN</th>\n      <th>FEB</th>\n      <th>MAR</th>\n      <th>APR</th>\n      <th>MAY</th>\n      <th>JUN</th>\n      <th>JUL</th>\n      <th>AUG</th>\n      <th>SEP</th>\n      <th>OCT</th>\n      <th>NOV</th>\n      <th>DEC</th>\n    </tr>\n  </thead>\n  <tbody>\n    <tr>\n      <th>0</th>\n      <td>TRAFFIC COUNT AT BAKER CREEK</td>\n      <td>2020</td>\n      <td>359</td>\n      <td>190</td>\n      <td>255</td>\n      <td>97</td>\n      <td>450</td>\n      <td>2,062</td>\n      <td>3,072</td>\n      <td>2,311</td>\n      <td>2,959</td>\n      <td>2,334</td>\n      <td>240</td>\n      <td>NaN</td>\n    </tr>\n    <tr>\n      <th>1</th>\n      <td>TRAFFIC COUNT AT BAKER CREEK</td>\n      <td>2019</td>\n      <td>42</td>\n      <td>158</td>\n      <td>249</td>\n      <td>555</td>\n      <td>1,489</td>\n      <td>3,285</td>\n      <td>3,357</td>\n      <td>3,238</td>\n      <td>2,888</td>\n      <td>1,081</td>\n      <td>266</td>\n      <td>140</td>\n    </tr>\n    <tr>\n      <th>2</th>\n      <td>TRAFFIC COUNT AT BAKER CREEK</td>\n      <td>2018</td>\n      <td>216</td>\n      <td>179</td>\n      <td>2,001</td>\n      <td>834</td>\n      <td>2,002</td>\n      <td>3,064</td>\n      <td>3,612</td>\n      <td>2,306</td>\n      <td>4,067</td>\n      <td>1,494</td>\n      <td>363</td>\n      <td>158</td>\n    </tr>\n    <tr>\n      <th>3</th>\n      <td>TRAFFIC COUNT AT BAKER CREEK</td>\n      <td>2017</td>\n      <td>179</td>\n      <td>179</td>\n      <td>302</td>\n      <td>801</td>\n      <td>2,155</td>\n      <td>3,230</td>\n      <td>3,395</td>\n      <td>2,504</td>\n      <td>1,104</td>\n      <td>2,396</td>\n      <td>499</td>\n      <td>138</td>\n    </tr>\n    <tr>\n      <th>4</th>\n      <td>TRAFFIC COUNT AT BAKER CREEK</td>\n      <td>2016</td>\n      <td>102</td>\n      <td>205</td>\n      <td>926</td>\n      <td>926</td>\n      <td>2,243</td>\n      <td>2,320</td>\n      <td>5,602</td>\n      <td>3,987</td>\n      <td>3,746</td>\n      <td>2,426</td>\n      <td>499</td>\n      <td>187</td>\n    </tr>\n  </tbody>\n</table>\n</div>"
     },
     "metadata": {},
     "execution_count": 24
    }
   ],
   "source": [
    "path=os.path.join(\"Resources\", \"great_basin.csv\")\n",
    "great_basin = pd.read_csv(path, header=[2], encoding='utf-8', delimiter=\",\")\n",
    "great_basin.head()"
   ]
  },
  {
   "cell_type": "code",
   "execution_count": 25,
   "metadata": {},
   "outputs": [
    {
     "output_type": "execute_result",
     "data": {
      "text/plain": [
       "                    GroupDescription  Year JAN FEB MAR APR MAY  JUN  JUL  AUG  \\\n",
       "0  TRAFFIC COUNT AT MEDANO PASS ROAD  2020   0   0   0   0   0    0    0    0   \n",
       "1  TRAFFIC COUNT AT MEDANO PASS ROAD  2019   0   0   0   0   0    0    0    0   \n",
       "2  TRAFFIC COUNT AT MEDANO PASS ROAD  2018   0   0   0   0   0    0    0    0   \n",
       "3  TRAFFIC COUNT AT MEDANO PASS ROAD  2017   0   0   0   0   0  100  400  350   \n",
       "4  TRAFFIC COUNT AT MEDANO PASS ROAD  2016   0   0   0   0   0  201   59  291   \n",
       "\n",
       "   SEP  OCT  NOV  DEC  \n",
       "0    0    0    0  NaN  \n",
       "1    0    0    0    0  \n",
       "2    0    0    0    0  \n",
       "3  290  200  100    0  \n",
       "4    0    0    0    0  "
      ],
      "text/html": "<div>\n<style scoped>\n    .dataframe tbody tr th:only-of-type {\n        vertical-align: middle;\n    }\n\n    .dataframe tbody tr th {\n        vertical-align: top;\n    }\n\n    .dataframe thead th {\n        text-align: right;\n    }\n</style>\n<table border=\"1\" class=\"dataframe\">\n  <thead>\n    <tr style=\"text-align: right;\">\n      <th></th>\n      <th>GroupDescription</th>\n      <th>Year</th>\n      <th>JAN</th>\n      <th>FEB</th>\n      <th>MAR</th>\n      <th>APR</th>\n      <th>MAY</th>\n      <th>JUN</th>\n      <th>JUL</th>\n      <th>AUG</th>\n      <th>SEP</th>\n      <th>OCT</th>\n      <th>NOV</th>\n      <th>DEC</th>\n    </tr>\n  </thead>\n  <tbody>\n    <tr>\n      <th>0</th>\n      <td>TRAFFIC COUNT AT MEDANO PASS ROAD</td>\n      <td>2020</td>\n      <td>0</td>\n      <td>0</td>\n      <td>0</td>\n      <td>0</td>\n      <td>0</td>\n      <td>0</td>\n      <td>0</td>\n      <td>0</td>\n      <td>0</td>\n      <td>0</td>\n      <td>0</td>\n      <td>NaN</td>\n    </tr>\n    <tr>\n      <th>1</th>\n      <td>TRAFFIC COUNT AT MEDANO PASS ROAD</td>\n      <td>2019</td>\n      <td>0</td>\n      <td>0</td>\n      <td>0</td>\n      <td>0</td>\n      <td>0</td>\n      <td>0</td>\n      <td>0</td>\n      <td>0</td>\n      <td>0</td>\n      <td>0</td>\n      <td>0</td>\n      <td>0</td>\n    </tr>\n    <tr>\n      <th>2</th>\n      <td>TRAFFIC COUNT AT MEDANO PASS ROAD</td>\n      <td>2018</td>\n      <td>0</td>\n      <td>0</td>\n      <td>0</td>\n      <td>0</td>\n      <td>0</td>\n      <td>0</td>\n      <td>0</td>\n      <td>0</td>\n      <td>0</td>\n      <td>0</td>\n      <td>0</td>\n      <td>0</td>\n    </tr>\n    <tr>\n      <th>3</th>\n      <td>TRAFFIC COUNT AT MEDANO PASS ROAD</td>\n      <td>2017</td>\n      <td>0</td>\n      <td>0</td>\n      <td>0</td>\n      <td>0</td>\n      <td>0</td>\n      <td>100</td>\n      <td>400</td>\n      <td>350</td>\n      <td>290</td>\n      <td>200</td>\n      <td>100</td>\n      <td>0</td>\n    </tr>\n    <tr>\n      <th>4</th>\n      <td>TRAFFIC COUNT AT MEDANO PASS ROAD</td>\n      <td>2016</td>\n      <td>0</td>\n      <td>0</td>\n      <td>0</td>\n      <td>0</td>\n      <td>0</td>\n      <td>201</td>\n      <td>59</td>\n      <td>291</td>\n      <td>0</td>\n      <td>0</td>\n      <td>0</td>\n      <td>0</td>\n    </tr>\n  </tbody>\n</table>\n</div>"
     },
     "metadata": {},
     "execution_count": 25
    }
   ],
   "source": [
    "path=os.path.join(\"Resources\", \"great_sand_dunes.csv\")\n",
    "great_sand_dunes = pd.read_csv(path, header=[2], encoding='utf-8', delimiter=\",\")\n",
    "great_sand_dunes.head()"
   ]
  },
  {
   "cell_type": "code",
   "execution_count": 26,
   "metadata": {},
   "outputs": [
    {
     "output_type": "execute_result",
     "data": {
      "text/plain": [
       "             GroupDescription  Year  JAN    FEB    MAR    APR    MAY    JUN  \\\n",
       "0  TRAFFIC COUNT AT BIG CREEK  2020  827  1,130  1,261      0  3,731  6,441   \n",
       "1  TRAFFIC COUNT AT BIG CREEK  2019   31    170  1,355  1,407  4,440  4,235   \n",
       "2  TRAFFIC COUNT AT BIG CREEK  2018   31    170  1,355  2,465  4,230    607   \n",
       "3  TRAFFIC COUNT AT BIG CREEK  2017   31    169    952    442    486    616   \n",
       "4  TRAFFIC COUNT AT BIG CREEK  2016   31    169    420    201    552    616   \n",
       "\n",
       "     JUL    AUG    SEP    OCT    NOV  DEC  \n",
       "0  9,507  5,446  4,797    NaN    NaN  NaN  \n",
       "1  7,198  5,309  2,565  3,011  1,050  923  \n",
       "2  6,417  3,649  2,758  3,195    332  155  \n",
       "3  7,826  5,022  2,931  3,574    332  155  \n",
       "4    675    527    680  1,079    332  155  "
      ],
      "text/html": "<div>\n<style scoped>\n    .dataframe tbody tr th:only-of-type {\n        vertical-align: middle;\n    }\n\n    .dataframe tbody tr th {\n        vertical-align: top;\n    }\n\n    .dataframe thead th {\n        text-align: right;\n    }\n</style>\n<table border=\"1\" class=\"dataframe\">\n  <thead>\n    <tr style=\"text-align: right;\">\n      <th></th>\n      <th>GroupDescription</th>\n      <th>Year</th>\n      <th>JAN</th>\n      <th>FEB</th>\n      <th>MAR</th>\n      <th>APR</th>\n      <th>MAY</th>\n      <th>JUN</th>\n      <th>JUL</th>\n      <th>AUG</th>\n      <th>SEP</th>\n      <th>OCT</th>\n      <th>NOV</th>\n      <th>DEC</th>\n    </tr>\n  </thead>\n  <tbody>\n    <tr>\n      <th>0</th>\n      <td>TRAFFIC COUNT AT BIG CREEK</td>\n      <td>2020</td>\n      <td>827</td>\n      <td>1,130</td>\n      <td>1,261</td>\n      <td>0</td>\n      <td>3,731</td>\n      <td>6,441</td>\n      <td>9,507</td>\n      <td>5,446</td>\n      <td>4,797</td>\n      <td>NaN</td>\n      <td>NaN</td>\n      <td>NaN</td>\n    </tr>\n    <tr>\n      <th>1</th>\n      <td>TRAFFIC COUNT AT BIG CREEK</td>\n      <td>2019</td>\n      <td>31</td>\n      <td>170</td>\n      <td>1,355</td>\n      <td>1,407</td>\n      <td>4,440</td>\n      <td>4,235</td>\n      <td>7,198</td>\n      <td>5,309</td>\n      <td>2,565</td>\n      <td>3,011</td>\n      <td>1,050</td>\n      <td>923</td>\n    </tr>\n    <tr>\n      <th>2</th>\n      <td>TRAFFIC COUNT AT BIG CREEK</td>\n      <td>2018</td>\n      <td>31</td>\n      <td>170</td>\n      <td>1,355</td>\n      <td>2,465</td>\n      <td>4,230</td>\n      <td>607</td>\n      <td>6,417</td>\n      <td>3,649</td>\n      <td>2,758</td>\n      <td>3,195</td>\n      <td>332</td>\n      <td>155</td>\n    </tr>\n    <tr>\n      <th>3</th>\n      <td>TRAFFIC COUNT AT BIG CREEK</td>\n      <td>2017</td>\n      <td>31</td>\n      <td>169</td>\n      <td>952</td>\n      <td>442</td>\n      <td>486</td>\n      <td>616</td>\n      <td>7,826</td>\n      <td>5,022</td>\n      <td>2,931</td>\n      <td>3,574</td>\n      <td>332</td>\n      <td>155</td>\n    </tr>\n    <tr>\n      <th>4</th>\n      <td>TRAFFIC COUNT AT BIG CREEK</td>\n      <td>2016</td>\n      <td>31</td>\n      <td>169</td>\n      <td>420</td>\n      <td>201</td>\n      <td>552</td>\n      <td>616</td>\n      <td>675</td>\n      <td>527</td>\n      <td>680</td>\n      <td>1,079</td>\n      <td>332</td>\n      <td>155</td>\n    </tr>\n  </tbody>\n</table>\n</div>"
     },
     "metadata": {},
     "execution_count": 26
    }
   ],
   "source": [
    "path=os.path.join(\"Resources\", \"great_smokey_mountains.csv\")\n",
    "great_smokey_mountains = pd.read_csv(path, header=[2], encoding='utf-8', delimiter=\",\")\n",
    "great_smokey_mountains.head()"
   ]
  },
  {
   "cell_type": "code",
   "execution_count": 27,
   "metadata": {},
   "outputs": [
    {
     "output_type": "execute_result",
     "data": {
      "text/plain": [
       "              GroupDescription  Year  JAN  FEB  MAR  APR  MAY  JUN  JUL  \\\n",
       "0  TRAFFIC COUNT AT DOG CANYON  2020  147  135  206    0    0   70   86   \n",
       "1  TRAFFIC COUNT AT DOG CANYON  2019  106   49  428  336  236  195  202   \n",
       "2  TRAFFIC COUNT AT DOG CANYON  2018   49   44   65  141  154   81  134   \n",
       "3  TRAFFIC COUNT AT DOG CANYON  2017   82   93  182  149  129  132   79   \n",
       "4  TRAFFIC COUNT AT DOG CANYON  2016   89  116  176  145  270   18  174   \n",
       "\n",
       "     AUG  SEP    OCT  NOV  DEC  \n",
       "0     39   20    214  NaN  NaN  \n",
       "1    152   49    397  133  141  \n",
       "2  1,100  118  1,085  127   75  \n",
       "3     89   84     57   49   48  \n",
       "4     99  126    151  142   78  "
      ],
      "text/html": "<div>\n<style scoped>\n    .dataframe tbody tr th:only-of-type {\n        vertical-align: middle;\n    }\n\n    .dataframe tbody tr th {\n        vertical-align: top;\n    }\n\n    .dataframe thead th {\n        text-align: right;\n    }\n</style>\n<table border=\"1\" class=\"dataframe\">\n  <thead>\n    <tr style=\"text-align: right;\">\n      <th></th>\n      <th>GroupDescription</th>\n      <th>Year</th>\n      <th>JAN</th>\n      <th>FEB</th>\n      <th>MAR</th>\n      <th>APR</th>\n      <th>MAY</th>\n      <th>JUN</th>\n      <th>JUL</th>\n      <th>AUG</th>\n      <th>SEP</th>\n      <th>OCT</th>\n      <th>NOV</th>\n      <th>DEC</th>\n    </tr>\n  </thead>\n  <tbody>\n    <tr>\n      <th>0</th>\n      <td>TRAFFIC COUNT AT DOG CANYON</td>\n      <td>2020</td>\n      <td>147</td>\n      <td>135</td>\n      <td>206</td>\n      <td>0</td>\n      <td>0</td>\n      <td>70</td>\n      <td>86</td>\n      <td>39</td>\n      <td>20</td>\n      <td>214</td>\n      <td>NaN</td>\n      <td>NaN</td>\n    </tr>\n    <tr>\n      <th>1</th>\n      <td>TRAFFIC COUNT AT DOG CANYON</td>\n      <td>2019</td>\n      <td>106</td>\n      <td>49</td>\n      <td>428</td>\n      <td>336</td>\n      <td>236</td>\n      <td>195</td>\n      <td>202</td>\n      <td>152</td>\n      <td>49</td>\n      <td>397</td>\n      <td>133</td>\n      <td>141</td>\n    </tr>\n    <tr>\n      <th>2</th>\n      <td>TRAFFIC COUNT AT DOG CANYON</td>\n      <td>2018</td>\n      <td>49</td>\n      <td>44</td>\n      <td>65</td>\n      <td>141</td>\n      <td>154</td>\n      <td>81</td>\n      <td>134</td>\n      <td>1,100</td>\n      <td>118</td>\n      <td>1,085</td>\n      <td>127</td>\n      <td>75</td>\n    </tr>\n    <tr>\n      <th>3</th>\n      <td>TRAFFIC COUNT AT DOG CANYON</td>\n      <td>2017</td>\n      <td>82</td>\n      <td>93</td>\n      <td>182</td>\n      <td>149</td>\n      <td>129</td>\n      <td>132</td>\n      <td>79</td>\n      <td>89</td>\n      <td>84</td>\n      <td>57</td>\n      <td>49</td>\n      <td>48</td>\n    </tr>\n    <tr>\n      <th>4</th>\n      <td>TRAFFIC COUNT AT DOG CANYON</td>\n      <td>2016</td>\n      <td>89</td>\n      <td>116</td>\n      <td>176</td>\n      <td>145</td>\n      <td>270</td>\n      <td>18</td>\n      <td>174</td>\n      <td>99</td>\n      <td>126</td>\n      <td>151</td>\n      <td>142</td>\n      <td>78</td>\n    </tr>\n  </tbody>\n</table>\n</div>"
     },
     "metadata": {},
     "execution_count": 27
    }
   ],
   "source": [
    "path=os.path.join(\"Resources\", \"guadalupe_mountains.csv\")\n",
    "guadalupe_mountains = pd.read_csv(path, header=[2], encoding='utf-8', delimiter=\",\")\n",
    "guadalupe_mountains.head()"
   ]
  },
  {
   "cell_type": "code",
   "execution_count": 28,
   "metadata": {},
   "outputs": [
    {
     "output_type": "execute_result",
     "data": {
      "text/plain": [
       "                                    GroupDescription  Year     JAN     FEB  \\\n",
       "0  TRAFFIC COUNT AT COASTAL ENTRANCE (Kipahulu) \\...  2020  12,012  10,810   \n",
       "1  TRAFFIC COUNT AT COASTAL ENTRANCE (Kipahulu) \\...  2019  29,843  10,751   \n",
       "2  TRAFFIC COUNT AT COASTAL ENTRANCE (Kipahulu) \\...  2018  10,925  10,221   \n",
       "3  TRAFFIC COUNT AT COASTAL ENTRANCE (Kipahulu) \\...  2017  10,816   9,054   \n",
       "4  TRAFFIC COUNT AT COASTAL ENTRANCE (Kipahulu) \\...  2016  13,296  12,767   \n",
       "\n",
       "      MAR     APR     MAY     JUN     JUL     AUG     SEP     OCT     NOV  \\\n",
       "0   5,928       0       0       0     458     764     738   1,813   7,127   \n",
       "1  13,928  12,032  13,827  14,077  15,687  14,619  14,821  12,994  11,418   \n",
       "2  11,695   9,995  10,795  11,112  22,919  10,260   9,829   5,000   4,400   \n",
       "3  11,745  10,389  10,783  11,028  12,000   8,924   8,924   5,026   4,432   \n",
       "4  13,623  13,320  14,971  14,293  14,293  15,057  11,142  12,511   9,272   \n",
       "\n",
       "      DEC  \n",
       "0     NaN  \n",
       "1  14,160  \n",
       "2   8,000  \n",
       "3  10,128  \n",
       "4   8,986  "
      ],
      "text/html": "<div>\n<style scoped>\n    .dataframe tbody tr th:only-of-type {\n        vertical-align: middle;\n    }\n\n    .dataframe tbody tr th {\n        vertical-align: top;\n    }\n\n    .dataframe thead th {\n        text-align: right;\n    }\n</style>\n<table border=\"1\" class=\"dataframe\">\n  <thead>\n    <tr style=\"text-align: right;\">\n      <th></th>\n      <th>GroupDescription</th>\n      <th>Year</th>\n      <th>JAN</th>\n      <th>FEB</th>\n      <th>MAR</th>\n      <th>APR</th>\n      <th>MAY</th>\n      <th>JUN</th>\n      <th>JUL</th>\n      <th>AUG</th>\n      <th>SEP</th>\n      <th>OCT</th>\n      <th>NOV</th>\n      <th>DEC</th>\n    </tr>\n  </thead>\n  <tbody>\n    <tr>\n      <th>0</th>\n      <td>TRAFFIC COUNT AT COASTAL ENTRANCE (Kipahulu) \\...</td>\n      <td>2020</td>\n      <td>12,012</td>\n      <td>10,810</td>\n      <td>5,928</td>\n      <td>0</td>\n      <td>0</td>\n      <td>0</td>\n      <td>458</td>\n      <td>764</td>\n      <td>738</td>\n      <td>1,813</td>\n      <td>7,127</td>\n      <td>NaN</td>\n    </tr>\n    <tr>\n      <th>1</th>\n      <td>TRAFFIC COUNT AT COASTAL ENTRANCE (Kipahulu) \\...</td>\n      <td>2019</td>\n      <td>29,843</td>\n      <td>10,751</td>\n      <td>13,928</td>\n      <td>12,032</td>\n      <td>13,827</td>\n      <td>14,077</td>\n      <td>15,687</td>\n      <td>14,619</td>\n      <td>14,821</td>\n      <td>12,994</td>\n      <td>11,418</td>\n      <td>14,160</td>\n    </tr>\n    <tr>\n      <th>2</th>\n      <td>TRAFFIC COUNT AT COASTAL ENTRANCE (Kipahulu) \\...</td>\n      <td>2018</td>\n      <td>10,925</td>\n      <td>10,221</td>\n      <td>11,695</td>\n      <td>9,995</td>\n      <td>10,795</td>\n      <td>11,112</td>\n      <td>22,919</td>\n      <td>10,260</td>\n      <td>9,829</td>\n      <td>5,000</td>\n      <td>4,400</td>\n      <td>8,000</td>\n    </tr>\n    <tr>\n      <th>3</th>\n      <td>TRAFFIC COUNT AT COASTAL ENTRANCE (Kipahulu) \\...</td>\n      <td>2017</td>\n      <td>10,816</td>\n      <td>9,054</td>\n      <td>11,745</td>\n      <td>10,389</td>\n      <td>10,783</td>\n      <td>11,028</td>\n      <td>12,000</td>\n      <td>8,924</td>\n      <td>8,924</td>\n      <td>5,026</td>\n      <td>4,432</td>\n      <td>10,128</td>\n    </tr>\n    <tr>\n      <th>4</th>\n      <td>TRAFFIC COUNT AT COASTAL ENTRANCE (Kipahulu) \\...</td>\n      <td>2016</td>\n      <td>13,296</td>\n      <td>12,767</td>\n      <td>13,623</td>\n      <td>13,320</td>\n      <td>14,971</td>\n      <td>14,293</td>\n      <td>14,293</td>\n      <td>15,057</td>\n      <td>11,142</td>\n      <td>12,511</td>\n      <td>9,272</td>\n      <td>8,986</td>\n    </tr>\n  </tbody>\n</table>\n</div>"
     },
     "metadata": {},
     "execution_count": 28
    }
   ],
   "source": [
    "path=os.path.join(\"Resources\", \"haleakala.csv\")\n",
    "haleakala = pd.read_csv(path, header=[2], encoding='utf-8', delimiter=\",\")\n",
    "haleakala.head()"
   ]
  },
  {
   "cell_type": "code",
   "execution_count": 29,
   "metadata": {},
   "outputs": [
    {
     "output_type": "execute_result",
     "data": {
      "text/plain": [
       "                                    GroupDescription  Year     JAN     FEB  \\\n",
       "0  TRAFFIC COUNT AT CHAINS OF CRATER ROAD (INFO O...  2020  15,211  13,331   \n",
       "1  TRAFFIC COUNT AT CHAINS OF CRATER ROAD (INFO O...  2019       0       0   \n",
       "2  TRAFFIC COUNT AT CHAINS OF CRATER ROAD (INFO O...  2018  14,494  15,650   \n",
       "3  TRAFFIC COUNT AT CHAINS OF CRATER ROAD (INFO O...  2017  15,784  13,791   \n",
       "4  TRAFFIC COUNT AT CHAINS OF CRATER ROAD (INFO O...  2016  12,573  12,558   \n",
       "\n",
       "      MAR     APR     MAY     JUN     JUL     AUG     SEP     OCT     NOV  \\\n",
       "0   9,700       0       0     803   2,382   1,928   1,500   1,729     NaN   \n",
       "1       0       0   7,849  12,651  15,843  14,928  12,431  12,665  12,045   \n",
       "2  15,649  14,216       0       0       0       0       0       0       0   \n",
       "3  13,909  12,924  13,920  13,908  14,940  13,910  11,825  11,825  11,500   \n",
       "4  12,102  11,025  11,439  12,271  15,662  16,884  12,460  12,609  12,007   \n",
       "\n",
       "      DEC  \n",
       "0     NaN  \n",
       "1  16,525  \n",
       "2       0  \n",
       "3  13,750  \n",
       "4  13,537  "
      ],
      "text/html": "<div>\n<style scoped>\n    .dataframe tbody tr th:only-of-type {\n        vertical-align: middle;\n    }\n\n    .dataframe tbody tr th {\n        vertical-align: top;\n    }\n\n    .dataframe thead th {\n        text-align: right;\n    }\n</style>\n<table border=\"1\" class=\"dataframe\">\n  <thead>\n    <tr style=\"text-align: right;\">\n      <th></th>\n      <th>GroupDescription</th>\n      <th>Year</th>\n      <th>JAN</th>\n      <th>FEB</th>\n      <th>MAR</th>\n      <th>APR</th>\n      <th>MAY</th>\n      <th>JUN</th>\n      <th>JUL</th>\n      <th>AUG</th>\n      <th>SEP</th>\n      <th>OCT</th>\n      <th>NOV</th>\n      <th>DEC</th>\n    </tr>\n  </thead>\n  <tbody>\n    <tr>\n      <th>0</th>\n      <td>TRAFFIC COUNT AT CHAINS OF CRATER ROAD (INFO O...</td>\n      <td>2020</td>\n      <td>15,211</td>\n      <td>13,331</td>\n      <td>9,700</td>\n      <td>0</td>\n      <td>0</td>\n      <td>803</td>\n      <td>2,382</td>\n      <td>1,928</td>\n      <td>1,500</td>\n      <td>1,729</td>\n      <td>NaN</td>\n      <td>NaN</td>\n    </tr>\n    <tr>\n      <th>1</th>\n      <td>TRAFFIC COUNT AT CHAINS OF CRATER ROAD (INFO O...</td>\n      <td>2019</td>\n      <td>0</td>\n      <td>0</td>\n      <td>0</td>\n      <td>0</td>\n      <td>7,849</td>\n      <td>12,651</td>\n      <td>15,843</td>\n      <td>14,928</td>\n      <td>12,431</td>\n      <td>12,665</td>\n      <td>12,045</td>\n      <td>16,525</td>\n    </tr>\n    <tr>\n      <th>2</th>\n      <td>TRAFFIC COUNT AT CHAINS OF CRATER ROAD (INFO O...</td>\n      <td>2018</td>\n      <td>14,494</td>\n      <td>15,650</td>\n      <td>15,649</td>\n      <td>14,216</td>\n      <td>0</td>\n      <td>0</td>\n      <td>0</td>\n      <td>0</td>\n      <td>0</td>\n      <td>0</td>\n      <td>0</td>\n      <td>0</td>\n    </tr>\n    <tr>\n      <th>3</th>\n      <td>TRAFFIC COUNT AT CHAINS OF CRATER ROAD (INFO O...</td>\n      <td>2017</td>\n      <td>15,784</td>\n      <td>13,791</td>\n      <td>13,909</td>\n      <td>12,924</td>\n      <td>13,920</td>\n      <td>13,908</td>\n      <td>14,940</td>\n      <td>13,910</td>\n      <td>11,825</td>\n      <td>11,825</td>\n      <td>11,500</td>\n      <td>13,750</td>\n    </tr>\n    <tr>\n      <th>4</th>\n      <td>TRAFFIC COUNT AT CHAINS OF CRATER ROAD (INFO O...</td>\n      <td>2016</td>\n      <td>12,573</td>\n      <td>12,558</td>\n      <td>12,102</td>\n      <td>11,025</td>\n      <td>11,439</td>\n      <td>12,271</td>\n      <td>15,662</td>\n      <td>16,884</td>\n      <td>12,460</td>\n      <td>12,609</td>\n      <td>12,007</td>\n      <td>13,537</td>\n    </tr>\n  </tbody>\n</table>\n</div>"
     },
     "metadata": {},
     "execution_count": 29
    }
   ],
   "source": [
    "path=os.path.join(\"Resources\", \"hawaii_volcanoes.csv\")\n",
    "hawaii_volcanoes = pd.read_csv(path, header=[2], encoding='utf-8', delimiter=\",\")\n",
    "hawaii_volcanoes.head()"
   ]
  },
  {
   "cell_type": "code",
   "execution_count": 30,
   "metadata": {},
   "outputs": [
    {
     "output_type": "execute_result",
     "data": {
      "text/plain": [
       "                        GroupDescription  Year    JAN    FEB     MAR    APR  \\\n",
       "0  TRAFFIC COUNT AT HOT SPRINGS MOUNTAIN  2020  6,955  6,262  13,021  9,357   \n",
       "1  TRAFFIC COUNT AT HOT SPRINGS MOUNTAIN  2019  6,856  6,206  12,445  9,873   \n",
       "2  TRAFFIC COUNT AT HOT SPRINGS MOUNTAIN  2018  6,439  7,255  14,879  9,123   \n",
       "3  TRAFFIC COUNT AT HOT SPRINGS MOUNTAIN  2017  6,805  7,187  13,947  9,873   \n",
       "4  TRAFFIC COUNT AT HOT SPRINGS MOUNTAIN  2016  7,314  5,349  12,947  8,875   \n",
       "\n",
       "      MAY     JUN     JUL     AUG     SEP     OCT     NOV    DEC  \n",
       "0  11,208  12,396  15,001  17,799  10,991  10,983   8,366    NaN  \n",
       "1  11,462  12,342  15,979  15,748  10,991  10,167   8,228  6,106  \n",
       "2  10,918  11,724  16,014  14,568  10,842  10,887   8,186  5,908  \n",
       "3  11,462  12,404  15,029  14,113  10,634  11,987   7,828  6,793  \n",
       "4  11,314  10,755  14,295  16,347  12,558  11,362  10,399  9,409  "
      ],
      "text/html": "<div>\n<style scoped>\n    .dataframe tbody tr th:only-of-type {\n        vertical-align: middle;\n    }\n\n    .dataframe tbody tr th {\n        vertical-align: top;\n    }\n\n    .dataframe thead th {\n        text-align: right;\n    }\n</style>\n<table border=\"1\" class=\"dataframe\">\n  <thead>\n    <tr style=\"text-align: right;\">\n      <th></th>\n      <th>GroupDescription</th>\n      <th>Year</th>\n      <th>JAN</th>\n      <th>FEB</th>\n      <th>MAR</th>\n      <th>APR</th>\n      <th>MAY</th>\n      <th>JUN</th>\n      <th>JUL</th>\n      <th>AUG</th>\n      <th>SEP</th>\n      <th>OCT</th>\n      <th>NOV</th>\n      <th>DEC</th>\n    </tr>\n  </thead>\n  <tbody>\n    <tr>\n      <th>0</th>\n      <td>TRAFFIC COUNT AT HOT SPRINGS MOUNTAIN</td>\n      <td>2020</td>\n      <td>6,955</td>\n      <td>6,262</td>\n      <td>13,021</td>\n      <td>9,357</td>\n      <td>11,208</td>\n      <td>12,396</td>\n      <td>15,001</td>\n      <td>17,799</td>\n      <td>10,991</td>\n      <td>10,983</td>\n      <td>8,366</td>\n      <td>NaN</td>\n    </tr>\n    <tr>\n      <th>1</th>\n      <td>TRAFFIC COUNT AT HOT SPRINGS MOUNTAIN</td>\n      <td>2019</td>\n      <td>6,856</td>\n      <td>6,206</td>\n      <td>12,445</td>\n      <td>9,873</td>\n      <td>11,462</td>\n      <td>12,342</td>\n      <td>15,979</td>\n      <td>15,748</td>\n      <td>10,991</td>\n      <td>10,167</td>\n      <td>8,228</td>\n      <td>6,106</td>\n    </tr>\n    <tr>\n      <th>2</th>\n      <td>TRAFFIC COUNT AT HOT SPRINGS MOUNTAIN</td>\n      <td>2018</td>\n      <td>6,439</td>\n      <td>7,255</td>\n      <td>14,879</td>\n      <td>9,123</td>\n      <td>10,918</td>\n      <td>11,724</td>\n      <td>16,014</td>\n      <td>14,568</td>\n      <td>10,842</td>\n      <td>10,887</td>\n      <td>8,186</td>\n      <td>5,908</td>\n    </tr>\n    <tr>\n      <th>3</th>\n      <td>TRAFFIC COUNT AT HOT SPRINGS MOUNTAIN</td>\n      <td>2017</td>\n      <td>6,805</td>\n      <td>7,187</td>\n      <td>13,947</td>\n      <td>9,873</td>\n      <td>11,462</td>\n      <td>12,404</td>\n      <td>15,029</td>\n      <td>14,113</td>\n      <td>10,634</td>\n      <td>11,987</td>\n      <td>7,828</td>\n      <td>6,793</td>\n    </tr>\n    <tr>\n      <th>4</th>\n      <td>TRAFFIC COUNT AT HOT SPRINGS MOUNTAIN</td>\n      <td>2016</td>\n      <td>7,314</td>\n      <td>5,349</td>\n      <td>12,947</td>\n      <td>8,875</td>\n      <td>11,314</td>\n      <td>10,755</td>\n      <td>14,295</td>\n      <td>16,347</td>\n      <td>12,558</td>\n      <td>11,362</td>\n      <td>10,399</td>\n      <td>9,409</td>\n    </tr>\n  </tbody>\n</table>\n</div>"
     },
     "metadata": {},
     "execution_count": 30
    }
   ],
   "source": [
    "path=os.path.join(\"Resources\", \"hot_springs.csv\")\n",
    "hot_springs = pd.read_csv(path, header=[2], encoding='utf-8', delimiter=\",\")\n",
    "hot_springs.head()"
   ]
  },
  {
   "cell_type": "code",
   "execution_count": 31,
   "metadata": {},
   "outputs": [
    {
     "output_type": "execute_result",
     "data": {
      "text/plain": [
       "                    GroupDescription  Year    JAN    FEB    MAR    APR  \\\n",
       "0  TRAFFIC COUNT AT BAILLY/CHELLBERG  2020  1,962  2,739  4,853  4,914   \n",
       "1  TRAFFIC COUNT AT BAILLY/CHELLBERG  2019  4,467  3,938  4,721  6,188   \n",
       "2  TRAFFIC COUNT AT BAILLY/CHELLBERG  2018  4,195  4,208  8,913  6,059   \n",
       "3  TRAFFIC COUNT AT BAILLY/CHELLBERG  2017  4,328  5,784  5,863  5,652   \n",
       "4  TRAFFIC COUNT AT BAILLY/CHELLBERG  2016  4,262  4,896  8,969  9,202   \n",
       "\n",
       "      MAY    JUN    JUL     AUG     SEP     OCT    NOV    DEC  \n",
       "0   6,450  6,925  3,361   7,746     NaN     NaN    NaN    NaN  \n",
       "1   3,525  5,734  5,106   6,336   7,125   4,265  2,929  2,590  \n",
       "2   5,631  5,094  8,236   4,748   8,426  10,343  4,069  1,761  \n",
       "3   6,515  5,646  6,951  12,940  11,966   4,755  5,791  4,438  \n",
       "4  10,584  7,538  6,421   5,888   7,444   7,970  6,612  4,084  "
      ],
      "text/html": "<div>\n<style scoped>\n    .dataframe tbody tr th:only-of-type {\n        vertical-align: middle;\n    }\n\n    .dataframe tbody tr th {\n        vertical-align: top;\n    }\n\n    .dataframe thead th {\n        text-align: right;\n    }\n</style>\n<table border=\"1\" class=\"dataframe\">\n  <thead>\n    <tr style=\"text-align: right;\">\n      <th></th>\n      <th>GroupDescription</th>\n      <th>Year</th>\n      <th>JAN</th>\n      <th>FEB</th>\n      <th>MAR</th>\n      <th>APR</th>\n      <th>MAY</th>\n      <th>JUN</th>\n      <th>JUL</th>\n      <th>AUG</th>\n      <th>SEP</th>\n      <th>OCT</th>\n      <th>NOV</th>\n      <th>DEC</th>\n    </tr>\n  </thead>\n  <tbody>\n    <tr>\n      <th>0</th>\n      <td>TRAFFIC COUNT AT BAILLY/CHELLBERG</td>\n      <td>2020</td>\n      <td>1,962</td>\n      <td>2,739</td>\n      <td>4,853</td>\n      <td>4,914</td>\n      <td>6,450</td>\n      <td>6,925</td>\n      <td>3,361</td>\n      <td>7,746</td>\n      <td>NaN</td>\n      <td>NaN</td>\n      <td>NaN</td>\n      <td>NaN</td>\n    </tr>\n    <tr>\n      <th>1</th>\n      <td>TRAFFIC COUNT AT BAILLY/CHELLBERG</td>\n      <td>2019</td>\n      <td>4,467</td>\n      <td>3,938</td>\n      <td>4,721</td>\n      <td>6,188</td>\n      <td>3,525</td>\n      <td>5,734</td>\n      <td>5,106</td>\n      <td>6,336</td>\n      <td>7,125</td>\n      <td>4,265</td>\n      <td>2,929</td>\n      <td>2,590</td>\n    </tr>\n    <tr>\n      <th>2</th>\n      <td>TRAFFIC COUNT AT BAILLY/CHELLBERG</td>\n      <td>2018</td>\n      <td>4,195</td>\n      <td>4,208</td>\n      <td>8,913</td>\n      <td>6,059</td>\n      <td>5,631</td>\n      <td>5,094</td>\n      <td>8,236</td>\n      <td>4,748</td>\n      <td>8,426</td>\n      <td>10,343</td>\n      <td>4,069</td>\n      <td>1,761</td>\n    </tr>\n    <tr>\n      <th>3</th>\n      <td>TRAFFIC COUNT AT BAILLY/CHELLBERG</td>\n      <td>2017</td>\n      <td>4,328</td>\n      <td>5,784</td>\n      <td>5,863</td>\n      <td>5,652</td>\n      <td>6,515</td>\n      <td>5,646</td>\n      <td>6,951</td>\n      <td>12,940</td>\n      <td>11,966</td>\n      <td>4,755</td>\n      <td>5,791</td>\n      <td>4,438</td>\n    </tr>\n    <tr>\n      <th>4</th>\n      <td>TRAFFIC COUNT AT BAILLY/CHELLBERG</td>\n      <td>2016</td>\n      <td>4,262</td>\n      <td>4,896</td>\n      <td>8,969</td>\n      <td>9,202</td>\n      <td>10,584</td>\n      <td>7,538</td>\n      <td>6,421</td>\n      <td>5,888</td>\n      <td>7,444</td>\n      <td>7,970</td>\n      <td>6,612</td>\n      <td>4,084</td>\n    </tr>\n  </tbody>\n</table>\n</div>"
     },
     "metadata": {},
     "execution_count": 31
    }
   ],
   "source": [
    "path=os.path.join(\"Resources\", \"indiana_dunes.csv\")\n",
    "indiana_dunes = pd.read_csv(path, header=[2], encoding='utf-8', delimiter=\",\")\n",
    "indiana_dunes.head()"
   ]
  },
  {
   "cell_type": "code",
   "execution_count": 32,
   "metadata": {},
   "outputs": [
    {
     "output_type": "execute_result",
     "data": {
      "text/plain": [
       "            GroupDescription  Year     JAN     FEB     MAR     APR     MAY  \\\n",
       "0  TRAFFIC COUNT AT 29 PALMS  2020  17,412  18,747  17,486       0   8,112   \n",
       "1  TRAFFIC COUNT AT 29 PALMS  2019  10,800  15,914  30,859  24,656  17,964   \n",
       "2  TRAFFIC COUNT AT 29 PALMS  2018  14,725  15,829  25,749  19,731  16,218   \n",
       "3  TRAFFIC COUNT AT 29 PALMS  2017  15,943  17,754  28,014  26,359  14,291   \n",
       "4  TRAFFIC COUNT AT 29 PALMS  2016  11,325  14,362  18,312  12,706  17,060   \n",
       "\n",
       "      JUN     JUL     AUG     SEP     OCT     NOV     DEC  \n",
       "0  18,000   9,156   9,800  13,000  17,974  25,134     NaN  \n",
       "1  17,357   9,483  10,096  11,678  15,791  17,165  17,897  \n",
       "2  10,197   8,886  10,130   8,926  15,298  18,374  17,314  \n",
       "3   8,501   8,630   9,635  10,226  15,321  16,779  16,646  \n",
       "4   6,811  12,158  12,158  10,723  16,586  15,726  16,776  "
      ],
      "text/html": "<div>\n<style scoped>\n    .dataframe tbody tr th:only-of-type {\n        vertical-align: middle;\n    }\n\n    .dataframe tbody tr th {\n        vertical-align: top;\n    }\n\n    .dataframe thead th {\n        text-align: right;\n    }\n</style>\n<table border=\"1\" class=\"dataframe\">\n  <thead>\n    <tr style=\"text-align: right;\">\n      <th></th>\n      <th>GroupDescription</th>\n      <th>Year</th>\n      <th>JAN</th>\n      <th>FEB</th>\n      <th>MAR</th>\n      <th>APR</th>\n      <th>MAY</th>\n      <th>JUN</th>\n      <th>JUL</th>\n      <th>AUG</th>\n      <th>SEP</th>\n      <th>OCT</th>\n      <th>NOV</th>\n      <th>DEC</th>\n    </tr>\n  </thead>\n  <tbody>\n    <tr>\n      <th>0</th>\n      <td>TRAFFIC COUNT AT 29 PALMS</td>\n      <td>2020</td>\n      <td>17,412</td>\n      <td>18,747</td>\n      <td>17,486</td>\n      <td>0</td>\n      <td>8,112</td>\n      <td>18,000</td>\n      <td>9,156</td>\n      <td>9,800</td>\n      <td>13,000</td>\n      <td>17,974</td>\n      <td>25,134</td>\n      <td>NaN</td>\n    </tr>\n    <tr>\n      <th>1</th>\n      <td>TRAFFIC COUNT AT 29 PALMS</td>\n      <td>2019</td>\n      <td>10,800</td>\n      <td>15,914</td>\n      <td>30,859</td>\n      <td>24,656</td>\n      <td>17,964</td>\n      <td>17,357</td>\n      <td>9,483</td>\n      <td>10,096</td>\n      <td>11,678</td>\n      <td>15,791</td>\n      <td>17,165</td>\n      <td>17,897</td>\n    </tr>\n    <tr>\n      <th>2</th>\n      <td>TRAFFIC COUNT AT 29 PALMS</td>\n      <td>2018</td>\n      <td>14,725</td>\n      <td>15,829</td>\n      <td>25,749</td>\n      <td>19,731</td>\n      <td>16,218</td>\n      <td>10,197</td>\n      <td>8,886</td>\n      <td>10,130</td>\n      <td>8,926</td>\n      <td>15,298</td>\n      <td>18,374</td>\n      <td>17,314</td>\n    </tr>\n    <tr>\n      <th>3</th>\n      <td>TRAFFIC COUNT AT 29 PALMS</td>\n      <td>2017</td>\n      <td>15,943</td>\n      <td>17,754</td>\n      <td>28,014</td>\n      <td>26,359</td>\n      <td>14,291</td>\n      <td>8,501</td>\n      <td>8,630</td>\n      <td>9,635</td>\n      <td>10,226</td>\n      <td>15,321</td>\n      <td>16,779</td>\n      <td>16,646</td>\n    </tr>\n    <tr>\n      <th>4</th>\n      <td>TRAFFIC COUNT AT 29 PALMS</td>\n      <td>2016</td>\n      <td>11,325</td>\n      <td>14,362</td>\n      <td>18,312</td>\n      <td>12,706</td>\n      <td>17,060</td>\n      <td>6,811</td>\n      <td>12,158</td>\n      <td>12,158</td>\n      <td>10,723</td>\n      <td>16,586</td>\n      <td>15,726</td>\n      <td>16,776</td>\n    </tr>\n  </tbody>\n</table>\n</div>"
     },
     "metadata": {},
     "execution_count": 32
    }
   ],
   "source": [
    "path=os.path.join(\"Resources\", \"joshua_tree.csv\")\n",
    "joshua_tree = pd.read_csv(path, header=[2], encoding='utf-8', delimiter=\",\")\n",
    "joshua_tree.head()"
   ]
  },
  {
   "cell_type": "code",
   "execution_count": 33,
   "metadata": {},
   "outputs": [
    {
     "output_type": "execute_result",
     "data": {
      "text/plain": [
       "                GroupDescription  Year  JAN  FEB  MAR  APR    MAY     JUN  \\\n",
       "0  TRAFFIC COUNT AT EXIT GLACIER  2020    0    0    0    0  1,429   5,512   \n",
       "1  TRAFFIC COUNT AT EXIT GLACIER  2019    0    0    0    0  4,996  13,501   \n",
       "2  TRAFFIC COUNT AT EXIT GLACIER  2018    0    0    0    0  5,057  12,831   \n",
       "3  TRAFFIC COUNT AT EXIT GLACIER  2017    0    0    0    0  4,806  13,012   \n",
       "4  TRAFFIC COUNT AT EXIT GLACIER  2016    0    0    0   93  7,184  13,297   \n",
       "\n",
       "      JUL     AUG    SEP    OCT  NOV  DEC  \n",
       "0   7,368   7,667  5,577  1,622    0  NaN  \n",
       "1  18,359  16,050  6,211  1,421    0  0.0  \n",
       "2  17,097  15,173  7,287  1,086    0  0.0  \n",
       "3  17,475  14,425  6,453  1,623    0  0.0  \n",
       "4  18,132  15,111  7,369  1,431    0  0.0  "
      ],
      "text/html": "<div>\n<style scoped>\n    .dataframe tbody tr th:only-of-type {\n        vertical-align: middle;\n    }\n\n    .dataframe tbody tr th {\n        vertical-align: top;\n    }\n\n    .dataframe thead th {\n        text-align: right;\n    }\n</style>\n<table border=\"1\" class=\"dataframe\">\n  <thead>\n    <tr style=\"text-align: right;\">\n      <th></th>\n      <th>GroupDescription</th>\n      <th>Year</th>\n      <th>JAN</th>\n      <th>FEB</th>\n      <th>MAR</th>\n      <th>APR</th>\n      <th>MAY</th>\n      <th>JUN</th>\n      <th>JUL</th>\n      <th>AUG</th>\n      <th>SEP</th>\n      <th>OCT</th>\n      <th>NOV</th>\n      <th>DEC</th>\n    </tr>\n  </thead>\n  <tbody>\n    <tr>\n      <th>0</th>\n      <td>TRAFFIC COUNT AT EXIT GLACIER</td>\n      <td>2020</td>\n      <td>0</td>\n      <td>0</td>\n      <td>0</td>\n      <td>0</td>\n      <td>1,429</td>\n      <td>5,512</td>\n      <td>7,368</td>\n      <td>7,667</td>\n      <td>5,577</td>\n      <td>1,622</td>\n      <td>0</td>\n      <td>NaN</td>\n    </tr>\n    <tr>\n      <th>1</th>\n      <td>TRAFFIC COUNT AT EXIT GLACIER</td>\n      <td>2019</td>\n      <td>0</td>\n      <td>0</td>\n      <td>0</td>\n      <td>0</td>\n      <td>4,996</td>\n      <td>13,501</td>\n      <td>18,359</td>\n      <td>16,050</td>\n      <td>6,211</td>\n      <td>1,421</td>\n      <td>0</td>\n      <td>0.0</td>\n    </tr>\n    <tr>\n      <th>2</th>\n      <td>TRAFFIC COUNT AT EXIT GLACIER</td>\n      <td>2018</td>\n      <td>0</td>\n      <td>0</td>\n      <td>0</td>\n      <td>0</td>\n      <td>5,057</td>\n      <td>12,831</td>\n      <td>17,097</td>\n      <td>15,173</td>\n      <td>7,287</td>\n      <td>1,086</td>\n      <td>0</td>\n      <td>0.0</td>\n    </tr>\n    <tr>\n      <th>3</th>\n      <td>TRAFFIC COUNT AT EXIT GLACIER</td>\n      <td>2017</td>\n      <td>0</td>\n      <td>0</td>\n      <td>0</td>\n      <td>0</td>\n      <td>4,806</td>\n      <td>13,012</td>\n      <td>17,475</td>\n      <td>14,425</td>\n      <td>6,453</td>\n      <td>1,623</td>\n      <td>0</td>\n      <td>0.0</td>\n    </tr>\n    <tr>\n      <th>4</th>\n      <td>TRAFFIC COUNT AT EXIT GLACIER</td>\n      <td>2016</td>\n      <td>0</td>\n      <td>0</td>\n      <td>0</td>\n      <td>93</td>\n      <td>7,184</td>\n      <td>13,297</td>\n      <td>18,132</td>\n      <td>15,111</td>\n      <td>7,369</td>\n      <td>1,431</td>\n      <td>0</td>\n      <td>0.0</td>\n    </tr>\n  </tbody>\n</table>\n</div>"
     },
     "metadata": {},
     "execution_count": 33
    }
   ],
   "source": [
    "path=os.path.join(\"Resources\", \"kenai_fjords.csv\")\n",
    "kenai_fjords = pd.read_csv(path, header=[2], encoding='utf-8', delimiter=\",\")\n",
    "kenai_fjords.head()"
   ]
  },
  {
   "cell_type": "code",
   "execution_count": 34,
   "metadata": {},
   "outputs": [
    {
     "output_type": "execute_result",
     "data": {
      "text/plain": [
       "             GroupDescription  Year    JAN    FEB    MAR     APR     MAY  \\\n",
       "0  TRAFFIC COUNT AT BIG STUMP  2020  7,959  7,078  2,952       0       0   \n",
       "1  TRAFFIC COUNT AT BIG STUMP  2019  6,475  4,074  8,445  14,662  19,716   \n",
       "2  TRAFFIC COUNT AT BIG STUMP  2018  7,795  6,449  7,915  14,051  26,492   \n",
       "3  TRAFFIC COUNT AT BIG STUMP  2017  6,992  5,547  8,692  13,846  25,920   \n",
       "4  TRAFFIC COUNT AT BIG STUMP  2016  7,462  6,469  7,243  10,478  21,637   \n",
       "\n",
       "      JUN     JUL     AUG     SEP     OCT     NOV     DEC  \n",
       "0  22,403  36,247  33,015  15,542  15,068     NaN     NaN  \n",
       "1  34,083  37,467  40,278  27,763  20,079  10,518   6,847  \n",
       "2  34,649  45,199  38,784  29,529  19,272  11,711  10,447  \n",
       "3  36,278  48,040  37,113  29,892  19,603  11,416   8,720  \n",
       "4  30,417  42,573  32,134  28,399  18,444  10,458   6,753  "
      ],
      "text/html": "<div>\n<style scoped>\n    .dataframe tbody tr th:only-of-type {\n        vertical-align: middle;\n    }\n\n    .dataframe tbody tr th {\n        vertical-align: top;\n    }\n\n    .dataframe thead th {\n        text-align: right;\n    }\n</style>\n<table border=\"1\" class=\"dataframe\">\n  <thead>\n    <tr style=\"text-align: right;\">\n      <th></th>\n      <th>GroupDescription</th>\n      <th>Year</th>\n      <th>JAN</th>\n      <th>FEB</th>\n      <th>MAR</th>\n      <th>APR</th>\n      <th>MAY</th>\n      <th>JUN</th>\n      <th>JUL</th>\n      <th>AUG</th>\n      <th>SEP</th>\n      <th>OCT</th>\n      <th>NOV</th>\n      <th>DEC</th>\n    </tr>\n  </thead>\n  <tbody>\n    <tr>\n      <th>0</th>\n      <td>TRAFFIC COUNT AT BIG STUMP</td>\n      <td>2020</td>\n      <td>7,959</td>\n      <td>7,078</td>\n      <td>2,952</td>\n      <td>0</td>\n      <td>0</td>\n      <td>22,403</td>\n      <td>36,247</td>\n      <td>33,015</td>\n      <td>15,542</td>\n      <td>15,068</td>\n      <td>NaN</td>\n      <td>NaN</td>\n    </tr>\n    <tr>\n      <th>1</th>\n      <td>TRAFFIC COUNT AT BIG STUMP</td>\n      <td>2019</td>\n      <td>6,475</td>\n      <td>4,074</td>\n      <td>8,445</td>\n      <td>14,662</td>\n      <td>19,716</td>\n      <td>34,083</td>\n      <td>37,467</td>\n      <td>40,278</td>\n      <td>27,763</td>\n      <td>20,079</td>\n      <td>10,518</td>\n      <td>6,847</td>\n    </tr>\n    <tr>\n      <th>2</th>\n      <td>TRAFFIC COUNT AT BIG STUMP</td>\n      <td>2018</td>\n      <td>7,795</td>\n      <td>6,449</td>\n      <td>7,915</td>\n      <td>14,051</td>\n      <td>26,492</td>\n      <td>34,649</td>\n      <td>45,199</td>\n      <td>38,784</td>\n      <td>29,529</td>\n      <td>19,272</td>\n      <td>11,711</td>\n      <td>10,447</td>\n    </tr>\n    <tr>\n      <th>3</th>\n      <td>TRAFFIC COUNT AT BIG STUMP</td>\n      <td>2017</td>\n      <td>6,992</td>\n      <td>5,547</td>\n      <td>8,692</td>\n      <td>13,846</td>\n      <td>25,920</td>\n      <td>36,278</td>\n      <td>48,040</td>\n      <td>37,113</td>\n      <td>29,892</td>\n      <td>19,603</td>\n      <td>11,416</td>\n      <td>8,720</td>\n    </tr>\n    <tr>\n      <th>4</th>\n      <td>TRAFFIC COUNT AT BIG STUMP</td>\n      <td>2016</td>\n      <td>7,462</td>\n      <td>6,469</td>\n      <td>7,243</td>\n      <td>10,478</td>\n      <td>21,637</td>\n      <td>30,417</td>\n      <td>42,573</td>\n      <td>32,134</td>\n      <td>28,399</td>\n      <td>18,444</td>\n      <td>10,458</td>\n      <td>6,753</td>\n    </tr>\n  </tbody>\n</table>\n</div>"
     },
     "metadata": {},
     "execution_count": 34
    }
   ],
   "source": [
    "path=os.path.join(\"Resources\", \"kings_canyon.csv\")\n",
    "kings_canyon = pd.read_csv(path, header=[2], encoding='utf-8', delimiter=\",\")\n",
    "kings_canyon.head()"
   ]
  },
  {
   "cell_type": "code",
   "execution_count": 35,
   "metadata": {},
   "outputs": [
    {
     "output_type": "execute_result",
     "data": {
      "text/plain": [
       "           GroupDescription  Year JAN FEB MAR APR    MAY    JUN    JUL    AUG  \\\n",
       "0  TRAFFIC AT CROSSROADS \\n  2020   0   0   0   0      0  1,792  3,566  2,978   \n",
       "1  TRAFFIC AT CROSSROADS \\n  2019   0   0   0   0    971  1,616  1,707  1,618   \n",
       "2  TRAFFIC AT CROSSROADS \\n  2018   0   0   0   0  1,236  1,843  2,137  2,390   \n",
       "3  TRAFFIC AT CROSSROADS \\n  2017   0   0   0   0  1,324  1,883  3,154  3,308   \n",
       "4  TRAFFIC AT CROSSROADS \\n  2016   0   0   0   0  1,624  2,091  2,881  2,199   \n",
       "\n",
       "     SEP    OCT  NOV  DEC  \n",
       "0  1,032      0  NaN  NaN  \n",
       "1  1,477  1,211    0    0  \n",
       "2  1,690    878    0    0  \n",
       "3  1,784  1,366    0    0  \n",
       "4  1,476  1,319    0    0  "
      ],
      "text/html": "<div>\n<style scoped>\n    .dataframe tbody tr th:only-of-type {\n        vertical-align: middle;\n    }\n\n    .dataframe tbody tr th {\n        vertical-align: top;\n    }\n\n    .dataframe thead th {\n        text-align: right;\n    }\n</style>\n<table border=\"1\" class=\"dataframe\">\n  <thead>\n    <tr style=\"text-align: right;\">\n      <th></th>\n      <th>GroupDescription</th>\n      <th>Year</th>\n      <th>JAN</th>\n      <th>FEB</th>\n      <th>MAR</th>\n      <th>APR</th>\n      <th>MAY</th>\n      <th>JUN</th>\n      <th>JUL</th>\n      <th>AUG</th>\n      <th>SEP</th>\n      <th>OCT</th>\n      <th>NOV</th>\n      <th>DEC</th>\n    </tr>\n  </thead>\n  <tbody>\n    <tr>\n      <th>0</th>\n      <td>TRAFFIC AT CROSSROADS \\n</td>\n      <td>2020</td>\n      <td>0</td>\n      <td>0</td>\n      <td>0</td>\n      <td>0</td>\n      <td>0</td>\n      <td>1,792</td>\n      <td>3,566</td>\n      <td>2,978</td>\n      <td>1,032</td>\n      <td>0</td>\n      <td>NaN</td>\n      <td>NaN</td>\n    </tr>\n    <tr>\n      <th>1</th>\n      <td>TRAFFIC AT CROSSROADS \\n</td>\n      <td>2019</td>\n      <td>0</td>\n      <td>0</td>\n      <td>0</td>\n      <td>0</td>\n      <td>971</td>\n      <td>1,616</td>\n      <td>1,707</td>\n      <td>1,618</td>\n      <td>1,477</td>\n      <td>1,211</td>\n      <td>0</td>\n      <td>0</td>\n    </tr>\n    <tr>\n      <th>2</th>\n      <td>TRAFFIC AT CROSSROADS \\n</td>\n      <td>2018</td>\n      <td>0</td>\n      <td>0</td>\n      <td>0</td>\n      <td>0</td>\n      <td>1,236</td>\n      <td>1,843</td>\n      <td>2,137</td>\n      <td>2,390</td>\n      <td>1,690</td>\n      <td>878</td>\n      <td>0</td>\n      <td>0</td>\n    </tr>\n    <tr>\n      <th>3</th>\n      <td>TRAFFIC AT CROSSROADS \\n</td>\n      <td>2017</td>\n      <td>0</td>\n      <td>0</td>\n      <td>0</td>\n      <td>0</td>\n      <td>1,324</td>\n      <td>1,883</td>\n      <td>3,154</td>\n      <td>3,308</td>\n      <td>1,784</td>\n      <td>1,366</td>\n      <td>0</td>\n      <td>0</td>\n    </tr>\n    <tr>\n      <th>4</th>\n      <td>TRAFFIC AT CROSSROADS \\n</td>\n      <td>2016</td>\n      <td>0</td>\n      <td>0</td>\n      <td>0</td>\n      <td>0</td>\n      <td>1,624</td>\n      <td>2,091</td>\n      <td>2,881</td>\n      <td>2,199</td>\n      <td>1,476</td>\n      <td>1,319</td>\n      <td>0</td>\n      <td>0</td>\n    </tr>\n  </tbody>\n</table>\n</div>"
     },
     "metadata": {},
     "execution_count": 35
    }
   ],
   "source": [
    "path=os.path.join(\"Resources\", \"lassen_volcanic.csv\")\n",
    "lassen_volcanic = pd.read_csv(path, header=[2], encoding='utf-8', delimiter=\",\")\n",
    "lassen_volcanic.head()"
   ]
  },
  {
   "cell_type": "code",
   "execution_count": 36,
   "metadata": {},
   "outputs": [
    {
     "output_type": "execute_result",
     "data": {
      "text/plain": [
       "                                    GroupDescription  Year JAN FEB MAR APR  \\\n",
       "0  TRAFFIC COUNT AT 3201 LANE 2 (S.H. 70 WESTBOUN...  2012   0   0   0   0   \n",
       "1  TRAFFIC COUNT AT 3201 LANE 2 (S.H. 70 WESTBOUN...  2011   0   0   0   0   \n",
       "2  TRAFFIC COUNT AT 3201 LANE 2 (S.H. 70 WESTBOUN...  2010   0   0   0   0   \n",
       "3  TRAFFIC COUNT AT 3201 LANE 2 (S.H. 70 WESTBOUN...  2009   0   0   0   0   \n",
       "4  TRAFFIC COUNT AT 3201 LANE 2 (S.H. 70 WESTBOUN...  2008   0   0   0   0   \n",
       "\n",
       "  MAY JUN JUL  AUG  SEP  OCT  NOV  DEC  \n",
       "0   0   0   0  NaN  NaN  NaN  NaN  NaN  \n",
       "1   0   0   0    0    0    0    0    0  \n",
       "2   0   0   0    0    0    0    0    0  \n",
       "3   0   0   0    0    0    0    0    0  \n",
       "4   0   0   0    0    0    0    0    0  "
      ],
      "text/html": "<div>\n<style scoped>\n    .dataframe tbody tr th:only-of-type {\n        vertical-align: middle;\n    }\n\n    .dataframe tbody tr th {\n        vertical-align: top;\n    }\n\n    .dataframe thead th {\n        text-align: right;\n    }\n</style>\n<table border=\"1\" class=\"dataframe\">\n  <thead>\n    <tr style=\"text-align: right;\">\n      <th></th>\n      <th>GroupDescription</th>\n      <th>Year</th>\n      <th>JAN</th>\n      <th>FEB</th>\n      <th>MAR</th>\n      <th>APR</th>\n      <th>MAY</th>\n      <th>JUN</th>\n      <th>JUL</th>\n      <th>AUG</th>\n      <th>SEP</th>\n      <th>OCT</th>\n      <th>NOV</th>\n      <th>DEC</th>\n    </tr>\n  </thead>\n  <tbody>\n    <tr>\n      <th>0</th>\n      <td>TRAFFIC COUNT AT 3201 LANE 2 (S.H. 70 WESTBOUN...</td>\n      <td>2012</td>\n      <td>0</td>\n      <td>0</td>\n      <td>0</td>\n      <td>0</td>\n      <td>0</td>\n      <td>0</td>\n      <td>0</td>\n      <td>NaN</td>\n      <td>NaN</td>\n      <td>NaN</td>\n      <td>NaN</td>\n      <td>NaN</td>\n    </tr>\n    <tr>\n      <th>1</th>\n      <td>TRAFFIC COUNT AT 3201 LANE 2 (S.H. 70 WESTBOUN...</td>\n      <td>2011</td>\n      <td>0</td>\n      <td>0</td>\n      <td>0</td>\n      <td>0</td>\n      <td>0</td>\n      <td>0</td>\n      <td>0</td>\n      <td>0</td>\n      <td>0</td>\n      <td>0</td>\n      <td>0</td>\n      <td>0</td>\n    </tr>\n    <tr>\n      <th>2</th>\n      <td>TRAFFIC COUNT AT 3201 LANE 2 (S.H. 70 WESTBOUN...</td>\n      <td>2010</td>\n      <td>0</td>\n      <td>0</td>\n      <td>0</td>\n      <td>0</td>\n      <td>0</td>\n      <td>0</td>\n      <td>0</td>\n      <td>0</td>\n      <td>0</td>\n      <td>0</td>\n      <td>0</td>\n      <td>0</td>\n    </tr>\n    <tr>\n      <th>3</th>\n      <td>TRAFFIC COUNT AT 3201 LANE 2 (S.H. 70 WESTBOUN...</td>\n      <td>2009</td>\n      <td>0</td>\n      <td>0</td>\n      <td>0</td>\n      <td>0</td>\n      <td>0</td>\n      <td>0</td>\n      <td>0</td>\n      <td>0</td>\n      <td>0</td>\n      <td>0</td>\n      <td>0</td>\n      <td>0</td>\n    </tr>\n    <tr>\n      <th>4</th>\n      <td>TRAFFIC COUNT AT 3201 LANE 2 (S.H. 70 WESTBOUN...</td>\n      <td>2008</td>\n      <td>0</td>\n      <td>0</td>\n      <td>0</td>\n      <td>0</td>\n      <td>0</td>\n      <td>0</td>\n      <td>0</td>\n      <td>0</td>\n      <td>0</td>\n      <td>0</td>\n      <td>0</td>\n      <td>0</td>\n    </tr>\n  </tbody>\n</table>\n</div>"
     },
     "metadata": {},
     "execution_count": 36
    }
   ],
   "source": [
    "path=os.path.join(\"Resources\", \"mammoth_cave.csv\")\n",
    "mammoth_cave = pd.read_csv(path, header=[2], encoding='utf-8', delimiter=\",\")\n",
    "mammoth_cave.head()"
   ]
  },
  {
   "cell_type": "code",
   "execution_count": 37,
   "metadata": {},
   "outputs": [
    {
     "output_type": "execute_result",
     "data": {
      "text/plain": [
       "                           GroupDescription  Year    JAN    FEB    MAR  \\\n",
       "0  TRAFFIC COUNT AT MAIN ENTRANCE ON HWY 10  2020  3,066  3,254  4,551   \n",
       "1  TRAFFIC COUNT AT MAIN ENTRANCE ON HWY 10  2019     92  1,813  6,421   \n",
       "2  TRAFFIC COUNT AT MAIN ENTRANCE ON HWY 10  2018  3,656  3,303  8,693   \n",
       "3  TRAFFIC COUNT AT MAIN ENTRANCE ON HWY 10  2017  2,623  2,623  8,641   \n",
       "4  TRAFFIC COUNT AT MAIN ENTRANCE ON HWY 10  2016  2,927  3,567  8,605   \n",
       "\n",
       "      APR     MAY     JUN     JUL     AUG     SEP     OCT    NOV    DEC  \n",
       "0       0   2,744  16,100  16,554  18,686  18,364  15,295    NaN    NaN  \n",
       "1  12,896  23,915  32,394  34,881  26,937  27,369  18,663  4,563  3,579  \n",
       "2  13,933  26,071  30,094  32,356  26,488  26,871  17,361  5,580  3,733  \n",
       "3  13,949  26,293  33,608  36,485  29,590  28,478  19,151  6,065  4,957  \n",
       "4  11,924  24,178  32,550  37,092  29,458  29,513  19,751  6,068  3,429  "
      ],
      "text/html": "<div>\n<style scoped>\n    .dataframe tbody tr th:only-of-type {\n        vertical-align: middle;\n    }\n\n    .dataframe tbody tr th {\n        vertical-align: top;\n    }\n\n    .dataframe thead th {\n        text-align: right;\n    }\n</style>\n<table border=\"1\" class=\"dataframe\">\n  <thead>\n    <tr style=\"text-align: right;\">\n      <th></th>\n      <th>GroupDescription</th>\n      <th>Year</th>\n      <th>JAN</th>\n      <th>FEB</th>\n      <th>MAR</th>\n      <th>APR</th>\n      <th>MAY</th>\n      <th>JUN</th>\n      <th>JUL</th>\n      <th>AUG</th>\n      <th>SEP</th>\n      <th>OCT</th>\n      <th>NOV</th>\n      <th>DEC</th>\n    </tr>\n  </thead>\n  <tbody>\n    <tr>\n      <th>0</th>\n      <td>TRAFFIC COUNT AT MAIN ENTRANCE ON HWY 10</td>\n      <td>2020</td>\n      <td>3,066</td>\n      <td>3,254</td>\n      <td>4,551</td>\n      <td>0</td>\n      <td>2,744</td>\n      <td>16,100</td>\n      <td>16,554</td>\n      <td>18,686</td>\n      <td>18,364</td>\n      <td>15,295</td>\n      <td>NaN</td>\n      <td>NaN</td>\n    </tr>\n    <tr>\n      <th>1</th>\n      <td>TRAFFIC COUNT AT MAIN ENTRANCE ON HWY 10</td>\n      <td>2019</td>\n      <td>92</td>\n      <td>1,813</td>\n      <td>6,421</td>\n      <td>12,896</td>\n      <td>23,915</td>\n      <td>32,394</td>\n      <td>34,881</td>\n      <td>26,937</td>\n      <td>27,369</td>\n      <td>18,663</td>\n      <td>4,563</td>\n      <td>3,579</td>\n    </tr>\n    <tr>\n      <th>2</th>\n      <td>TRAFFIC COUNT AT MAIN ENTRANCE ON HWY 10</td>\n      <td>2018</td>\n      <td>3,656</td>\n      <td>3,303</td>\n      <td>8,693</td>\n      <td>13,933</td>\n      <td>26,071</td>\n      <td>30,094</td>\n      <td>32,356</td>\n      <td>26,488</td>\n      <td>26,871</td>\n      <td>17,361</td>\n      <td>5,580</td>\n      <td>3,733</td>\n    </tr>\n    <tr>\n      <th>3</th>\n      <td>TRAFFIC COUNT AT MAIN ENTRANCE ON HWY 10</td>\n      <td>2017</td>\n      <td>2,623</td>\n      <td>2,623</td>\n      <td>8,641</td>\n      <td>13,949</td>\n      <td>26,293</td>\n      <td>33,608</td>\n      <td>36,485</td>\n      <td>29,590</td>\n      <td>28,478</td>\n      <td>19,151</td>\n      <td>6,065</td>\n      <td>4,957</td>\n    </tr>\n    <tr>\n      <th>4</th>\n      <td>TRAFFIC COUNT AT MAIN ENTRANCE ON HWY 10</td>\n      <td>2016</td>\n      <td>2,927</td>\n      <td>3,567</td>\n      <td>8,605</td>\n      <td>11,924</td>\n      <td>24,178</td>\n      <td>32,550</td>\n      <td>37,092</td>\n      <td>29,458</td>\n      <td>29,513</td>\n      <td>19,751</td>\n      <td>6,068</td>\n      <td>3,429</td>\n    </tr>\n  </tbody>\n</table>\n</div>"
     },
     "metadata": {},
     "execution_count": 37
    }
   ],
   "source": [
    "path=os.path.join(\"Resources\", \"mesa_verde.csv\")\n",
    "mesa_verde = pd.read_csv(path, header=[2], encoding='utf-8', delimiter=\",\")\n",
    "mesa_verde.head()"
   ]
  },
  {
   "cell_type": "code",
   "execution_count": 38,
   "metadata": {},
   "outputs": [
    {
     "output_type": "execute_result",
     "data": {
      "text/plain": [
       "                         GroupDescription  Year JAN FEB MAR APR    MAY  \\\n",
       "0  TRAFFIC  COUNT AT WHITE RIVER ENTRANCE  2020   0   0   0   0      0   \n",
       "1  TRAFFIC  COUNT AT WHITE RIVER ENTRANCE  2019   0   0   0   0  3,600   \n",
       "2  TRAFFIC  COUNT AT WHITE RIVER ENTRANCE  2018   0   0   0   0  4,500   \n",
       "3  TRAFFIC  COUNT AT WHITE RIVER ENTRANCE  2017   0   0   0   0  4,538   \n",
       "4  TRAFFIC  COUNT AT WHITE RIVER ENTRANCE  2016   0   0   0   0  6,259   \n",
       "\n",
       "      JUN     JUL     AUG     SEP     OCT  NOV  DEC  \n",
       "0       0  30,000  40,000       0       0  NaN  NaN  \n",
       "1  13,700  61,000  59,000  16,358   1,935    0    0  \n",
       "2  13,700  61,000  59,370  19,500  12,200    0    0  \n",
       "3  13,591  59,370  50,000  20,000  10,000    0    0  \n",
       "4  18,971       0       0       0       0    0    0  "
      ],
      "text/html": "<div>\n<style scoped>\n    .dataframe tbody tr th:only-of-type {\n        vertical-align: middle;\n    }\n\n    .dataframe tbody tr th {\n        vertical-align: top;\n    }\n\n    .dataframe thead th {\n        text-align: right;\n    }\n</style>\n<table border=\"1\" class=\"dataframe\">\n  <thead>\n    <tr style=\"text-align: right;\">\n      <th></th>\n      <th>GroupDescription</th>\n      <th>Year</th>\n      <th>JAN</th>\n      <th>FEB</th>\n      <th>MAR</th>\n      <th>APR</th>\n      <th>MAY</th>\n      <th>JUN</th>\n      <th>JUL</th>\n      <th>AUG</th>\n      <th>SEP</th>\n      <th>OCT</th>\n      <th>NOV</th>\n      <th>DEC</th>\n    </tr>\n  </thead>\n  <tbody>\n    <tr>\n      <th>0</th>\n      <td>TRAFFIC  COUNT AT WHITE RIVER ENTRANCE</td>\n      <td>2020</td>\n      <td>0</td>\n      <td>0</td>\n      <td>0</td>\n      <td>0</td>\n      <td>0</td>\n      <td>0</td>\n      <td>30,000</td>\n      <td>40,000</td>\n      <td>0</td>\n      <td>0</td>\n      <td>NaN</td>\n      <td>NaN</td>\n    </tr>\n    <tr>\n      <th>1</th>\n      <td>TRAFFIC  COUNT AT WHITE RIVER ENTRANCE</td>\n      <td>2019</td>\n      <td>0</td>\n      <td>0</td>\n      <td>0</td>\n      <td>0</td>\n      <td>3,600</td>\n      <td>13,700</td>\n      <td>61,000</td>\n      <td>59,000</td>\n      <td>16,358</td>\n      <td>1,935</td>\n      <td>0</td>\n      <td>0</td>\n    </tr>\n    <tr>\n      <th>2</th>\n      <td>TRAFFIC  COUNT AT WHITE RIVER ENTRANCE</td>\n      <td>2018</td>\n      <td>0</td>\n      <td>0</td>\n      <td>0</td>\n      <td>0</td>\n      <td>4,500</td>\n      <td>13,700</td>\n      <td>61,000</td>\n      <td>59,370</td>\n      <td>19,500</td>\n      <td>12,200</td>\n      <td>0</td>\n      <td>0</td>\n    </tr>\n    <tr>\n      <th>3</th>\n      <td>TRAFFIC  COUNT AT WHITE RIVER ENTRANCE</td>\n      <td>2017</td>\n      <td>0</td>\n      <td>0</td>\n      <td>0</td>\n      <td>0</td>\n      <td>4,538</td>\n      <td>13,591</td>\n      <td>59,370</td>\n      <td>50,000</td>\n      <td>20,000</td>\n      <td>10,000</td>\n      <td>0</td>\n      <td>0</td>\n    </tr>\n    <tr>\n      <th>4</th>\n      <td>TRAFFIC  COUNT AT WHITE RIVER ENTRANCE</td>\n      <td>2016</td>\n      <td>0</td>\n      <td>0</td>\n      <td>0</td>\n      <td>0</td>\n      <td>6,259</td>\n      <td>18,971</td>\n      <td>0</td>\n      <td>0</td>\n      <td>0</td>\n      <td>0</td>\n      <td>0</td>\n      <td>0</td>\n    </tr>\n  </tbody>\n</table>\n</div>"
     },
     "metadata": {},
     "execution_count": 38
    }
   ],
   "source": [
    "path=os.path.join(\"Resources\", \"mount_rainier.csv\")\n",
    "mount_rainier = pd.read_csv(path, header=[2], encoding='utf-8', delimiter=\",\")\n",
    "mount_rainier.head()"
   ]
  },
  {
   "cell_type": "code",
   "execution_count": 39,
   "metadata": {},
   "outputs": [
    {
     "output_type": "execute_result",
     "data": {
      "text/plain": [
       "                                GroupDescription  Year  JAN  FEB  MAR  APR  \\\n",
       "0  TRAFFIC COUNT AT CASCADES RIVER ROAD ENTRANCE  2020    0    0    0    0   \n",
       "1  TRAFFIC COUNT AT CASCADES RIVER ROAD ENTRANCE  2019    0    0    0    0   \n",
       "2  TRAFFIC COUNT AT CASCADES RIVER ROAD ENTRANCE  2018   10   10   15   75   \n",
       "3  TRAFFIC COUNT AT CASCADES RIVER ROAD ENTRANCE  2017   13    0    0   94   \n",
       "4  TRAFFIC COUNT AT CASCADES RIVER ROAD ENTRANCE  2016    5    5   25    0   \n",
       "\n",
       "   MAY  JUN    JUL    AUG    SEP  OCT  NOV   DEC  \n",
       "0    0  500  1,223  4,703  1,172  577    0   NaN  \n",
       "1  300  870  1,826  2,599  2,381    0   29  33.0  \n",
       "2  453  598  2,042    711    790  476    0   0.0  \n",
       "3  269  633  1,508  1,953  1,066  227   40  15.0  \n",
       "4   75  976    954  1,375    611  138   30   4.0  "
      ],
      "text/html": "<div>\n<style scoped>\n    .dataframe tbody tr th:only-of-type {\n        vertical-align: middle;\n    }\n\n    .dataframe tbody tr th {\n        vertical-align: top;\n    }\n\n    .dataframe thead th {\n        text-align: right;\n    }\n</style>\n<table border=\"1\" class=\"dataframe\">\n  <thead>\n    <tr style=\"text-align: right;\">\n      <th></th>\n      <th>GroupDescription</th>\n      <th>Year</th>\n      <th>JAN</th>\n      <th>FEB</th>\n      <th>MAR</th>\n      <th>APR</th>\n      <th>MAY</th>\n      <th>JUN</th>\n      <th>JUL</th>\n      <th>AUG</th>\n      <th>SEP</th>\n      <th>OCT</th>\n      <th>NOV</th>\n      <th>DEC</th>\n    </tr>\n  </thead>\n  <tbody>\n    <tr>\n      <th>0</th>\n      <td>TRAFFIC COUNT AT CASCADES RIVER ROAD ENTRANCE</td>\n      <td>2020</td>\n      <td>0</td>\n      <td>0</td>\n      <td>0</td>\n      <td>0</td>\n      <td>0</td>\n      <td>500</td>\n      <td>1,223</td>\n      <td>4,703</td>\n      <td>1,172</td>\n      <td>577</td>\n      <td>0</td>\n      <td>NaN</td>\n    </tr>\n    <tr>\n      <th>1</th>\n      <td>TRAFFIC COUNT AT CASCADES RIVER ROAD ENTRANCE</td>\n      <td>2019</td>\n      <td>0</td>\n      <td>0</td>\n      <td>0</td>\n      <td>0</td>\n      <td>300</td>\n      <td>870</td>\n      <td>1,826</td>\n      <td>2,599</td>\n      <td>2,381</td>\n      <td>0</td>\n      <td>29</td>\n      <td>33.0</td>\n    </tr>\n    <tr>\n      <th>2</th>\n      <td>TRAFFIC COUNT AT CASCADES RIVER ROAD ENTRANCE</td>\n      <td>2018</td>\n      <td>10</td>\n      <td>10</td>\n      <td>15</td>\n      <td>75</td>\n      <td>453</td>\n      <td>598</td>\n      <td>2,042</td>\n      <td>711</td>\n      <td>790</td>\n      <td>476</td>\n      <td>0</td>\n      <td>0.0</td>\n    </tr>\n    <tr>\n      <th>3</th>\n      <td>TRAFFIC COUNT AT CASCADES RIVER ROAD ENTRANCE</td>\n      <td>2017</td>\n      <td>13</td>\n      <td>0</td>\n      <td>0</td>\n      <td>94</td>\n      <td>269</td>\n      <td>633</td>\n      <td>1,508</td>\n      <td>1,953</td>\n      <td>1,066</td>\n      <td>227</td>\n      <td>40</td>\n      <td>15.0</td>\n    </tr>\n    <tr>\n      <th>4</th>\n      <td>TRAFFIC COUNT AT CASCADES RIVER ROAD ENTRANCE</td>\n      <td>2016</td>\n      <td>5</td>\n      <td>5</td>\n      <td>25</td>\n      <td>0</td>\n      <td>75</td>\n      <td>976</td>\n      <td>954</td>\n      <td>1,375</td>\n      <td>611</td>\n      <td>138</td>\n      <td>30</td>\n      <td>4.0</td>\n    </tr>\n  </tbody>\n</table>\n</div>"
     },
     "metadata": {},
     "execution_count": 39
    }
   ],
   "source": [
    "path=os.path.join(\"Resources\", \"north_cascades.csv\")\n",
    "north_cascades = pd.read_csv(path, header=[2], encoding='utf-8', delimiter=\",\")\n",
    "north_cascades.head()"
   ]
  },
  {
   "cell_type": "code",
   "execution_count": 40,
   "metadata": {},
   "outputs": [
    {
     "output_type": "execute_result",
     "data": {
      "text/plain": [
       "                             GroupDescription  Year JAN FEB MAR APR MAY  \\\n",
       "0  Traffic Count at Deer Park (Entrance Lane)  2020   0   0   0   0   0   \n",
       "1  Traffic Count at Deer Park (Entrance Lane)  2019   0   0   0   0   0   \n",
       "2  Traffic Count at Deer Park (Entrance Lane)  2018   0   0   0   0   0   \n",
       "3  Traffic Count at Deer Park (Entrance Lane)  2017   0   0   0   0   0   \n",
       "4  Traffic Count at Deer Park (Entrance Lane)  2016   0   0   0   0   0   \n",
       "\n",
       "     JUN    JUL     AUG  SEP  OCT  NOV  DEC  \n",
       "0      0  1,457   3,120  457   56  NaN  NaN  \n",
       "1  1,564  1,375   1,335  325    0    0    0  \n",
       "2  1,423  1,517   1,326  726  136   17    0  \n",
       "3  1,745      0       0    0    0    0    0  \n",
       "4  1,690      0  16,612    0    0    0    0  "
      ],
      "text/html": "<div>\n<style scoped>\n    .dataframe tbody tr th:only-of-type {\n        vertical-align: middle;\n    }\n\n    .dataframe tbody tr th {\n        vertical-align: top;\n    }\n\n    .dataframe thead th {\n        text-align: right;\n    }\n</style>\n<table border=\"1\" class=\"dataframe\">\n  <thead>\n    <tr style=\"text-align: right;\">\n      <th></th>\n      <th>GroupDescription</th>\n      <th>Year</th>\n      <th>JAN</th>\n      <th>FEB</th>\n      <th>MAR</th>\n      <th>APR</th>\n      <th>MAY</th>\n      <th>JUN</th>\n      <th>JUL</th>\n      <th>AUG</th>\n      <th>SEP</th>\n      <th>OCT</th>\n      <th>NOV</th>\n      <th>DEC</th>\n    </tr>\n  </thead>\n  <tbody>\n    <tr>\n      <th>0</th>\n      <td>Traffic Count at Deer Park (Entrance Lane)</td>\n      <td>2020</td>\n      <td>0</td>\n      <td>0</td>\n      <td>0</td>\n      <td>0</td>\n      <td>0</td>\n      <td>0</td>\n      <td>1,457</td>\n      <td>3,120</td>\n      <td>457</td>\n      <td>56</td>\n      <td>NaN</td>\n      <td>NaN</td>\n    </tr>\n    <tr>\n      <th>1</th>\n      <td>Traffic Count at Deer Park (Entrance Lane)</td>\n      <td>2019</td>\n      <td>0</td>\n      <td>0</td>\n      <td>0</td>\n      <td>0</td>\n      <td>0</td>\n      <td>1,564</td>\n      <td>1,375</td>\n      <td>1,335</td>\n      <td>325</td>\n      <td>0</td>\n      <td>0</td>\n      <td>0</td>\n    </tr>\n    <tr>\n      <th>2</th>\n      <td>Traffic Count at Deer Park (Entrance Lane)</td>\n      <td>2018</td>\n      <td>0</td>\n      <td>0</td>\n      <td>0</td>\n      <td>0</td>\n      <td>0</td>\n      <td>1,423</td>\n      <td>1,517</td>\n      <td>1,326</td>\n      <td>726</td>\n      <td>136</td>\n      <td>17</td>\n      <td>0</td>\n    </tr>\n    <tr>\n      <th>3</th>\n      <td>Traffic Count at Deer Park (Entrance Lane)</td>\n      <td>2017</td>\n      <td>0</td>\n      <td>0</td>\n      <td>0</td>\n      <td>0</td>\n      <td>0</td>\n      <td>1,745</td>\n      <td>0</td>\n      <td>0</td>\n      <td>0</td>\n      <td>0</td>\n      <td>0</td>\n      <td>0</td>\n    </tr>\n    <tr>\n      <th>4</th>\n      <td>Traffic Count at Deer Park (Entrance Lane)</td>\n      <td>2016</td>\n      <td>0</td>\n      <td>0</td>\n      <td>0</td>\n      <td>0</td>\n      <td>0</td>\n      <td>1,690</td>\n      <td>0</td>\n      <td>16,612</td>\n      <td>0</td>\n      <td>0</td>\n      <td>0</td>\n      <td>0</td>\n    </tr>\n  </tbody>\n</table>\n</div>"
     },
     "metadata": {},
     "execution_count": 40
    }
   ],
   "source": [
    "path=os.path.join(\"Resources\", \"olympic.csv\")\n",
    "olympic = pd.read_csv(path, header=[2], encoding='utf-8', delimiter=\",\")\n",
    "olympic.head()"
   ]
  },
  {
   "cell_type": "code",
   "execution_count": 41,
   "metadata": {},
   "outputs": [
    {
     "output_type": "execute_result",
     "data": {
      "text/plain": [
       "                GroupDescription  Year    JAN    FEB     MAR     APR     MAY  \\\n",
       "0  TRAFFIC COUNT AT I-40 COUNTER  2020  9,693  9,473  12,364       0     500   \n",
       "1  TRAFFIC COUNT AT I-40 COUNTER  2019  5,900  6,722  15,203  14,666  20,475   \n",
       "2  TRAFFIC COUNT AT I-40 COUNTER  2018  7,547  7,691  15,133  12,012  20,693   \n",
       "3  TRAFFIC COUNT AT I-40 COUNTER  2017  7,673  6,110  14,496  12,500  16,505   \n",
       "4  TRAFFIC COUNT AT I-40 COUNTER  2016  5,953  6,645  12,100  13,858  15,213   \n",
       "\n",
       "      JUN     JUL     AUG     SEP     OCT     NOV    DEC  \n",
       "0  11,330  13,086  11,807  12,896  14,949  11,530    NaN  \n",
       "1  20,117  19,462  14,456  14,557  16,061   9,184  9,186  \n",
       "2  17,900  16,690  13,408  14,876  14,429   7,785  8,000  \n",
       "3  16,898  16,684  16,500  12,679  18,235   9,121  8,320  \n",
       "4  19,300  24,186  15,121  14,268  12,715   7,915  6,532  "
      ],
      "text/html": "<div>\n<style scoped>\n    .dataframe tbody tr th:only-of-type {\n        vertical-align: middle;\n    }\n\n    .dataframe tbody tr th {\n        vertical-align: top;\n    }\n\n    .dataframe thead th {\n        text-align: right;\n    }\n</style>\n<table border=\"1\" class=\"dataframe\">\n  <thead>\n    <tr style=\"text-align: right;\">\n      <th></th>\n      <th>GroupDescription</th>\n      <th>Year</th>\n      <th>JAN</th>\n      <th>FEB</th>\n      <th>MAR</th>\n      <th>APR</th>\n      <th>MAY</th>\n      <th>JUN</th>\n      <th>JUL</th>\n      <th>AUG</th>\n      <th>SEP</th>\n      <th>OCT</th>\n      <th>NOV</th>\n      <th>DEC</th>\n    </tr>\n  </thead>\n  <tbody>\n    <tr>\n      <th>0</th>\n      <td>TRAFFIC COUNT AT I-40 COUNTER</td>\n      <td>2020</td>\n      <td>9,693</td>\n      <td>9,473</td>\n      <td>12,364</td>\n      <td>0</td>\n      <td>500</td>\n      <td>11,330</td>\n      <td>13,086</td>\n      <td>11,807</td>\n      <td>12,896</td>\n      <td>14,949</td>\n      <td>11,530</td>\n      <td>NaN</td>\n    </tr>\n    <tr>\n      <th>1</th>\n      <td>TRAFFIC COUNT AT I-40 COUNTER</td>\n      <td>2019</td>\n      <td>5,900</td>\n      <td>6,722</td>\n      <td>15,203</td>\n      <td>14,666</td>\n      <td>20,475</td>\n      <td>20,117</td>\n      <td>19,462</td>\n      <td>14,456</td>\n      <td>14,557</td>\n      <td>16,061</td>\n      <td>9,184</td>\n      <td>9,186</td>\n    </tr>\n    <tr>\n      <th>2</th>\n      <td>TRAFFIC COUNT AT I-40 COUNTER</td>\n      <td>2018</td>\n      <td>7,547</td>\n      <td>7,691</td>\n      <td>15,133</td>\n      <td>12,012</td>\n      <td>20,693</td>\n      <td>17,900</td>\n      <td>16,690</td>\n      <td>13,408</td>\n      <td>14,876</td>\n      <td>14,429</td>\n      <td>7,785</td>\n      <td>8,000</td>\n    </tr>\n    <tr>\n      <th>3</th>\n      <td>TRAFFIC COUNT AT I-40 COUNTER</td>\n      <td>2017</td>\n      <td>7,673</td>\n      <td>6,110</td>\n      <td>14,496</td>\n      <td>12,500</td>\n      <td>16,505</td>\n      <td>16,898</td>\n      <td>16,684</td>\n      <td>16,500</td>\n      <td>12,679</td>\n      <td>18,235</td>\n      <td>9,121</td>\n      <td>8,320</td>\n    </tr>\n    <tr>\n      <th>4</th>\n      <td>TRAFFIC COUNT AT I-40 COUNTER</td>\n      <td>2016</td>\n      <td>5,953</td>\n      <td>6,645</td>\n      <td>12,100</td>\n      <td>13,858</td>\n      <td>15,213</td>\n      <td>19,300</td>\n      <td>24,186</td>\n      <td>15,121</td>\n      <td>14,268</td>\n      <td>12,715</td>\n      <td>7,915</td>\n      <td>6,532</td>\n    </tr>\n  </tbody>\n</table>\n</div>"
     },
     "metadata": {},
     "execution_count": 41
    }
   ],
   "source": [
    "path=os.path.join(\"Resources\", \"petrified_forest.csv\")\n",
    "pertified_forest = pd.read_csv(path, header=[2], encoding='utf-8', delimiter=\",\")\n",
    "pertified_forest.head()"
   ]
  },
  {
   "cell_type": "code",
   "execution_count": 42,
   "metadata": {},
   "outputs": [
    {
     "output_type": "execute_result",
     "data": {
      "text/plain": [
       "                 GroupDescription  Year    JAN    FEB    MAR    APR    MAY  \\\n",
       "0  TRAFFIC COUNT AT EAST ENTRANCE  2020  5,637  4,945  4,582    731  1,357   \n",
       "1  TRAFFIC COUNT AT EAST ENTRANCE  2019    628  3,278  6,562  4,123  4,842   \n",
       "2  TRAFFIC COUNT AT EAST ENTRANCE  2018  4,420  5,110  5,813  6,540  6,558   \n",
       "3  TRAFFIC COUNT AT EAST ENTRANCE  2017  3,352  3,747  7,258  8,656  6,253   \n",
       "4  TRAFFIC COUNT AT EAST ENTRANCE  2016  3,516  5,380  6,369  7,123  6,141   \n",
       "\n",
       "     JUN    JUL    AUG    SEP    OCT    NOV    DEC  \n",
       "0  1,027  1,034    750    651  4,309  6,063    NaN  \n",
       "1  4,866  3,224  4,480  4,834  4,863  4,939  3,281  \n",
       "2  7,317  3,019  4,030  4,450  4,663  5,364  4,264  \n",
       "3  5,240  5,170  3,995  4,235  5,272  4,971  5,046  \n",
       "4  4,586  4,817  4,443  4,500  3,624  4,530  4,492  "
      ],
      "text/html": "<div>\n<style scoped>\n    .dataframe tbody tr th:only-of-type {\n        vertical-align: middle;\n    }\n\n    .dataframe tbody tr th {\n        vertical-align: top;\n    }\n\n    .dataframe thead th {\n        text-align: right;\n    }\n</style>\n<table border=\"1\" class=\"dataframe\">\n  <thead>\n    <tr style=\"text-align: right;\">\n      <th></th>\n      <th>GroupDescription</th>\n      <th>Year</th>\n      <th>JAN</th>\n      <th>FEB</th>\n      <th>MAR</th>\n      <th>APR</th>\n      <th>MAY</th>\n      <th>JUN</th>\n      <th>JUL</th>\n      <th>AUG</th>\n      <th>SEP</th>\n      <th>OCT</th>\n      <th>NOV</th>\n      <th>DEC</th>\n    </tr>\n  </thead>\n  <tbody>\n    <tr>\n      <th>0</th>\n      <td>TRAFFIC COUNT AT EAST ENTRANCE</td>\n      <td>2020</td>\n      <td>5,637</td>\n      <td>4,945</td>\n      <td>4,582</td>\n      <td>731</td>\n      <td>1,357</td>\n      <td>1,027</td>\n      <td>1,034</td>\n      <td>750</td>\n      <td>651</td>\n      <td>4,309</td>\n      <td>6,063</td>\n      <td>NaN</td>\n    </tr>\n    <tr>\n      <th>1</th>\n      <td>TRAFFIC COUNT AT EAST ENTRANCE</td>\n      <td>2019</td>\n      <td>628</td>\n      <td>3,278</td>\n      <td>6,562</td>\n      <td>4,123</td>\n      <td>4,842</td>\n      <td>4,866</td>\n      <td>3,224</td>\n      <td>4,480</td>\n      <td>4,834</td>\n      <td>4,863</td>\n      <td>4,939</td>\n      <td>3,281</td>\n    </tr>\n    <tr>\n      <th>2</th>\n      <td>TRAFFIC COUNT AT EAST ENTRANCE</td>\n      <td>2018</td>\n      <td>4,420</td>\n      <td>5,110</td>\n      <td>5,813</td>\n      <td>6,540</td>\n      <td>6,558</td>\n      <td>7,317</td>\n      <td>3,019</td>\n      <td>4,030</td>\n      <td>4,450</td>\n      <td>4,663</td>\n      <td>5,364</td>\n      <td>4,264</td>\n    </tr>\n    <tr>\n      <th>3</th>\n      <td>TRAFFIC COUNT AT EAST ENTRANCE</td>\n      <td>2017</td>\n      <td>3,352</td>\n      <td>3,747</td>\n      <td>7,258</td>\n      <td>8,656</td>\n      <td>6,253</td>\n      <td>5,240</td>\n      <td>5,170</td>\n      <td>3,995</td>\n      <td>4,235</td>\n      <td>5,272</td>\n      <td>4,971</td>\n      <td>5,046</td>\n    </tr>\n    <tr>\n      <th>4</th>\n      <td>TRAFFIC COUNT AT EAST ENTRANCE</td>\n      <td>2016</td>\n      <td>3,516</td>\n      <td>5,380</td>\n      <td>6,369</td>\n      <td>7,123</td>\n      <td>6,141</td>\n      <td>4,586</td>\n      <td>4,817</td>\n      <td>4,443</td>\n      <td>4,500</td>\n      <td>3,624</td>\n      <td>4,530</td>\n      <td>4,492</td>\n    </tr>\n  </tbody>\n</table>\n</div>"
     },
     "metadata": {},
     "execution_count": 42
    }
   ],
   "source": [
    "path=os.path.join(\"Resources\", \"pinnacles.csv\")\n",
    "pinnacles = pd.read_csv(path, header=[2], encoding='utf-8', delimiter=\",\")\n",
    "pinnacles.head()"
   ]
  },
  {
   "cell_type": "code",
   "execution_count": 43,
   "metadata": {},
   "outputs": [
    {
     "output_type": "execute_result",
     "data": {
      "text/plain": [
       "                 GroupDescription  Year JAN FEB MAR APR MAY JUN JUL AUG SEP  \\\n",
       "0  TRAFFIC COUNT AT COASTAL DRIVE  2020   0   0   0   0   0   0   0   0   0   \n",
       "1  TRAFFIC COUNT AT COASTAL DRIVE  2019   0   0   0   0   0   0   0   0   0   \n",
       "2  TRAFFIC COUNT AT COASTAL DRIVE  2018   0   0   0   0   0   0   0   0   0   \n",
       "3  TRAFFIC COUNT AT COASTAL DRIVE  2017   0   0   0   0   0   0   0   0   0   \n",
       "4  TRAFFIC COUNT AT COASTAL DRIVE  2016   0   0   0   0   0   0   0   0   0   \n",
       "\n",
       "  OCT NOV  DEC  \n",
       "0   0   0  NaN  \n",
       "1   0   0    0  \n",
       "2   0   0    0  \n",
       "3   0   0    0  \n",
       "4   0   0    0  "
      ],
      "text/html": "<div>\n<style scoped>\n    .dataframe tbody tr th:only-of-type {\n        vertical-align: middle;\n    }\n\n    .dataframe tbody tr th {\n        vertical-align: top;\n    }\n\n    .dataframe thead th {\n        text-align: right;\n    }\n</style>\n<table border=\"1\" class=\"dataframe\">\n  <thead>\n    <tr style=\"text-align: right;\">\n      <th></th>\n      <th>GroupDescription</th>\n      <th>Year</th>\n      <th>JAN</th>\n      <th>FEB</th>\n      <th>MAR</th>\n      <th>APR</th>\n      <th>MAY</th>\n      <th>JUN</th>\n      <th>JUL</th>\n      <th>AUG</th>\n      <th>SEP</th>\n      <th>OCT</th>\n      <th>NOV</th>\n      <th>DEC</th>\n    </tr>\n  </thead>\n  <tbody>\n    <tr>\n      <th>0</th>\n      <td>TRAFFIC COUNT AT COASTAL DRIVE</td>\n      <td>2020</td>\n      <td>0</td>\n      <td>0</td>\n      <td>0</td>\n      <td>0</td>\n      <td>0</td>\n      <td>0</td>\n      <td>0</td>\n      <td>0</td>\n      <td>0</td>\n      <td>0</td>\n      <td>0</td>\n      <td>NaN</td>\n    </tr>\n    <tr>\n      <th>1</th>\n      <td>TRAFFIC COUNT AT COASTAL DRIVE</td>\n      <td>2019</td>\n      <td>0</td>\n      <td>0</td>\n      <td>0</td>\n      <td>0</td>\n      <td>0</td>\n      <td>0</td>\n      <td>0</td>\n      <td>0</td>\n      <td>0</td>\n      <td>0</td>\n      <td>0</td>\n      <td>0</td>\n    </tr>\n    <tr>\n      <th>2</th>\n      <td>TRAFFIC COUNT AT COASTAL DRIVE</td>\n      <td>2018</td>\n      <td>0</td>\n      <td>0</td>\n      <td>0</td>\n      <td>0</td>\n      <td>0</td>\n      <td>0</td>\n      <td>0</td>\n      <td>0</td>\n      <td>0</td>\n      <td>0</td>\n      <td>0</td>\n      <td>0</td>\n    </tr>\n    <tr>\n      <th>3</th>\n      <td>TRAFFIC COUNT AT COASTAL DRIVE</td>\n      <td>2017</td>\n      <td>0</td>\n      <td>0</td>\n      <td>0</td>\n      <td>0</td>\n      <td>0</td>\n      <td>0</td>\n      <td>0</td>\n      <td>0</td>\n      <td>0</td>\n      <td>0</td>\n      <td>0</td>\n      <td>0</td>\n    </tr>\n    <tr>\n      <th>4</th>\n      <td>TRAFFIC COUNT AT COASTAL DRIVE</td>\n      <td>2016</td>\n      <td>0</td>\n      <td>0</td>\n      <td>0</td>\n      <td>0</td>\n      <td>0</td>\n      <td>0</td>\n      <td>0</td>\n      <td>0</td>\n      <td>0</td>\n      <td>0</td>\n      <td>0</td>\n      <td>0</td>\n    </tr>\n  </tbody>\n</table>\n</div>"
     },
     "metadata": {},
     "execution_count": 43
    }
   ],
   "source": [
    "path=os.path.join(\"Resources\", \"redwood.csv\")\n",
    "redwood = pd.read_csv(path, header=[2], encoding='utf-8', delimiter=\",\")\n",
    "redwood.head()"
   ]
  },
  {
   "cell_type": "code",
   "execution_count": 44,
   "metadata": {},
   "outputs": [
    {
     "output_type": "execute_result",
     "data": {
      "text/plain": [
       "                  GroupDescription  Year     JAN     FEB     MAR     APR  \\\n",
       "0  TRAFFIC COUNT AT BEAVER MEADOWS  2020  21,073  18,384  18,025       0   \n",
       "1  TRAFFIC COUNT AT BEAVER MEADOWS  2019  14,831  17,255  26,870  30,421   \n",
       "2  TRAFFIC COUNT AT BEAVER MEADOWS  2018  19,370  14,912  28,798  25,834   \n",
       "3  TRAFFIC COUNT AT BEAVER MEADOWS  2017  15,519  15,576  25,767  29,066   \n",
       "4  TRAFFIC COUNT AT BEAVER MEADOWS  2016  21,633  18,332  24,677  23,424   \n",
       "\n",
       "      MAY      JUN      JUL      AUG      SEP     OCT     NOV     DEC  \n",
       "0   8,611   83,526  110,886   89,023   85,509  52,693     NaN     NaN  \n",
       "1  51,505  104,230  134,367  116,190  120,247  62,886  21,943  21,050  \n",
       "2  52,409  104,557  122,313  115,079  121,821  57,996  22,641  16,525  \n",
       "3  46,681  110,003  133,387  116,200  110,922  58,070  23,159  21,070  \n",
       "4  49,700   98,569  123,203  105,785  108,942  69,336  29,748  14,517  "
      ],
      "text/html": "<div>\n<style scoped>\n    .dataframe tbody tr th:only-of-type {\n        vertical-align: middle;\n    }\n\n    .dataframe tbody tr th {\n        vertical-align: top;\n    }\n\n    .dataframe thead th {\n        text-align: right;\n    }\n</style>\n<table border=\"1\" class=\"dataframe\">\n  <thead>\n    <tr style=\"text-align: right;\">\n      <th></th>\n      <th>GroupDescription</th>\n      <th>Year</th>\n      <th>JAN</th>\n      <th>FEB</th>\n      <th>MAR</th>\n      <th>APR</th>\n      <th>MAY</th>\n      <th>JUN</th>\n      <th>JUL</th>\n      <th>AUG</th>\n      <th>SEP</th>\n      <th>OCT</th>\n      <th>NOV</th>\n      <th>DEC</th>\n    </tr>\n  </thead>\n  <tbody>\n    <tr>\n      <th>0</th>\n      <td>TRAFFIC COUNT AT BEAVER MEADOWS</td>\n      <td>2020</td>\n      <td>21,073</td>\n      <td>18,384</td>\n      <td>18,025</td>\n      <td>0</td>\n      <td>8,611</td>\n      <td>83,526</td>\n      <td>110,886</td>\n      <td>89,023</td>\n      <td>85,509</td>\n      <td>52,693</td>\n      <td>NaN</td>\n      <td>NaN</td>\n    </tr>\n    <tr>\n      <th>1</th>\n      <td>TRAFFIC COUNT AT BEAVER MEADOWS</td>\n      <td>2019</td>\n      <td>14,831</td>\n      <td>17,255</td>\n      <td>26,870</td>\n      <td>30,421</td>\n      <td>51,505</td>\n      <td>104,230</td>\n      <td>134,367</td>\n      <td>116,190</td>\n      <td>120,247</td>\n      <td>62,886</td>\n      <td>21,943</td>\n      <td>21,050</td>\n    </tr>\n    <tr>\n      <th>2</th>\n      <td>TRAFFIC COUNT AT BEAVER MEADOWS</td>\n      <td>2018</td>\n      <td>19,370</td>\n      <td>14,912</td>\n      <td>28,798</td>\n      <td>25,834</td>\n      <td>52,409</td>\n      <td>104,557</td>\n      <td>122,313</td>\n      <td>115,079</td>\n      <td>121,821</td>\n      <td>57,996</td>\n      <td>22,641</td>\n      <td>16,525</td>\n    </tr>\n    <tr>\n      <th>3</th>\n      <td>TRAFFIC COUNT AT BEAVER MEADOWS</td>\n      <td>2017</td>\n      <td>15,519</td>\n      <td>15,576</td>\n      <td>25,767</td>\n      <td>29,066</td>\n      <td>46,681</td>\n      <td>110,003</td>\n      <td>133,387</td>\n      <td>116,200</td>\n      <td>110,922</td>\n      <td>58,070</td>\n      <td>23,159</td>\n      <td>21,070</td>\n    </tr>\n    <tr>\n      <th>4</th>\n      <td>TRAFFIC COUNT AT BEAVER MEADOWS</td>\n      <td>2016</td>\n      <td>21,633</td>\n      <td>18,332</td>\n      <td>24,677</td>\n      <td>23,424</td>\n      <td>49,700</td>\n      <td>98,569</td>\n      <td>123,203</td>\n      <td>105,785</td>\n      <td>108,942</td>\n      <td>69,336</td>\n      <td>29,748</td>\n      <td>14,517</td>\n    </tr>\n  </tbody>\n</table>\n</div>"
     },
     "metadata": {},
     "execution_count": 44
    }
   ],
   "source": [
    "path=os.path.join(\"Resources\", \"rocky_mountain_np.csv\")\n",
    "rocky_mounatin_np = pd.read_csv(path, header=[3], encoding='utf-8', delimiter=\",\")\n",
    "rocky_mounatin_np.head()"
   ]
  },
  {
   "cell_type": "code",
   "execution_count": 45,
   "metadata": {},
   "outputs": [
    {
     "output_type": "execute_result",
     "data": {
      "text/plain": [
       "                                  GroupDescription  Year     JAN     FEB  \\\n",
       "0  TRAFFIC COUNT AT ASH MOUNTAIN ENTRANCE (Lane 1)  2020  11,347  11,401   \n",
       "1  TRAFFIC COUNT AT ASH MOUNTAIN ENTRANCE (Lane 1)  2019   8,268   9,199   \n",
       "2  TRAFFIC COUNT AT ASH MOUNTAIN ENTRANCE (Lane 1)  2018  11,724  11,923   \n",
       "3  TRAFFIC COUNT AT ASH MOUNTAIN ENTRANCE (Lane 1)  2017   9,771   8,645   \n",
       "4  TRAFFIC COUNT AT ASH MOUNTAIN ENTRANCE (Lane 1)  2016  14,400  12,892   \n",
       "\n",
       "      MAR     APR     MAY     JUN     JUL     AUG     SEP     OCT     NOV  \\\n",
       "0   5,150       0       0  19,214  26,621  25,596  10,604  12,572     NaN   \n",
       "1  15,409  19,303  20,323  20,924  24,261  23,488  21,216  18,376  14,240   \n",
       "2  15,445  18,585  21,448  20,854  23,898  21,938  19,678  16,757  12,245   \n",
       "3  15,000  21,799  22,750  25,035  29,371  27,229  24,334  18,745  14,561   \n",
       "4  18,094  17,831  21,980  23,477  27,636  24,856  22,523  18,346  13,784   \n",
       "\n",
       "      DEC  \n",
       "0     NaN  \n",
       "1  11,609  \n",
       "2  16,239  \n",
       "3  12,597  \n",
       "4  11,632  "
      ],
      "text/html": "<div>\n<style scoped>\n    .dataframe tbody tr th:only-of-type {\n        vertical-align: middle;\n    }\n\n    .dataframe tbody tr th {\n        vertical-align: top;\n    }\n\n    .dataframe thead th {\n        text-align: right;\n    }\n</style>\n<table border=\"1\" class=\"dataframe\">\n  <thead>\n    <tr style=\"text-align: right;\">\n      <th></th>\n      <th>GroupDescription</th>\n      <th>Year</th>\n      <th>JAN</th>\n      <th>FEB</th>\n      <th>MAR</th>\n      <th>APR</th>\n      <th>MAY</th>\n      <th>JUN</th>\n      <th>JUL</th>\n      <th>AUG</th>\n      <th>SEP</th>\n      <th>OCT</th>\n      <th>NOV</th>\n      <th>DEC</th>\n    </tr>\n  </thead>\n  <tbody>\n    <tr>\n      <th>0</th>\n      <td>TRAFFIC COUNT AT ASH MOUNTAIN ENTRANCE (Lane 1)</td>\n      <td>2020</td>\n      <td>11,347</td>\n      <td>11,401</td>\n      <td>5,150</td>\n      <td>0</td>\n      <td>0</td>\n      <td>19,214</td>\n      <td>26,621</td>\n      <td>25,596</td>\n      <td>10,604</td>\n      <td>12,572</td>\n      <td>NaN</td>\n      <td>NaN</td>\n    </tr>\n    <tr>\n      <th>1</th>\n      <td>TRAFFIC COUNT AT ASH MOUNTAIN ENTRANCE (Lane 1)</td>\n      <td>2019</td>\n      <td>8,268</td>\n      <td>9,199</td>\n      <td>15,409</td>\n      <td>19,303</td>\n      <td>20,323</td>\n      <td>20,924</td>\n      <td>24,261</td>\n      <td>23,488</td>\n      <td>21,216</td>\n      <td>18,376</td>\n      <td>14,240</td>\n      <td>11,609</td>\n    </tr>\n    <tr>\n      <th>2</th>\n      <td>TRAFFIC COUNT AT ASH MOUNTAIN ENTRANCE (Lane 1)</td>\n      <td>2018</td>\n      <td>11,724</td>\n      <td>11,923</td>\n      <td>15,445</td>\n      <td>18,585</td>\n      <td>21,448</td>\n      <td>20,854</td>\n      <td>23,898</td>\n      <td>21,938</td>\n      <td>19,678</td>\n      <td>16,757</td>\n      <td>12,245</td>\n      <td>16,239</td>\n    </tr>\n    <tr>\n      <th>3</th>\n      <td>TRAFFIC COUNT AT ASH MOUNTAIN ENTRANCE (Lane 1)</td>\n      <td>2017</td>\n      <td>9,771</td>\n      <td>8,645</td>\n      <td>15,000</td>\n      <td>21,799</td>\n      <td>22,750</td>\n      <td>25,035</td>\n      <td>29,371</td>\n      <td>27,229</td>\n      <td>24,334</td>\n      <td>18,745</td>\n      <td>14,561</td>\n      <td>12,597</td>\n    </tr>\n    <tr>\n      <th>4</th>\n      <td>TRAFFIC COUNT AT ASH MOUNTAIN ENTRANCE (Lane 1)</td>\n      <td>2016</td>\n      <td>14,400</td>\n      <td>12,892</td>\n      <td>18,094</td>\n      <td>17,831</td>\n      <td>21,980</td>\n      <td>23,477</td>\n      <td>27,636</td>\n      <td>24,856</td>\n      <td>22,523</td>\n      <td>18,346</td>\n      <td>13,784</td>\n      <td>11,632</td>\n    </tr>\n  </tbody>\n</table>\n</div>"
     },
     "metadata": {},
     "execution_count": 45
    }
   ],
   "source": [
    "path=os.path.join(\"Resources\", \"sequoia.csv\")\n",
    "sequoia = pd.read_csv(path, header=[2], encoding='utf-8', delimiter=\",\")\n",
    "sequoia.head()"
   ]
  },
  {
   "cell_type": "code",
   "execution_count": 46,
   "metadata": {},
   "outputs": [
    {
     "output_type": "execute_result",
     "data": {
      "text/plain": [
       "                        GroupDescription  Year    JAN    FEB     MAR     APR  \\\n",
       "0  TRAFFIC COUNT AT FRONT ROYAL ENTRANCE  2020  3,247  5,197  15,001   1,856   \n",
       "1  TRAFFIC COUNT AT FRONT ROYAL ENTRANCE  2019  3,163  1,763   4,427  13,948   \n",
       "2  TRAFFIC COUNT AT FRONT ROYAL ENTRANCE  2018  3,329  2,856   5,217  12,313   \n",
       "3  TRAFFIC COUNT AT FRONT ROYAL ENTRANCE  2017  3,169  6,137   5,816  15,408   \n",
       "4  TRAFFIC COUNT AT FRONT ROYAL ENTRANCE  2016  2,414  2,750   7,418  12,027   \n",
       "\n",
       "      MAY     JUN     JUL     AUG     SEP     OCT     NOV    DEC  \n",
       "0   9,331  22,654  26,682  22,945  23,033  47,092  16,943    NaN  \n",
       "1  18,324  18,773  14,474  18,658  22,814  31,431  17,142  3,136  \n",
       "2  15,744  16,327  19,620  18,008  13,777  26,327  16,474  3,033  \n",
       "3  16,449  18,340  21,226  20,224  18,485  32,876  16,341  3,533  \n",
       "4  15,955  17,013  21,651  19,301  19,041  38,682  19,341  3,623  "
      ],
      "text/html": "<div>\n<style scoped>\n    .dataframe tbody tr th:only-of-type {\n        vertical-align: middle;\n    }\n\n    .dataframe tbody tr th {\n        vertical-align: top;\n    }\n\n    .dataframe thead th {\n        text-align: right;\n    }\n</style>\n<table border=\"1\" class=\"dataframe\">\n  <thead>\n    <tr style=\"text-align: right;\">\n      <th></th>\n      <th>GroupDescription</th>\n      <th>Year</th>\n      <th>JAN</th>\n      <th>FEB</th>\n      <th>MAR</th>\n      <th>APR</th>\n      <th>MAY</th>\n      <th>JUN</th>\n      <th>JUL</th>\n      <th>AUG</th>\n      <th>SEP</th>\n      <th>OCT</th>\n      <th>NOV</th>\n      <th>DEC</th>\n    </tr>\n  </thead>\n  <tbody>\n    <tr>\n      <th>0</th>\n      <td>TRAFFIC COUNT AT FRONT ROYAL ENTRANCE</td>\n      <td>2020</td>\n      <td>3,247</td>\n      <td>5,197</td>\n      <td>15,001</td>\n      <td>1,856</td>\n      <td>9,331</td>\n      <td>22,654</td>\n      <td>26,682</td>\n      <td>22,945</td>\n      <td>23,033</td>\n      <td>47,092</td>\n      <td>16,943</td>\n      <td>NaN</td>\n    </tr>\n    <tr>\n      <th>1</th>\n      <td>TRAFFIC COUNT AT FRONT ROYAL ENTRANCE</td>\n      <td>2019</td>\n      <td>3,163</td>\n      <td>1,763</td>\n      <td>4,427</td>\n      <td>13,948</td>\n      <td>18,324</td>\n      <td>18,773</td>\n      <td>14,474</td>\n      <td>18,658</td>\n      <td>22,814</td>\n      <td>31,431</td>\n      <td>17,142</td>\n      <td>3,136</td>\n    </tr>\n    <tr>\n      <th>2</th>\n      <td>TRAFFIC COUNT AT FRONT ROYAL ENTRANCE</td>\n      <td>2018</td>\n      <td>3,329</td>\n      <td>2,856</td>\n      <td>5,217</td>\n      <td>12,313</td>\n      <td>15,744</td>\n      <td>16,327</td>\n      <td>19,620</td>\n      <td>18,008</td>\n      <td>13,777</td>\n      <td>26,327</td>\n      <td>16,474</td>\n      <td>3,033</td>\n    </tr>\n    <tr>\n      <th>3</th>\n      <td>TRAFFIC COUNT AT FRONT ROYAL ENTRANCE</td>\n      <td>2017</td>\n      <td>3,169</td>\n      <td>6,137</td>\n      <td>5,816</td>\n      <td>15,408</td>\n      <td>16,449</td>\n      <td>18,340</td>\n      <td>21,226</td>\n      <td>20,224</td>\n      <td>18,485</td>\n      <td>32,876</td>\n      <td>16,341</td>\n      <td>3,533</td>\n    </tr>\n    <tr>\n      <th>4</th>\n      <td>TRAFFIC COUNT AT FRONT ROYAL ENTRANCE</td>\n      <td>2016</td>\n      <td>2,414</td>\n      <td>2,750</td>\n      <td>7,418</td>\n      <td>12,027</td>\n      <td>15,955</td>\n      <td>17,013</td>\n      <td>21,651</td>\n      <td>19,301</td>\n      <td>19,041</td>\n      <td>38,682</td>\n      <td>19,341</td>\n      <td>3,623</td>\n    </tr>\n  </tbody>\n</table>\n</div>"
     },
     "metadata": {},
     "execution_count": 46
    }
   ],
   "source": [
    "path=os.path.join(\"Resources\", \"shenandoah.csv\")\n",
    "shenandoah = pd.read_csv(path, header=[2], encoding='utf-8', delimiter=\",\")\n",
    "shenandoah.head()"
   ]
  },
  {
   "cell_type": "code",
   "execution_count": 47,
   "metadata": {},
   "outputs": [
    {
     "output_type": "execute_result",
     "data": {
      "text/plain": [
       "                            GroupDescription  Year JAN FEB MAR APR     MAY  \\\n",
       "0  TRAFFIC COUNT AT PAINTED CANYON REST AREA  2020   0   0   0   0       0   \n",
       "1  TRAFFIC COUNT AT PAINTED CANYON REST AREA  2019   0   0   0   0  15,586   \n",
       "2  TRAFFIC COUNT AT PAINTED CANYON REST AREA  2018   0   0   0   0  15,985   \n",
       "3  TRAFFIC COUNT AT PAINTED CANYON REST AREA  2017   0   0   0   0  18,222   \n",
       "4  TRAFFIC COUNT AT PAINTED CANYON REST AREA  2016   0   0   0   0  14,426   \n",
       "\n",
       "      JUN     JUL     AUG     SEP     OCT  NOV  DEC  \n",
       "0  20,960  16,977  16,977  10,613   7,846  NaN  NaN  \n",
       "1  24,670  25,652  20,467  18,506   7,131    0    0  \n",
       "2  23,012  30,857  26,024  18,563   8,113    0    0  \n",
       "3  17,600  29,205  31,291  15,701   9,417    0    0  \n",
       "4  22,213  30,099  25,621  18,855  18,714    0    0  "
      ],
      "text/html": "<div>\n<style scoped>\n    .dataframe tbody tr th:only-of-type {\n        vertical-align: middle;\n    }\n\n    .dataframe tbody tr th {\n        vertical-align: top;\n    }\n\n    .dataframe thead th {\n        text-align: right;\n    }\n</style>\n<table border=\"1\" class=\"dataframe\">\n  <thead>\n    <tr style=\"text-align: right;\">\n      <th></th>\n      <th>GroupDescription</th>\n      <th>Year</th>\n      <th>JAN</th>\n      <th>FEB</th>\n      <th>MAR</th>\n      <th>APR</th>\n      <th>MAY</th>\n      <th>JUN</th>\n      <th>JUL</th>\n      <th>AUG</th>\n      <th>SEP</th>\n      <th>OCT</th>\n      <th>NOV</th>\n      <th>DEC</th>\n    </tr>\n  </thead>\n  <tbody>\n    <tr>\n      <th>0</th>\n      <td>TRAFFIC COUNT AT PAINTED CANYON REST AREA</td>\n      <td>2020</td>\n      <td>0</td>\n      <td>0</td>\n      <td>0</td>\n      <td>0</td>\n      <td>0</td>\n      <td>20,960</td>\n      <td>16,977</td>\n      <td>16,977</td>\n      <td>10,613</td>\n      <td>7,846</td>\n      <td>NaN</td>\n      <td>NaN</td>\n    </tr>\n    <tr>\n      <th>1</th>\n      <td>TRAFFIC COUNT AT PAINTED CANYON REST AREA</td>\n      <td>2019</td>\n      <td>0</td>\n      <td>0</td>\n      <td>0</td>\n      <td>0</td>\n      <td>15,586</td>\n      <td>24,670</td>\n      <td>25,652</td>\n      <td>20,467</td>\n      <td>18,506</td>\n      <td>7,131</td>\n      <td>0</td>\n      <td>0</td>\n    </tr>\n    <tr>\n      <th>2</th>\n      <td>TRAFFIC COUNT AT PAINTED CANYON REST AREA</td>\n      <td>2018</td>\n      <td>0</td>\n      <td>0</td>\n      <td>0</td>\n      <td>0</td>\n      <td>15,985</td>\n      <td>23,012</td>\n      <td>30,857</td>\n      <td>26,024</td>\n      <td>18,563</td>\n      <td>8,113</td>\n      <td>0</td>\n      <td>0</td>\n    </tr>\n    <tr>\n      <th>3</th>\n      <td>TRAFFIC COUNT AT PAINTED CANYON REST AREA</td>\n      <td>2017</td>\n      <td>0</td>\n      <td>0</td>\n      <td>0</td>\n      <td>0</td>\n      <td>18,222</td>\n      <td>17,600</td>\n      <td>29,205</td>\n      <td>31,291</td>\n      <td>15,701</td>\n      <td>9,417</td>\n      <td>0</td>\n      <td>0</td>\n    </tr>\n    <tr>\n      <th>4</th>\n      <td>TRAFFIC COUNT AT PAINTED CANYON REST AREA</td>\n      <td>2016</td>\n      <td>0</td>\n      <td>0</td>\n      <td>0</td>\n      <td>0</td>\n      <td>14,426</td>\n      <td>22,213</td>\n      <td>30,099</td>\n      <td>25,621</td>\n      <td>18,855</td>\n      <td>18,714</td>\n      <td>0</td>\n      <td>0</td>\n    </tr>\n  </tbody>\n</table>\n</div>"
     },
     "metadata": {},
     "execution_count": 47
    }
   ],
   "source": [
    "path=os.path.join(\"Resources\", \"theodore_roosevelt.csv\")\n",
    "theodore_roosevelt = pd.read_csv(path, header=[2], encoding='utf-8', delimiter=\",\")\n",
    "theodore_roosevelt.head()"
   ]
  },
  {
   "cell_type": "code",
   "execution_count": 48,
   "metadata": {},
   "outputs": [
    {
     "output_type": "execute_result",
     "data": {
      "text/plain": [
       "                                  GroupDescription  Year    JAN     FEB  \\\n",
       "0  TRAFFIC COUNT AT HIGHWAY 385 SOUTH (COUNTER #5)  2020  9,950   8,538   \n",
       "1  TRAFFIC COUNT AT HIGHWAY 385 SOUTH (COUNTER #5)  2019  8,500     654   \n",
       "2  TRAFFIC COUNT AT HIGHWAY 385 SOUTH (COUNTER #5)  2018  8,854  11,488   \n",
       "3  TRAFFIC COUNT AT HIGHWAY 385 SOUTH (COUNTER #5)  2017  8,854  11,488   \n",
       "4  TRAFFIC COUNT AT HIGHWAY 385 SOUTH (COUNTER #5)  2016  7,975  10,131   \n",
       "\n",
       "      MAR     APR     MAY     JUN     JUL     AUG     SEP     OCT     NOV  \\\n",
       "0   8,635   8,958  11,267  14,386  22,324  18,886  19,609  12,508   8,190   \n",
       "1  12,618  18,124  15,803  34,182  36,194  22,675  16,545  12,749   7,995   \n",
       "2  14,672  12,586  14,994  31,946  33,826  31,911  24,230  17,378  11,505   \n",
       "3  14,672  12,586  14,994  31,946  31,911  26,813  23,755  16,031  11,740   \n",
       "4  14,279  12,610  16,873  29,369  31,911  26,813  23,755  16,031  11,740   \n",
       "\n",
       "     DEC  \n",
       "0    NaN  \n",
       "1  8,120  \n",
       "2  8,452  \n",
       "3  8,841  \n",
       "4  8,841  "
      ],
      "text/html": "<div>\n<style scoped>\n    .dataframe tbody tr th:only-of-type {\n        vertical-align: middle;\n    }\n\n    .dataframe tbody tr th {\n        vertical-align: top;\n    }\n\n    .dataframe thead th {\n        text-align: right;\n    }\n</style>\n<table border=\"1\" class=\"dataframe\">\n  <thead>\n    <tr style=\"text-align: right;\">\n      <th></th>\n      <th>GroupDescription</th>\n      <th>Year</th>\n      <th>JAN</th>\n      <th>FEB</th>\n      <th>MAR</th>\n      <th>APR</th>\n      <th>MAY</th>\n      <th>JUN</th>\n      <th>JUL</th>\n      <th>AUG</th>\n      <th>SEP</th>\n      <th>OCT</th>\n      <th>NOV</th>\n      <th>DEC</th>\n    </tr>\n  </thead>\n  <tbody>\n    <tr>\n      <th>0</th>\n      <td>TRAFFIC COUNT AT HIGHWAY 385 SOUTH (COUNTER #5)</td>\n      <td>2020</td>\n      <td>9,950</td>\n      <td>8,538</td>\n      <td>8,635</td>\n      <td>8,958</td>\n      <td>11,267</td>\n      <td>14,386</td>\n      <td>22,324</td>\n      <td>18,886</td>\n      <td>19,609</td>\n      <td>12,508</td>\n      <td>8,190</td>\n      <td>NaN</td>\n    </tr>\n    <tr>\n      <th>1</th>\n      <td>TRAFFIC COUNT AT HIGHWAY 385 SOUTH (COUNTER #5)</td>\n      <td>2019</td>\n      <td>8,500</td>\n      <td>654</td>\n      <td>12,618</td>\n      <td>18,124</td>\n      <td>15,803</td>\n      <td>34,182</td>\n      <td>36,194</td>\n      <td>22,675</td>\n      <td>16,545</td>\n      <td>12,749</td>\n      <td>7,995</td>\n      <td>8,120</td>\n    </tr>\n    <tr>\n      <th>2</th>\n      <td>TRAFFIC COUNT AT HIGHWAY 385 SOUTH (COUNTER #5)</td>\n      <td>2018</td>\n      <td>8,854</td>\n      <td>11,488</td>\n      <td>14,672</td>\n      <td>12,586</td>\n      <td>14,994</td>\n      <td>31,946</td>\n      <td>33,826</td>\n      <td>31,911</td>\n      <td>24,230</td>\n      <td>17,378</td>\n      <td>11,505</td>\n      <td>8,452</td>\n    </tr>\n    <tr>\n      <th>3</th>\n      <td>TRAFFIC COUNT AT HIGHWAY 385 SOUTH (COUNTER #5)</td>\n      <td>2017</td>\n      <td>8,854</td>\n      <td>11,488</td>\n      <td>14,672</td>\n      <td>12,586</td>\n      <td>14,994</td>\n      <td>31,946</td>\n      <td>31,911</td>\n      <td>26,813</td>\n      <td>23,755</td>\n      <td>16,031</td>\n      <td>11,740</td>\n      <td>8,841</td>\n    </tr>\n    <tr>\n      <th>4</th>\n      <td>TRAFFIC COUNT AT HIGHWAY 385 SOUTH (COUNTER #5)</td>\n      <td>2016</td>\n      <td>7,975</td>\n      <td>10,131</td>\n      <td>14,279</td>\n      <td>12,610</td>\n      <td>16,873</td>\n      <td>29,369</td>\n      <td>31,911</td>\n      <td>26,813</td>\n      <td>23,755</td>\n      <td>16,031</td>\n      <td>11,740</td>\n      <td>8,841</td>\n    </tr>\n  </tbody>\n</table>\n</div>"
     },
     "metadata": {},
     "execution_count": 48
    }
   ],
   "source": [
    "path=os.path.join(\"Resources\", \"wind_cave.csv\")\n",
    "wind_cave = pd.read_csv(path, header=[2], encoding='utf-8', delimiter=\",\")\n",
    "wind_cave.head()"
   ]
  },
  {
   "cell_type": "code",
   "execution_count": 49,
   "metadata": {},
   "outputs": [
    {
     "output_type": "execute_result",
     "data": {
      "text/plain": [
       "             GroupDescription  Year JAN FEB MAR APR     MAY     JUN     JUL  \\\n",
       "0  TRAFFIC COUNT AT EAST GATE  2020   0   0   0   0   8,490  27,724  43,432   \n",
       "1  TRAFFIC COUNT AT EAST GATE  2019   0   0   0   0  18,801  34,648  42,513   \n",
       "2  TRAFFIC COUNT AT EAST GATE  2018   0   0   0   0  21,220  37,213  44,370   \n",
       "3  TRAFFIC COUNT AT EAST GATE  2017   0   0   0   0  18,050  40,951  49,506   \n",
       "4  TRAFFIC COUNT AT EAST GATE  2016   0   0   0   0  19,711  40,217  49,411   \n",
       "\n",
       "      AUG     SEP     OCT  NOV  DEC  \n",
       "0  41,329  33,634  12,182    0  NaN  \n",
       "1  36,209  29,618   6,473  181    0  \n",
       "2  37,559  33,889   6,280   21    0  \n",
       "3  43,342  25,808   8,018   32    0  \n",
       "4  41,213  33,982   9,334  980    0  "
      ],
      "text/html": "<div>\n<style scoped>\n    .dataframe tbody tr th:only-of-type {\n        vertical-align: middle;\n    }\n\n    .dataframe tbody tr th {\n        vertical-align: top;\n    }\n\n    .dataframe thead th {\n        text-align: right;\n    }\n</style>\n<table border=\"1\" class=\"dataframe\">\n  <thead>\n    <tr style=\"text-align: right;\">\n      <th></th>\n      <th>GroupDescription</th>\n      <th>Year</th>\n      <th>JAN</th>\n      <th>FEB</th>\n      <th>MAR</th>\n      <th>APR</th>\n      <th>MAY</th>\n      <th>JUN</th>\n      <th>JUL</th>\n      <th>AUG</th>\n      <th>SEP</th>\n      <th>OCT</th>\n      <th>NOV</th>\n      <th>DEC</th>\n    </tr>\n  </thead>\n  <tbody>\n    <tr>\n      <th>0</th>\n      <td>TRAFFIC COUNT AT EAST GATE</td>\n      <td>2020</td>\n      <td>0</td>\n      <td>0</td>\n      <td>0</td>\n      <td>0</td>\n      <td>8,490</td>\n      <td>27,724</td>\n      <td>43,432</td>\n      <td>41,329</td>\n      <td>33,634</td>\n      <td>12,182</td>\n      <td>0</td>\n      <td>NaN</td>\n    </tr>\n    <tr>\n      <th>1</th>\n      <td>TRAFFIC COUNT AT EAST GATE</td>\n      <td>2019</td>\n      <td>0</td>\n      <td>0</td>\n      <td>0</td>\n      <td>0</td>\n      <td>18,801</td>\n      <td>34,648</td>\n      <td>42,513</td>\n      <td>36,209</td>\n      <td>29,618</td>\n      <td>6,473</td>\n      <td>181</td>\n      <td>0</td>\n    </tr>\n    <tr>\n      <th>2</th>\n      <td>TRAFFIC COUNT AT EAST GATE</td>\n      <td>2018</td>\n      <td>0</td>\n      <td>0</td>\n      <td>0</td>\n      <td>0</td>\n      <td>21,220</td>\n      <td>37,213</td>\n      <td>44,370</td>\n      <td>37,559</td>\n      <td>33,889</td>\n      <td>6,280</td>\n      <td>21</td>\n      <td>0</td>\n    </tr>\n    <tr>\n      <th>3</th>\n      <td>TRAFFIC COUNT AT EAST GATE</td>\n      <td>2017</td>\n      <td>0</td>\n      <td>0</td>\n      <td>0</td>\n      <td>0</td>\n      <td>18,050</td>\n      <td>40,951</td>\n      <td>49,506</td>\n      <td>43,342</td>\n      <td>25,808</td>\n      <td>8,018</td>\n      <td>32</td>\n      <td>0</td>\n    </tr>\n    <tr>\n      <th>4</th>\n      <td>TRAFFIC COUNT AT EAST GATE</td>\n      <td>2016</td>\n      <td>0</td>\n      <td>0</td>\n      <td>0</td>\n      <td>0</td>\n      <td>19,711</td>\n      <td>40,217</td>\n      <td>49,411</td>\n      <td>41,213</td>\n      <td>33,982</td>\n      <td>9,334</td>\n      <td>980</td>\n      <td>0</td>\n    </tr>\n  </tbody>\n</table>\n</div>"
     },
     "metadata": {},
     "execution_count": 49
    }
   ],
   "source": [
    "path=os.path.join(\"Resources\", \"yellowstone.csv\")\n",
    "yellowstone = pd.read_csv(path, header=[2], encoding='utf-8', delimiter=\",\")\n",
    "yellowstone.head()"
   ]
  },
  {
   "cell_type": "code",
   "execution_count": 50,
   "metadata": {},
   "outputs": [
    {
     "output_type": "execute_result",
     "data": {
      "text/plain": [
       "             GroupDescription  Year     JAN     FEB     MAR     APR     MAY  \\\n",
       "0  TRAFFIC COUNT AT ARCH ROCK  2020  20,897  29,344       0       0       0   \n",
       "1  TRAFFIC COUNT AT ARCH ROCK  2019  20,296  18,627  26,718  41,740  53,008   \n",
       "2  TRAFFIC COUNT AT ARCH ROCK  2018  20,793  22,429  30,230  36,935  46,739   \n",
       "3  TRAFFIC COUNT AT ARCH ROCK  2017  20,184  24,206  46,112  66,498  67,532   \n",
       "4  TRAFFIC COUNT AT ARCH ROCK  2016  21,728  26,196  32,769  38,821  52,689   \n",
       "\n",
       "      JUN     JUL     AUG     SEP     OCT     NOV     DEC  \n",
       "0  19,199  53,231  31,476  16,126     NaN     NaN     NaN  \n",
       "1  60,656  65,040  61,529  57,224  42,021  31,304  22,428  \n",
       "2  45,000  21,450  27,200  44,223  35,650  28,012  21,859  \n",
       "3  57,925  57,547  57,367  63,136  48,242  33,996  19,405  \n",
       "4  58,480  60,143  54,744  52,947  43,187  28,816  23,811  "
      ],
      "text/html": "<div>\n<style scoped>\n    .dataframe tbody tr th:only-of-type {\n        vertical-align: middle;\n    }\n\n    .dataframe tbody tr th {\n        vertical-align: top;\n    }\n\n    .dataframe thead th {\n        text-align: right;\n    }\n</style>\n<table border=\"1\" class=\"dataframe\">\n  <thead>\n    <tr style=\"text-align: right;\">\n      <th></th>\n      <th>GroupDescription</th>\n      <th>Year</th>\n      <th>JAN</th>\n      <th>FEB</th>\n      <th>MAR</th>\n      <th>APR</th>\n      <th>MAY</th>\n      <th>JUN</th>\n      <th>JUL</th>\n      <th>AUG</th>\n      <th>SEP</th>\n      <th>OCT</th>\n      <th>NOV</th>\n      <th>DEC</th>\n    </tr>\n  </thead>\n  <tbody>\n    <tr>\n      <th>0</th>\n      <td>TRAFFIC COUNT AT ARCH ROCK</td>\n      <td>2020</td>\n      <td>20,897</td>\n      <td>29,344</td>\n      <td>0</td>\n      <td>0</td>\n      <td>0</td>\n      <td>19,199</td>\n      <td>53,231</td>\n      <td>31,476</td>\n      <td>16,126</td>\n      <td>NaN</td>\n      <td>NaN</td>\n      <td>NaN</td>\n    </tr>\n    <tr>\n      <th>1</th>\n      <td>TRAFFIC COUNT AT ARCH ROCK</td>\n      <td>2019</td>\n      <td>20,296</td>\n      <td>18,627</td>\n      <td>26,718</td>\n      <td>41,740</td>\n      <td>53,008</td>\n      <td>60,656</td>\n      <td>65,040</td>\n      <td>61,529</td>\n      <td>57,224</td>\n      <td>42,021</td>\n      <td>31,304</td>\n      <td>22,428</td>\n    </tr>\n    <tr>\n      <th>2</th>\n      <td>TRAFFIC COUNT AT ARCH ROCK</td>\n      <td>2018</td>\n      <td>20,793</td>\n      <td>22,429</td>\n      <td>30,230</td>\n      <td>36,935</td>\n      <td>46,739</td>\n      <td>45,000</td>\n      <td>21,450</td>\n      <td>27,200</td>\n      <td>44,223</td>\n      <td>35,650</td>\n      <td>28,012</td>\n      <td>21,859</td>\n    </tr>\n    <tr>\n      <th>3</th>\n      <td>TRAFFIC COUNT AT ARCH ROCK</td>\n      <td>2017</td>\n      <td>20,184</td>\n      <td>24,206</td>\n      <td>46,112</td>\n      <td>66,498</td>\n      <td>67,532</td>\n      <td>57,925</td>\n      <td>57,547</td>\n      <td>57,367</td>\n      <td>63,136</td>\n      <td>48,242</td>\n      <td>33,996</td>\n      <td>19,405</td>\n    </tr>\n    <tr>\n      <th>4</th>\n      <td>TRAFFIC COUNT AT ARCH ROCK</td>\n      <td>2016</td>\n      <td>21,728</td>\n      <td>26,196</td>\n      <td>32,769</td>\n      <td>38,821</td>\n      <td>52,689</td>\n      <td>58,480</td>\n      <td>60,143</td>\n      <td>54,744</td>\n      <td>52,947</td>\n      <td>43,187</td>\n      <td>28,816</td>\n      <td>23,811</td>\n    </tr>\n  </tbody>\n</table>\n</div>"
     },
     "metadata": {},
     "execution_count": 50
    }
   ],
   "source": [
    "path=os.path.join(\"Resources\", \"yosemite.csv\")\n",
    "yosemite = pd.read_csv(path, header=[3], encoding='utf-8', delimiter=\",\")\n",
    "yosemite.head()"
   ]
  },
  {
   "cell_type": "code",
   "execution_count": 51,
   "metadata": {},
   "outputs": [
    {
     "output_type": "execute_result",
     "data": {
      "text/plain": [
       "                GroupDescription  Year     JAN     FEB     MAR     APR MAY  \\\n",
       "0  TRAFFIC COUNT AT CANYON DRIVE  2020       0       0       0       0   0   \n",
       "1  TRAFFIC COUNT AT CANYON DRIVE  2019       0       0       0       0   0   \n",
       "2  TRAFFIC COUNT AT CANYON DRIVE  2018       0       0       0       0   0   \n",
       "3  TRAFFIC COUNT AT CANYON DRIVE  2017  15,604  18,652  21,695  13,222   0   \n",
       "4  TRAFFIC COUNT AT CANYON DRIVE  2016       0       0       0       0   0   \n",
       "\n",
       "  JUN JUL AUG SEP OCT  NOV  DEC  \n",
       "0   0   0   0   0   0  NaN  NaN  \n",
       "1   0   0   0   0   0    0    0  \n",
       "2   0   0   0   0   0    0    0  \n",
       "3   0   0   0   0   0    0    0  \n",
       "4   0   0   0   0   0    0    0  "
      ],
      "text/html": "<div>\n<style scoped>\n    .dataframe tbody tr th:only-of-type {\n        vertical-align: middle;\n    }\n\n    .dataframe tbody tr th {\n        vertical-align: top;\n    }\n\n    .dataframe thead th {\n        text-align: right;\n    }\n</style>\n<table border=\"1\" class=\"dataframe\">\n  <thead>\n    <tr style=\"text-align: right;\">\n      <th></th>\n      <th>GroupDescription</th>\n      <th>Year</th>\n      <th>JAN</th>\n      <th>FEB</th>\n      <th>MAR</th>\n      <th>APR</th>\n      <th>MAY</th>\n      <th>JUN</th>\n      <th>JUL</th>\n      <th>AUG</th>\n      <th>SEP</th>\n      <th>OCT</th>\n      <th>NOV</th>\n      <th>DEC</th>\n    </tr>\n  </thead>\n  <tbody>\n    <tr>\n      <th>0</th>\n      <td>TRAFFIC COUNT AT CANYON DRIVE</td>\n      <td>2020</td>\n      <td>0</td>\n      <td>0</td>\n      <td>0</td>\n      <td>0</td>\n      <td>0</td>\n      <td>0</td>\n      <td>0</td>\n      <td>0</td>\n      <td>0</td>\n      <td>0</td>\n      <td>NaN</td>\n      <td>NaN</td>\n    </tr>\n    <tr>\n      <th>1</th>\n      <td>TRAFFIC COUNT AT CANYON DRIVE</td>\n      <td>2019</td>\n      <td>0</td>\n      <td>0</td>\n      <td>0</td>\n      <td>0</td>\n      <td>0</td>\n      <td>0</td>\n      <td>0</td>\n      <td>0</td>\n      <td>0</td>\n      <td>0</td>\n      <td>0</td>\n      <td>0</td>\n    </tr>\n    <tr>\n      <th>2</th>\n      <td>TRAFFIC COUNT AT CANYON DRIVE</td>\n      <td>2018</td>\n      <td>0</td>\n      <td>0</td>\n      <td>0</td>\n      <td>0</td>\n      <td>0</td>\n      <td>0</td>\n      <td>0</td>\n      <td>0</td>\n      <td>0</td>\n      <td>0</td>\n      <td>0</td>\n      <td>0</td>\n    </tr>\n    <tr>\n      <th>3</th>\n      <td>TRAFFIC COUNT AT CANYON DRIVE</td>\n      <td>2017</td>\n      <td>15,604</td>\n      <td>18,652</td>\n      <td>21,695</td>\n      <td>13,222</td>\n      <td>0</td>\n      <td>0</td>\n      <td>0</td>\n      <td>0</td>\n      <td>0</td>\n      <td>0</td>\n      <td>0</td>\n      <td>0</td>\n    </tr>\n    <tr>\n      <th>4</th>\n      <td>TRAFFIC COUNT AT CANYON DRIVE</td>\n      <td>2016</td>\n      <td>0</td>\n      <td>0</td>\n      <td>0</td>\n      <td>0</td>\n      <td>0</td>\n      <td>0</td>\n      <td>0</td>\n      <td>0</td>\n      <td>0</td>\n      <td>0</td>\n      <td>0</td>\n      <td>0</td>\n    </tr>\n  </tbody>\n</table>\n</div>"
     },
     "metadata": {},
     "execution_count": 51
    }
   ],
   "source": [
    "path=os.path.join(\"Resources\", \"zion.csv\")\n",
    "zion = pd.read_csv(path, header=[2], encoding='utf-8', delimiter=\",\")\n",
    "zion.head()"
   ]
  },
  {
   "cell_type": "code",
   "execution_count": 51,
   "metadata": {},
   "outputs": [],
   "source": [
    "\n"
   ]
  },
  {
   "cell_type": "code",
   "execution_count": null,
   "metadata": {},
   "outputs": [],
   "source": [
    " "
   ]
  }
 ],
 "metadata": {
  "kernelspec": {
   "name": "python3",
   "display_name": "Python 3.8.5 64-bit ('PythonData': conda)",
   "metadata": {
    "interpreter": {
     "hash": "371feff4cd96d3128c260eda6ff086b3fa9bce77c98637e69c182bcfaa158ef5"
    }
   }
  },
  "language_info": {
   "codemirror_mode": {
    "name": "ipython",
    "version": 3
   },
   "file_extension": ".py",
   "mimetype": "text/x-python",
   "name": "python",
   "nbconvert_exporter": "python",
   "pygments_lexer": "ipython3",
   "version": "3.8.5-final"
  }
 },
 "nbformat": 4,
 "nbformat_minor": 4
}