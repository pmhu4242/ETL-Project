{
 "metadata": {
  "language_info": {
   "codemirror_mode": {
    "name": "ipython",
    "version": 3
   },
   "file_extension": ".py",
   "mimetype": "text/x-python",
   "name": "python",
   "nbconvert_exporter": "python",
   "pygments_lexer": "ipython3",
   "version": "3.8.5-final"
  },
  "orig_nbformat": 2,
  "kernelspec": {
   "name": "python3",
   "display_name": "Python 3.8.5 64-bit ('PythonData': conda)",
   "metadata": {
    "interpreter": {
     "hash": "371feff4cd96d3128c260eda6ff086b3fa9bce77c98637e69c182bcfaa158ef5"
    }
   }
  }
 },
 "nbformat": 4,
 "nbformat_minor": 2,
 "cells": [
  {
   "cell_type": "code",
   "execution_count": 65,
   "metadata": {},
   "outputs": [
    {
     "output_type": "stream",
     "name": "stdout",
     "text": [
      "Requirement already satisfied: psycopg2 in c:\\users\\pmhu4\\anaconda3.1\\lib\\site-packages (2.8.6)\n"
     ]
    }
   ],
   "source": [
    "!pip install psycopg2\n",
    "import pandas as pd\n",
    "import csv\n",
    "import os\n",
    "from sqlalchemy import create_engine \n",
    "from sqlalchemy.ext.automap import automap_base\n",
    "from sqlalchemy.orm import Session\n",
    "from sqlalchemy import create_engine, func\n",
    "\n",
    "from pymongo import MongoClient\n",
    "\n",
    "\n"
   ]
  },
  {
   "cell_type": "code",
   "execution_count": 157,
   "metadata": {},
   "outputs": [
    {
     "output_type": "execute_result",
     "data": {
      "text/plain": [
       "           ParkName       ParkType          Region  Year  Month TrafficCount  \\\n",
       "UnitCode                                                                       \n",
       "ACAD      Acadia NP  National Park      Northeast   2019      1        1,620   \n",
       "ACAD      Acadia NP  National Park      Northeast   2019      2        1,876   \n",
       "ACAD      Acadia NP  National Park      Northeast   2019      3        3,673   \n",
       "ACAD      Acadia NP  National Park      Northeast   2019      4        8,625   \n",
       "ACAD      Acadia NP  National Park      Northeast   2019      5       25,714   \n",
       "ACAD      Acadia NP  National Park      Northeast   2019      6       51,944   \n",
       "ACAD      Acadia NP  National Park      Northeast   2019      7       75,628   \n",
       "ACAD      Acadia NP  National Park      Northeast   2019      8       75,542   \n",
       "ACAD      Acadia NP  National Park      Northeast   2019      9       60,667   \n",
       "ACAD      Acadia NP  National Park      Northeast   2019     10       47,346   \n",
       "ACAD      Acadia NP  National Park      Northeast   2019     11        5,951   \n",
       "ACAD      Acadia NP  National Park      Northeast   2019     12        2,907   \n",
       "ACAD      Acadia NP  National Park      Northeast   2019      1        1,950   \n",
       "ACAD      Acadia NP  National Park      Northeast   2019      2        1,800   \n",
       "ACAD      Acadia NP  National Park      Northeast   2019      3        2,600   \n",
       "ACAD      Acadia NP  National Park      Northeast   2019      4        3,300   \n",
       "ACAD      Acadia NP  National Park      Northeast   2019      5        7,453   \n",
       "ACAD      Acadia NP  National Park      Northeast   2019      6       14,872   \n",
       "ACAD      Acadia NP  National Park      Northeast   2019      7       23,171   \n",
       "ACAD      Acadia NP  National Park      Northeast   2019      8       23,884   \n",
       "ACAD      Acadia NP  National Park      Northeast   2019      9       18,807   \n",
       "ACAD      Acadia NP  National Park      Northeast   2019     10       11,517   \n",
       "ACAD      Acadia NP  National Park      Northeast   2019     11        2,750   \n",
       "ACAD      Acadia NP  National Park      Northeast   2019     12        1,800   \n",
       "ARCH      Arches NP  National Park  Intermountain   2019      1        8,957   \n",
       "ARCH      Arches NP  National Park  Intermountain   2019      2       12,404   \n",
       "ARCH      Arches NP  National Park  Intermountain   2019      3       48,683   \n",
       "ARCH      Arches NP  National Park  Intermountain   2019      4       62,075   \n",
       "ARCH      Arches NP  National Park  Intermountain   2019      5       77,937   \n",
       "ARCH      Arches NP  National Park  Intermountain   2019      6       80,044   \n",
       "\n",
       "         TrafficCountTotal  \n",
       "UnitCode                    \n",
       "ACAD               361,493  \n",
       "ACAD               361,493  \n",
       "ACAD               361,493  \n",
       "ACAD               361,493  \n",
       "ACAD               361,493  \n",
       "ACAD               361,493  \n",
       "ACAD               361,493  \n",
       "ACAD               361,493  \n",
       "ACAD               361,493  \n",
       "ACAD               361,493  \n",
       "ACAD               361,493  \n",
       "ACAD               361,493  \n",
       "ACAD               113,904  \n",
       "ACAD               113,904  \n",
       "ACAD               113,904  \n",
       "ACAD               113,904  \n",
       "ACAD               113,904  \n",
       "ACAD               113,904  \n",
       "ACAD               113,904  \n",
       "ACAD               113,904  \n",
       "ACAD               113,904  \n",
       "ACAD               113,904  \n",
       "ACAD               113,904  \n",
       "ACAD               113,904  \n",
       "ARCH               612,506  \n",
       "ARCH               612,506  \n",
       "ARCH               612,506  \n",
       "ARCH               612,506  \n",
       "ARCH               612,506  \n",
       "ARCH               612,506  "
      ],
      "text/html": "<div>\n<style scoped>\n    .dataframe tbody tr th:only-of-type {\n        vertical-align: middle;\n    }\n\n    .dataframe tbody tr th {\n        vertical-align: top;\n    }\n\n    .dataframe thead th {\n        text-align: right;\n    }\n</style>\n<table border=\"1\" class=\"dataframe\">\n  <thead>\n    <tr style=\"text-align: right;\">\n      <th></th>\n      <th>ParkName</th>\n      <th>ParkType</th>\n      <th>Region</th>\n      <th>Year</th>\n      <th>Month</th>\n      <th>TrafficCount</th>\n      <th>TrafficCountTotal</th>\n    </tr>\n    <tr>\n      <th>UnitCode</th>\n      <th></th>\n      <th></th>\n      <th></th>\n      <th></th>\n      <th></th>\n      <th></th>\n      <th></th>\n    </tr>\n  </thead>\n  <tbody>\n    <tr>\n      <th>ACAD</th>\n      <td>Acadia NP</td>\n      <td>National Park</td>\n      <td>Northeast</td>\n      <td>2019</td>\n      <td>1</td>\n      <td>1,620</td>\n      <td>361,493</td>\n    </tr>\n    <tr>\n      <th>ACAD</th>\n      <td>Acadia NP</td>\n      <td>National Park</td>\n      <td>Northeast</td>\n      <td>2019</td>\n      <td>2</td>\n      <td>1,876</td>\n      <td>361,493</td>\n    </tr>\n    <tr>\n      <th>ACAD</th>\n      <td>Acadia NP</td>\n      <td>National Park</td>\n      <td>Northeast</td>\n      <td>2019</td>\n      <td>3</td>\n      <td>3,673</td>\n      <td>361,493</td>\n    </tr>\n    <tr>\n      <th>ACAD</th>\n      <td>Acadia NP</td>\n      <td>National Park</td>\n      <td>Northeast</td>\n      <td>2019</td>\n      <td>4</td>\n      <td>8,625</td>\n      <td>361,493</td>\n    </tr>\n    <tr>\n      <th>ACAD</th>\n      <td>Acadia NP</td>\n      <td>National Park</td>\n      <td>Northeast</td>\n      <td>2019</td>\n      <td>5</td>\n      <td>25,714</td>\n      <td>361,493</td>\n    </tr>\n    <tr>\n      <th>ACAD</th>\n      <td>Acadia NP</td>\n      <td>National Park</td>\n      <td>Northeast</td>\n      <td>2019</td>\n      <td>6</td>\n      <td>51,944</td>\n      <td>361,493</td>\n    </tr>\n    <tr>\n      <th>ACAD</th>\n      <td>Acadia NP</td>\n      <td>National Park</td>\n      <td>Northeast</td>\n      <td>2019</td>\n      <td>7</td>\n      <td>75,628</td>\n      <td>361,493</td>\n    </tr>\n    <tr>\n      <th>ACAD</th>\n      <td>Acadia NP</td>\n      <td>National Park</td>\n      <td>Northeast</td>\n      <td>2019</td>\n      <td>8</td>\n      <td>75,542</td>\n      <td>361,493</td>\n    </tr>\n    <tr>\n      <th>ACAD</th>\n      <td>Acadia NP</td>\n      <td>National Park</td>\n      <td>Northeast</td>\n      <td>2019</td>\n      <td>9</td>\n      <td>60,667</td>\n      <td>361,493</td>\n    </tr>\n    <tr>\n      <th>ACAD</th>\n      <td>Acadia NP</td>\n      <td>National Park</td>\n      <td>Northeast</td>\n      <td>2019</td>\n      <td>10</td>\n      <td>47,346</td>\n      <td>361,493</td>\n    </tr>\n    <tr>\n      <th>ACAD</th>\n      <td>Acadia NP</td>\n      <td>National Park</td>\n      <td>Northeast</td>\n      <td>2019</td>\n      <td>11</td>\n      <td>5,951</td>\n      <td>361,493</td>\n    </tr>\n    <tr>\n      <th>ACAD</th>\n      <td>Acadia NP</td>\n      <td>National Park</td>\n      <td>Northeast</td>\n      <td>2019</td>\n      <td>12</td>\n      <td>2,907</td>\n      <td>361,493</td>\n    </tr>\n    <tr>\n      <th>ACAD</th>\n      <td>Acadia NP</td>\n      <td>National Park</td>\n      <td>Northeast</td>\n      <td>2019</td>\n      <td>1</td>\n      <td>1,950</td>\n      <td>113,904</td>\n    </tr>\n    <tr>\n      <th>ACAD</th>\n      <td>Acadia NP</td>\n      <td>National Park</td>\n      <td>Northeast</td>\n      <td>2019</td>\n      <td>2</td>\n      <td>1,800</td>\n      <td>113,904</td>\n    </tr>\n    <tr>\n      <th>ACAD</th>\n      <td>Acadia NP</td>\n      <td>National Park</td>\n      <td>Northeast</td>\n      <td>2019</td>\n      <td>3</td>\n      <td>2,600</td>\n      <td>113,904</td>\n    </tr>\n    <tr>\n      <th>ACAD</th>\n      <td>Acadia NP</td>\n      <td>National Park</td>\n      <td>Northeast</td>\n      <td>2019</td>\n      <td>4</td>\n      <td>3,300</td>\n      <td>113,904</td>\n    </tr>\n    <tr>\n      <th>ACAD</th>\n      <td>Acadia NP</td>\n      <td>National Park</td>\n      <td>Northeast</td>\n      <td>2019</td>\n      <td>5</td>\n      <td>7,453</td>\n      <td>113,904</td>\n    </tr>\n    <tr>\n      <th>ACAD</th>\n      <td>Acadia NP</td>\n      <td>National Park</td>\n      <td>Northeast</td>\n      <td>2019</td>\n      <td>6</td>\n      <td>14,872</td>\n      <td>113,904</td>\n    </tr>\n    <tr>\n      <th>ACAD</th>\n      <td>Acadia NP</td>\n      <td>National Park</td>\n      <td>Northeast</td>\n      <td>2019</td>\n      <td>7</td>\n      <td>23,171</td>\n      <td>113,904</td>\n    </tr>\n    <tr>\n      <th>ACAD</th>\n      <td>Acadia NP</td>\n      <td>National Park</td>\n      <td>Northeast</td>\n      <td>2019</td>\n      <td>8</td>\n      <td>23,884</td>\n      <td>113,904</td>\n    </tr>\n    <tr>\n      <th>ACAD</th>\n      <td>Acadia NP</td>\n      <td>National Park</td>\n      <td>Northeast</td>\n      <td>2019</td>\n      <td>9</td>\n      <td>18,807</td>\n      <td>113,904</td>\n    </tr>\n    <tr>\n      <th>ACAD</th>\n      <td>Acadia NP</td>\n      <td>National Park</td>\n      <td>Northeast</td>\n      <td>2019</td>\n      <td>10</td>\n      <td>11,517</td>\n      <td>113,904</td>\n    </tr>\n    <tr>\n      <th>ACAD</th>\n      <td>Acadia NP</td>\n      <td>National Park</td>\n      <td>Northeast</td>\n      <td>2019</td>\n      <td>11</td>\n      <td>2,750</td>\n      <td>113,904</td>\n    </tr>\n    <tr>\n      <th>ACAD</th>\n      <td>Acadia NP</td>\n      <td>National Park</td>\n      <td>Northeast</td>\n      <td>2019</td>\n      <td>12</td>\n      <td>1,800</td>\n      <td>113,904</td>\n    </tr>\n    <tr>\n      <th>ARCH</th>\n      <td>Arches NP</td>\n      <td>National Park</td>\n      <td>Intermountain</td>\n      <td>2019</td>\n      <td>1</td>\n      <td>8,957</td>\n      <td>612,506</td>\n    </tr>\n    <tr>\n      <th>ARCH</th>\n      <td>Arches NP</td>\n      <td>National Park</td>\n      <td>Intermountain</td>\n      <td>2019</td>\n      <td>2</td>\n      <td>12,404</td>\n      <td>612,506</td>\n    </tr>\n    <tr>\n      <th>ARCH</th>\n      <td>Arches NP</td>\n      <td>National Park</td>\n      <td>Intermountain</td>\n      <td>2019</td>\n      <td>3</td>\n      <td>48,683</td>\n      <td>612,506</td>\n    </tr>\n    <tr>\n      <th>ARCH</th>\n      <td>Arches NP</td>\n      <td>National Park</td>\n      <td>Intermountain</td>\n      <td>2019</td>\n      <td>4</td>\n      <td>62,075</td>\n      <td>612,506</td>\n    </tr>\n    <tr>\n      <th>ARCH</th>\n      <td>Arches NP</td>\n      <td>National Park</td>\n      <td>Intermountain</td>\n      <td>2019</td>\n      <td>5</td>\n      <td>77,937</td>\n      <td>612,506</td>\n    </tr>\n    <tr>\n      <th>ARCH</th>\n      <td>Arches NP</td>\n      <td>National Park</td>\n      <td>Intermountain</td>\n      <td>2019</td>\n      <td>6</td>\n      <td>80,044</td>\n      <td>612,506</td>\n    </tr>\n  </tbody>\n</table>\n</div>"
     },
     "metadata": {},
     "execution_count": 157
    }
   ],
   "source": [
    "path = os.path.join(\"Traffic_Counts .csv\")\n",
    "tracounts = pd.read_csv(path, header=[3], encoding='utf-8', delimiter=\",\")\n",
    "tracounts = tracounts.set_index('UnitCode')\n",
    "tracounts = tracounts[['ParkName', 'ParkType', 'Region', 'Year', 'Month','TrafficCount', 'TrafficCountTotal.1']].copy()\n",
    "tracounts = tracounts.rename(columns={\"TrafficCountTotal.1\": \"TrafficCountTotal\"})\n",
    "tracounts.head(30)\n",
    "\n"
   ]
  },
  {
   "cell_type": "code",
   "execution_count": 67,
   "metadata": {},
   "outputs": [
    {
     "output_type": "execute_result",
     "data": {
      "text/plain": [
       "Index(['ParkName', 'ParkType', 'Region', 'Year', 'Month', 'TrafficCount',\n",
       "       'TrafficCountTotal.1'],\n",
       "      dtype='object')"
      ]
     },
     "metadata": {},
     "execution_count": 67
    }
   ],
   "source": [
    "tracounts.columns"
   ]
  },
  {
   "cell_type": "code",
   "execution_count": 146,
   "metadata": {},
   "outputs": [
    {
     "output_type": "execute_result",
     "data": {
      "text/plain": [
       "        Park Unit Code  Year  Month Recreation Visits Recreation Hours  \\\n",
       "0  Acadia NP      ACAD  2019      1             8,532           56,311   \n",
       "1  Acadia NP      ACAD  2019      2             9,154           60,414   \n",
       "2  Acadia NP      ACAD  2019      3            20,161          133,064   \n",
       "3  Acadia NP      ACAD  2019      4            68,046          394,023   \n",
       "4  Acadia NP      ACAD  2019      5           226,156        1,670,692   \n",
       "\n",
       "  Tent Campers RV Campers Backcountry Campers  \n",
       "0            0          0                   0  \n",
       "1            0          0                   0  \n",
       "2            0          0                   0  \n",
       "3            0          0                   0  \n",
       "4       10,416      3,327                   0  "
      ],
      "text/html": "<div>\n<style scoped>\n    .dataframe tbody tr th:only-of-type {\n        vertical-align: middle;\n    }\n\n    .dataframe tbody tr th {\n        vertical-align: top;\n    }\n\n    .dataframe thead th {\n        text-align: right;\n    }\n</style>\n<table border=\"1\" class=\"dataframe\">\n  <thead>\n    <tr style=\"text-align: right;\">\n      <th></th>\n      <th>Park</th>\n      <th>Unit Code</th>\n      <th>Year</th>\n      <th>Month</th>\n      <th>Recreation Visits</th>\n      <th>Recreation Hours</th>\n      <th>Tent Campers</th>\n      <th>RV Campers</th>\n      <th>Backcountry Campers</th>\n    </tr>\n  </thead>\n  <tbody>\n    <tr>\n      <th>0</th>\n      <td>Acadia NP</td>\n      <td>ACAD</td>\n      <td>2019</td>\n      <td>1</td>\n      <td>8,532</td>\n      <td>56,311</td>\n      <td>0</td>\n      <td>0</td>\n      <td>0</td>\n    </tr>\n    <tr>\n      <th>1</th>\n      <td>Acadia NP</td>\n      <td>ACAD</td>\n      <td>2019</td>\n      <td>2</td>\n      <td>9,154</td>\n      <td>60,414</td>\n      <td>0</td>\n      <td>0</td>\n      <td>0</td>\n    </tr>\n    <tr>\n      <th>2</th>\n      <td>Acadia NP</td>\n      <td>ACAD</td>\n      <td>2019</td>\n      <td>3</td>\n      <td>20,161</td>\n      <td>133,064</td>\n      <td>0</td>\n      <td>0</td>\n      <td>0</td>\n    </tr>\n    <tr>\n      <th>3</th>\n      <td>Acadia NP</td>\n      <td>ACAD</td>\n      <td>2019</td>\n      <td>4</td>\n      <td>68,046</td>\n      <td>394,023</td>\n      <td>0</td>\n      <td>0</td>\n      <td>0</td>\n    </tr>\n    <tr>\n      <th>4</th>\n      <td>Acadia NP</td>\n      <td>ACAD</td>\n      <td>2019</td>\n      <td>5</td>\n      <td>226,156</td>\n      <td>1,670,692</td>\n      <td>10,416</td>\n      <td>3,327</td>\n      <td>0</td>\n    </tr>\n  </tbody>\n</table>\n</div>"
     },
     "metadata": {},
     "execution_count": 146
    }
   ],
   "source": [
    "path = os.path.join(\"public_use_2019.csv\")\n",
    "nps_public_use = pd.read_csv(path, header=[3], encoding='utf-8', delimiter=\",\")\n",
    "nps_public_use = nps_public_use [['Park', 'Unit Code', 'Year', 'Month',\n",
    "       'Recreation Visits', 'Recreation Hours', 'Tent Campers', 'RV Campers',\n",
    "       'Backcountry Campers']].copy()\n",
    "nps_public_use.head()"
   ]
  },
  {
   "cell_type": "code",
   "execution_count": 69,
   "metadata": {},
   "outputs": [
    {
     "output_type": "execute_result",
     "data": {
      "text/plain": [
       "Index(['Park', 'Unit Code', 'Year', 'Month', 'Recreation Visits',\n",
       "       'Recreation Hours', 'Tent Campers', 'RV Campers',\n",
       "       'Backcountry Campers'],\n",
       "      dtype='object')"
      ]
     },
     "metadata": {},
     "execution_count": 69
    }
   ],
   "source": [
    "nps_public_use.columns"
   ]
  },
  {
   "cell_type": "code",
   "execution_count": 120,
   "metadata": {},
   "outputs": [],
   "source": [
    "client = MongoClient('mongodb://localhost:27017/')"
   ]
  },
  {
   "cell_type": "code",
   "execution_count": 121,
   "metadata": {},
   "outputs": [],
   "source": [
    "db = client.nps_db"
   ]
  },
  {
   "cell_type": "code",
   "execution_count": 122,
   "metadata": {},
   "outputs": [],
   "source": [
    "collection = db.nps_public_use"
   ]
  },
  {
   "cell_type": "code",
   "execution_count": 137,
   "metadata": {},
   "outputs": [],
   "source": [
    "collection = db.traffic_count"
   ]
  },
  {
   "cell_type": "code",
   "execution_count": 138,
   "metadata": {},
   "outputs": [],
   "source": [
    "# public_use_data = pd.read_csv(\"public_use_2019.csv\", header=[3])"
   ]
  },
  {
   "cell_type": "code",
   "execution_count": 154,
   "metadata": {},
   "outputs": [],
   "source": [
    "# public_use_data.reset_index(inplace=True)\n",
    "public_use_dict = nps_public_use.to_dict('records')"
   ]
  },
  {
   "cell_type": "code",
   "execution_count": 155,
   "metadata": {},
   "outputs": [
    {
     "output_type": "execute_result",
     "data": {
      "text/plain": [
       "<pymongo.results.InsertManyResult at 0x23e68ca2380>"
      ]
     },
     "metadata": {},
     "execution_count": 155
    }
   ],
   "source": [
    "db.nps_public_use.insert_many(public_use_dict)"
   ]
  },
  {
   "cell_type": "code",
   "execution_count": 147,
   "metadata": {},
   "outputs": [],
   "source": [
    "# traffic_count = pd.read_csv(\"Traffic_Counts .csv\", header=[2])"
   ]
  },
  {
   "cell_type": "code",
   "execution_count": 148,
   "metadata": {},
   "outputs": [],
   "source": [
    "# traffic_count.reset_index(inplace=True)\n",
    "# traffic_count_dict = traffic_count.to_dict(\"records\")"
   ]
  },
  {
   "cell_type": "code",
   "execution_count": 149,
   "metadata": {},
   "outputs": [
    {
     "output_type": "execute_result",
     "data": {
      "text/plain": [
       "<pymongo.results.InsertManyResult at 0x23e6cae6240>"
      ]
     },
     "metadata": {},
     "execution_count": 149
    }
   ],
   "source": [
    "db.traffic_count.insert_many(traffic_count_dict)"
   ]
  },
  {
   "cell_type": "code",
   "execution_count": 158,
   "metadata": {},
   "outputs": [
    {
     "output_type": "execute_result",
     "data": {
      "text/plain": [
       "<pymongo.results.InsertManyResult at 0x23e6c192080>"
      ]
     },
     "metadata": {},
     "execution_count": 158
    }
   ],
   "source": [
    "tracounts_dict = tracounts.to_dict(\"records\")\n",
    "tracounts_dict\n",
    "\n",
    "db.traffic_count.insert_many(tracounts_dict)"
   ]
  },
  {
   "cell_type": "code",
   "execution_count": 161,
   "metadata": {
    "tags": [
     "outputPrepend"
    ]
   },
   "outputs": [
    {
     "output_type": "stream",
     "name": "stdout",
     "text": [
      "019, 'Month': 12, 'TrafficCount': '0', 'TrafficCountTotal': '177,794'}\n{'_id': ObjectId('5fdd9cfb154b6e4192aa7a95'), 'ParkName': 'Yosemite NP', 'ParkType': 'National Park', 'Region': 'Pacific West ', 'Year': 2019, 'Month': 1, 'TrafficCount': '122', 'TrafficCountTotal': '22,979'}\n{'_id': ObjectId('5fdd9cfb154b6e4192aa7a96'), 'ParkName': 'Yosemite NP', 'ParkType': 'National Park', 'Region': 'Pacific West ', 'Year': 2019, 'Month': 2, 'TrafficCount': '92', 'TrafficCountTotal': '22,979'}\n{'_id': ObjectId('5fdd9cfb154b6e4192aa7a97'), 'ParkName': 'Yosemite NP', 'ParkType': 'National Park', 'Region': 'Pacific West ', 'Year': 2019, 'Month': 3, 'TrafficCount': '1,119', 'TrafficCountTotal': '22,979'}\n{'_id': ObjectId('5fdd9cfb154b6e4192aa7a98'), 'ParkName': 'Yosemite NP', 'ParkType': 'National Park', 'Region': 'Pacific West ', 'Year': 2019, 'Month': 4, 'TrafficCount': '0', 'TrafficCountTotal': '22,979'}\n{'_id': ObjectId('5fdd9cfb154b6e4192aa7a99'), 'ParkName': 'Yosemite NP', 'ParkType': 'National Park', 'Region': 'Pacific West ', 'Year': 2019, 'Month': 5, 'TrafficCount': '4,063', 'TrafficCountTotal': '22,979'}\n{'_id': ObjectId('5fdd9cfb154b6e4192aa7a9a'), 'ParkName': 'Yosemite NP', 'ParkType': 'National Park', 'Region': 'Pacific West ', 'Year': 2019, 'Month': 6, 'TrafficCount': '5,405', 'TrafficCountTotal': '22,979'}\n{'_id': ObjectId('5fdd9cfb154b6e4192aa7a9b'), 'ParkName': 'Yosemite NP', 'ParkType': 'National Park', 'Region': 'Pacific West ', 'Year': 2019, 'Month': 7, 'TrafficCount': '3,845', 'TrafficCountTotal': '22,979'}\n{'_id': ObjectId('5fdd9cfb154b6e4192aa7a9c'), 'ParkName': 'Yosemite NP', 'ParkType': 'National Park', 'Region': 'Pacific West ', 'Year': 2019, 'Month': 8, 'TrafficCount': '2,984', 'TrafficCountTotal': '22,979'}\n{'_id': ObjectId('5fdd9cfb154b6e4192aa7a9d'), 'ParkName': 'Yosemite NP', 'ParkType': 'National Park', 'Region': 'Pacific West ', 'Year': 2019, 'Month': 9, 'TrafficCount': '2,996', 'TrafficCountTotal': '22,979'}\n{'_id': ObjectId('5fdd9cfb154b6e4192aa7a9e'), 'ParkName': 'Yosemite NP', 'ParkType': 'National Park', 'Region': 'Pacific West ', 'Year': 2019, 'Month': 10, 'TrafficCount': '2,056', 'TrafficCountTotal': '22,979'}\n{'_id': ObjectId('5fdd9cfb154b6e4192aa7a9f'), 'ParkName': 'Yosemite NP', 'ParkType': 'National Park', 'Region': 'Pacific West ', 'Year': 2019, 'Month': 11, 'TrafficCount': '0', 'TrafficCountTotal': '22,979'}\n{'_id': ObjectId('5fdd9cfb154b6e4192aa7aa0'), 'ParkName': 'Yosemite NP', 'ParkType': 'National Park', 'Region': 'Pacific West ', 'Year': 2019, 'Month': 12, 'TrafficCount': '297', 'TrafficCountTotal': '22,979'}\n{'_id': ObjectId('5fdd9cfb154b6e4192aa7aa1'), 'ParkName': 'Yosemite NP', 'ParkType': 'National Park', 'Region': 'Pacific West ', 'Year': 2019, 'Month': 1, 'TrafficCount': '17,825', 'TrafficCountTotal': '450,725'}\n{'_id': ObjectId('5fdd9cfb154b6e4192aa7aa2'), 'ParkName': 'Yosemite NP', 'ParkType': 'National Park', 'Region': 'Pacific West ', 'Year': 2019, 'Month': 2, 'TrafficCount': '18,900', 'TrafficCountTotal': '450,725'}\n{'_id': ObjectId('5fdd9cfb154b6e4192aa7aa3'), 'ParkName': 'Yosemite NP', 'ParkType': 'National Park', 'Region': 'Pacific West ', 'Year': 2019, 'Month': 3, 'TrafficCount': '21,700', 'TrafficCountTotal': '450,725'}\n{'_id': ObjectId('5fdd9cfb154b6e4192aa7aa4'), 'ParkName': 'Yosemite NP', 'ParkType': 'National Park', 'Region': 'Pacific West ', 'Year': 2019, 'Month': 4, 'TrafficCount': '33,750', 'TrafficCountTotal': '450,725'}\n{'_id': ObjectId('5fdd9cfb154b6e4192aa7aa5'), 'ParkName': 'Yosemite NP', 'ParkType': 'National Park', 'Region': 'Pacific West ', 'Year': 2019, 'Month': 5, 'TrafficCount': '44,950', 'TrafficCountTotal': '450,725'}\n{'_id': ObjectId('5fdd9cfb154b6e4192aa7aa6'), 'ParkName': 'Yosemite NP', 'ParkType': 'National Park', 'Region': 'Pacific West ', 'Year': 2019, 'Month': 6, 'TrafficCount': '55,500', 'TrafficCountTotal': '450,725'}\n{'_id': ObjectId('5fdd9cfb154b6e4192aa7aa7'), 'ParkName': 'Yosemite NP', 'ParkType': 'National Park', 'Region': 'Pacific West ', 'Year': 2019, 'Month': 7, 'TrafficCount': '65,100', 'TrafficCountTotal': '450,725'}\n{'_id': ObjectId('5fdd9cfb154b6e4192aa7aa8'), 'ParkName': 'Yosemite NP', 'ParkType': 'National Park', 'Region': 'Pacific West ', 'Year': 2019, 'Month': 8, 'TrafficCount': '65,100', 'TrafficCountTotal': '450,725'}\n{'_id': ObjectId('5fdd9cfb154b6e4192aa7aa9'), 'ParkName': 'Yosemite NP', 'ParkType': 'National Park', 'Region': 'Pacific West ', 'Year': 2019, 'Month': 9, 'TrafficCount': '46,500', 'TrafficCountTotal': '450,725'}\n{'_id': ObjectId('5fdd9cfb154b6e4192aa7aaa'), 'ParkName': 'Yosemite NP', 'ParkType': 'National Park', 'Region': 'Pacific West ', 'Year': 2019, 'Month': 10, 'TrafficCount': '37,200', 'TrafficCountTotal': '450,725'}\n{'_id': ObjectId('5fdd9cfb154b6e4192aa7aab'), 'ParkName': 'Yosemite NP', 'ParkType': 'National Park', 'Region': 'Pacific West ', 'Year': 2019, 'Month': 11, 'TrafficCount': '22,500', 'TrafficCountTotal': '450,725'}\n{'_id': ObjectId('5fdd9cfb154b6e4192aa7aac'), 'ParkName': 'Yosemite NP', 'ParkType': 'National Park', 'Region': 'Pacific West ', 'Year': 2019, 'Month': 12, 'TrafficCount': '21,700', 'TrafficCountTotal': '450,725'}\n{'_id': ObjectId('5fdd9cfb154b6e4192aa7aad'), 'ParkName': 'Yosemite NP', 'ParkType': 'National Park', 'Region': 'Pacific West ', 'Year': 2019, 'Month': 1, 'TrafficCount': '0', 'TrafficCountTotal': '214,052'}\n{'_id': ObjectId('5fdd9cfb154b6e4192aa7aae'), 'ParkName': 'Yosemite NP', 'ParkType': 'National Park', 'Region': 'Pacific West ', 'Year': 2019, 'Month': 2, 'TrafficCount': '0', 'TrafficCountTotal': '214,052'}\n{'_id': ObjectId('5fdd9cfb154b6e4192aa7aaf'), 'ParkName': 'Yosemite NP', 'ParkType': 'National Park', 'Region': 'Pacific West ', 'Year': 2019, 'Month': 3, 'TrafficCount': '0', 'TrafficCountTotal': '214,052'}\n{'_id': ObjectId('5fdd9cfb154b6e4192aa7ab0'), 'ParkName': 'Yosemite NP', 'ParkType': 'National Park', 'Region': 'Pacific West ', 'Year': 2019, 'Month': 4, 'TrafficCount': '0', 'TrafficCountTotal': '214,052'}\n{'_id': ObjectId('5fdd9cfb154b6e4192aa7ab1'), 'ParkName': 'Yosemite NP', 'ParkType': 'National Park', 'Region': 'Pacific West ', 'Year': 2019, 'Month': 5, 'TrafficCount': '0', 'TrafficCountTotal': '214,052'}\n{'_id': ObjectId('5fdd9cfb154b6e4192aa7ab2'), 'ParkName': 'Yosemite NP', 'ParkType': 'National Park', 'Region': 'Pacific West ', 'Year': 2019, 'Month': 6, 'TrafficCount': '0', 'TrafficCountTotal': '214,052'}\n{'_id': ObjectId('5fdd9cfb154b6e4192aa7ab3'), 'ParkName': 'Yosemite NP', 'ParkType': 'National Park', 'Region': 'Pacific West ', 'Year': 2019, 'Month': 7, 'TrafficCount': '59,221', 'TrafficCountTotal': '214,052'}\n{'_id': ObjectId('5fdd9cfb154b6e4192aa7ab4'), 'ParkName': 'Yosemite NP', 'ParkType': 'National Park', 'Region': 'Pacific West ', 'Year': 2019, 'Month': 8, 'TrafficCount': '61,308', 'TrafficCountTotal': '214,052'}\n{'_id': ObjectId('5fdd9cfb154b6e4192aa7ab5'), 'ParkName': 'Yosemite NP', 'ParkType': 'National Park', 'Region': 'Pacific West ', 'Year': 2019, 'Month': 9, 'TrafficCount': '49,628', 'TrafficCountTotal': '214,052'}\n{'_id': ObjectId('5fdd9cfb154b6e4192aa7ab6'), 'ParkName': 'Yosemite NP', 'ParkType': 'National Park', 'Region': 'Pacific West ', 'Year': 2019, 'Month': 10, 'TrafficCount': '34,360', 'TrafficCountTotal': '214,052'}\n{'_id': ObjectId('5fdd9cfb154b6e4192aa7ab7'), 'ParkName': 'Yosemite NP', 'ParkType': 'National Park', 'Region': 'Pacific West ', 'Year': 2019, 'Month': 11, 'TrafficCount': '9,535', 'TrafficCountTotal': '214,052'}\n{'_id': ObjectId('5fdd9cfb154b6e4192aa7ab8'), 'ParkName': 'Yosemite NP', 'ParkType': 'National Park', 'Region': 'Pacific West ', 'Year': 2019, 'Month': 12, 'TrafficCount': '0', 'TrafficCountTotal': '214,052'}\n{'_id': ObjectId('5fdd9cfb154b6e4192aa7ab9'), 'ParkName': 'Zion NP', 'ParkType': 'National Park', 'Region': 'Intermountain ', 'Year': 2019, 'Month': 1, 'TrafficCount': '0', 'TrafficCountTotal': '0'}\n{'_id': ObjectId('5fdd9cfb154b6e4192aa7aba'), 'ParkName': 'Zion NP', 'ParkType': 'National Park', 'Region': 'Intermountain ', 'Year': 2019, 'Month': 2, 'TrafficCount': '0', 'TrafficCountTotal': '0'}\n{'_id': ObjectId('5fdd9cfb154b6e4192aa7abb'), 'ParkName': 'Zion NP', 'ParkType': 'National Park', 'Region': 'Intermountain ', 'Year': 2019, 'Month': 3, 'TrafficCount': '0', 'TrafficCountTotal': '0'}\n{'_id': ObjectId('5fdd9cfb154b6e4192aa7abc'), 'ParkName': 'Zion NP', 'ParkType': 'National Park', 'Region': 'Intermountain ', 'Year': 2019, 'Month': 4, 'TrafficCount': '0', 'TrafficCountTotal': '0'}\n{'_id': ObjectId('5fdd9cfb154b6e4192aa7abd'), 'ParkName': 'Zion NP', 'ParkType': 'National Park', 'Region': 'Intermountain ', 'Year': 2019, 'Month': 5, 'TrafficCount': '0', 'TrafficCountTotal': '0'}\n{'_id': ObjectId('5fdd9cfb154b6e4192aa7abe'), 'ParkName': 'Zion NP', 'ParkType': 'National Park', 'Region': 'Intermountain ', 'Year': 2019, 'Month': 6, 'TrafficCount': '0', 'TrafficCountTotal': '0'}\n{'_id': ObjectId('5fdd9cfb154b6e4192aa7abf'), 'ParkName': 'Zion NP', 'ParkType': 'National Park', 'Region': 'Intermountain ', 'Year': 2019, 'Month': 7, 'TrafficCount': '0', 'TrafficCountTotal': '0'}\n{'_id': ObjectId('5fdd9cfb154b6e4192aa7ac0'), 'ParkName': 'Zion NP', 'ParkType': 'National Park', 'Region': 'Intermountain ', 'Year': 2019, 'Month': 8, 'TrafficCount': '0', 'TrafficCountTotal': '0'}\n{'_id': ObjectId('5fdd9cfb154b6e4192aa7ac1'), 'ParkName': 'Zion NP', 'ParkType': 'National Park', 'Region': 'Intermountain ', 'Year': 2019, 'Month': 9, 'TrafficCount': '0', 'TrafficCountTotal': '0'}\n{'_id': ObjectId('5fdd9cfb154b6e4192aa7ac2'), 'ParkName': 'Zion NP', 'ParkType': 'National Park', 'Region': 'Intermountain ', 'Year': 2019, 'Month': 10, 'TrafficCount': '0', 'TrafficCountTotal': '0'}\n{'_id': ObjectId('5fdd9cfb154b6e4192aa7ac3'), 'ParkName': 'Zion NP', 'ParkType': 'National Park', 'Region': 'Intermountain ', 'Year': 2019, 'Month': 11, 'TrafficCount': '0', 'TrafficCountTotal': '0'}\n{'_id': ObjectId('5fdd9cfb154b6e4192aa7ac4'), 'ParkName': 'Zion NP', 'ParkType': 'National Park', 'Region': 'Intermountain ', 'Year': 2019, 'Month': 12, 'TrafficCount': '0', 'TrafficCountTotal': '0'}\n{'_id': ObjectId('5fdd9cfb154b6e4192aa7ac5'), 'ParkName': 'Zion NP', 'ParkType': 'National Park', 'Region': 'Intermountain ', 'Year': 2019, 'Month': 1, 'TrafficCount': '9,265', 'TrafficCountTotal': '358,840'}\n{'_id': ObjectId('5fdd9cfb154b6e4192aa7ac6'), 'ParkName': 'Zion NP', 'ParkType': 'National Park', 'Region': 'Intermountain ', 'Year': 2019, 'Month': 2, 'TrafficCount': '8,216', 'TrafficCountTotal': '358,840'}\n{'_id': ObjectId('5fdd9cfb154b6e4192aa7ac7'), 'ParkName': 'Zion NP', 'ParkType': 'National Park', 'Region': 'Intermountain ', 'Year': 2019, 'Month': 3, 'TrafficCount': '17,030', 'TrafficCountTotal': '358,840'}\n{'_id': ObjectId('5fdd9cfb154b6e4192aa7ac8'), 'ParkName': 'Zion NP', 'ParkType': 'National Park', 'Region': 'Intermountain ', 'Year': 2019, 'Month': 4, 'TrafficCount': '19,375', 'TrafficCountTotal': '358,840'}\n{'_id': ObjectId('5fdd9cfb154b6e4192aa7ac9'), 'ParkName': 'Zion NP', 'ParkType': 'National Park', 'Region': 'Intermountain ', 'Year': 2019, 'Month': 5, 'TrafficCount': '46,110', 'TrafficCountTotal': '358,840'}\n{'_id': ObjectId('5fdd9cfb154b6e4192aa7aca'), 'ParkName': 'Zion NP', 'ParkType': 'National Park', 'Region': 'Intermountain ', 'Year': 2019, 'Month': 6, 'TrafficCount': '47,365', 'TrafficCountTotal': '358,840'}\n{'_id': ObjectId('5fdd9cfb154b6e4192aa7acb'), 'ParkName': 'Zion NP', 'ParkType': 'National Park', 'Region': 'Intermountain ', 'Year': 2019, 'Month': 7, 'TrafficCount': '47,206', 'TrafficCountTotal': '358,840'}\n{'_id': ObjectId('5fdd9cfb154b6e4192aa7acc'), 'ParkName': 'Zion NP', 'ParkType': 'National Park', 'Region': 'Intermountain ', 'Year': 2019, 'Month': 8, 'TrafficCount': '43,265', 'TrafficCountTotal': '358,840'}\n{'_id': ObjectId('5fdd9cfb154b6e4192aa7acd'), 'ParkName': 'Zion NP', 'ParkType': 'National Park', 'Region': 'Intermountain ', 'Year': 2019, 'Month': 9, 'TrafficCount': '46,395', 'TrafficCountTotal': '358,840'}\n{'_id': ObjectId('5fdd9cfb154b6e4192aa7ace'), 'ParkName': 'Zion NP', 'ParkType': 'National Park', 'Region': 'Intermountain ', 'Year': 2019, 'Month': 10, 'TrafficCount': '41,956', 'TrafficCountTotal': '358,840'}\n{'_id': ObjectId('5fdd9cfb154b6e4192aa7acf'), 'ParkName': 'Zion NP', 'ParkType': 'National Park', 'Region': 'Intermountain ', 'Year': 2019, 'Month': 11, 'TrafficCount': '18,949', 'TrafficCountTotal': '358,840'}\n{'_id': ObjectId('5fdd9cfb154b6e4192aa7ad0'), 'ParkName': 'Zion NP', 'ParkType': 'National Park', 'Region': 'Intermountain ', 'Year': 2019, 'Month': 12, 'TrafficCount': '13,708', 'TrafficCountTotal': '358,840'}\n{'_id': ObjectId('5fdd9cfb154b6e4192aa7ad1'), 'ParkName': 'Zion NP', 'ParkType': 'National Park', 'Region': 'Intermountain ', 'Year': 2019, 'Month': 1, 'TrafficCount': '0', 'TrafficCountTotal': '96,394'}\n{'_id': ObjectId('5fdd9cfb154b6e4192aa7ad2'), 'ParkName': 'Zion NP', 'ParkType': 'National Park', 'Region': 'Intermountain ', 'Year': 2019, 'Month': 2, 'TrafficCount': '0', 'TrafficCountTotal': '96,394'}\n{'_id': ObjectId('5fdd9cfb154b6e4192aa7ad3'), 'ParkName': 'Zion NP', 'ParkType': 'National Park', 'Region': 'Intermountain ', 'Year': 2019, 'Month': 3, 'TrafficCount': '8,907', 'TrafficCountTotal': '96,394'}\n{'_id': ObjectId('5fdd9cfb154b6e4192aa7ad4'), 'ParkName': 'Zion NP', 'ParkType': 'National Park', 'Region': 'Intermountain ', 'Year': 2019, 'Month': 4, 'TrafficCount': '13,959', 'TrafficCountTotal': '96,394'}\n{'_id': ObjectId('5fdd9cfb154b6e4192aa7ad5'), 'ParkName': 'Zion NP', 'ParkType': 'National Park', 'Region': 'Intermountain ', 'Year': 2019, 'Month': 5, 'TrafficCount': '13,076', 'TrafficCountTotal': '96,394'}\n{'_id': ObjectId('5fdd9cfb154b6e4192aa7ad6'), 'ParkName': 'Zion NP', 'ParkType': 'National Park', 'Region': 'Intermountain ', 'Year': 2019, 'Month': 6, 'TrafficCount': '11,881', 'TrafficCountTotal': '96,394'}\n{'_id': ObjectId('5fdd9cfb154b6e4192aa7ad7'), 'ParkName': 'Zion NP', 'ParkType': 'National Park', 'Region': 'Intermountain ', 'Year': 2019, 'Month': 7, 'TrafficCount': '9,718', 'TrafficCountTotal': '96,394'}\n{'_id': ObjectId('5fdd9cfb154b6e4192aa7ad8'), 'ParkName': 'Zion NP', 'ParkType': 'National Park', 'Region': 'Intermountain ', 'Year': 2019, 'Month': 8, 'TrafficCount': '8,535', 'TrafficCountTotal': '96,394'}\n{'_id': ObjectId('5fdd9cfb154b6e4192aa7ad9'), 'ParkName': 'Zion NP', 'ParkType': 'National Park', 'Region': 'Intermountain ', 'Year': 2019, 'Month': 9, 'TrafficCount': '10,801', 'TrafficCountTotal': '96,394'}\n{'_id': ObjectId('5fdd9cfb154b6e4192aa7ada'), 'ParkName': 'Zion NP', 'ParkType': 'National Park', 'Region': 'Intermountain ', 'Year': 2019, 'Month': 10, 'TrafficCount': '10,660', 'TrafficCountTotal': '96,394'}\n{'_id': ObjectId('5fdd9cfb154b6e4192aa7adb'), 'ParkName': 'Zion NP', 'ParkType': 'National Park', 'Region': 'Intermountain ', 'Year': 2019, 'Month': 11, 'TrafficCount': '5,654', 'TrafficCountTotal': '96,394'}\n{'_id': ObjectId('5fdd9cfb154b6e4192aa7adc'), 'ParkName': 'Zion NP', 'ParkType': 'National Park', 'Region': 'Intermountain ', 'Year': 2019, 'Month': 12, 'TrafficCount': '3,203', 'TrafficCountTotal': '96,394'}\n{'_id': ObjectId('5fdd9cfb154b6e4192aa7add'), 'ParkName': 'Zion NP', 'ParkType': 'National Park', 'Region': 'Intermountain ', 'Year': 2019, 'Month': 1, 'TrafficCount': '0', 'TrafficCountTotal': '0'}\n{'_id': ObjectId('5fdd9cfb154b6e4192aa7ade'), 'ParkName': 'Zion NP', 'ParkType': 'National Park', 'Region': 'Intermountain ', 'Year': 2019, 'Month': 2, 'TrafficCount': '0', 'TrafficCountTotal': '0'}\n{'_id': ObjectId('5fdd9cfb154b6e4192aa7adf'), 'ParkName': 'Zion NP', 'ParkType': 'National Park', 'Region': 'Intermountain ', 'Year': 2019, 'Month': 3, 'TrafficCount': '0', 'TrafficCountTotal': '0'}\n{'_id': ObjectId('5fdd9cfb154b6e4192aa7ae0'), 'ParkName': 'Zion NP', 'ParkType': 'National Park', 'Region': 'Intermountain ', 'Year': 2019, 'Month': 4, 'TrafficCount': '0', 'TrafficCountTotal': '0'}\n{'_id': ObjectId('5fdd9cfb154b6e4192aa7ae1'), 'ParkName': 'Zion NP', 'ParkType': 'National Park', 'Region': 'Intermountain ', 'Year': 2019, 'Month': 5, 'TrafficCount': '0', 'TrafficCountTotal': '0'}\n{'_id': ObjectId('5fdd9cfb154b6e4192aa7ae2'), 'ParkName': 'Zion NP', 'ParkType': 'National Park', 'Region': 'Intermountain ', 'Year': 2019, 'Month': 6, 'TrafficCount': '0', 'TrafficCountTotal': '0'}\n{'_id': ObjectId('5fdd9cfb154b6e4192aa7ae3'), 'ParkName': 'Zion NP', 'ParkType': 'National Park', 'Region': 'Intermountain ', 'Year': 2019, 'Month': 7, 'TrafficCount': '0', 'TrafficCountTotal': '0'}\n{'_id': ObjectId('5fdd9cfb154b6e4192aa7ae4'), 'ParkName': 'Zion NP', 'ParkType': 'National Park', 'Region': 'Intermountain ', 'Year': 2019, 'Month': 8, 'TrafficCount': '0', 'TrafficCountTotal': '0'}\n{'_id': ObjectId('5fdd9cfb154b6e4192aa7ae5'), 'ParkName': 'Zion NP', 'ParkType': 'National Park', 'Region': 'Intermountain ', 'Year': 2019, 'Month': 9, 'TrafficCount': '0', 'TrafficCountTotal': '0'}\n{'_id': ObjectId('5fdd9cfb154b6e4192aa7ae6'), 'ParkName': 'Zion NP', 'ParkType': 'National Park', 'Region': 'Intermountain ', 'Year': 2019, 'Month': 10, 'TrafficCount': '0', 'TrafficCountTotal': '0'}\n{'_id': ObjectId('5fdd9cfb154b6e4192aa7ae7'), 'ParkName': 'Zion NP', 'ParkType': 'National Park', 'Region': 'Intermountain ', 'Year': 2019, 'Month': 11, 'TrafficCount': '0', 'TrafficCountTotal': '0'}\n{'_id': ObjectId('5fdd9cfb154b6e4192aa7ae8'), 'ParkName': 'Zion NP', 'ParkType': 'National Park', 'Region': 'Intermountain ', 'Year': 2019, 'Month': 12, 'TrafficCount': '0', 'TrafficCountTotal': '0'}\n{'_id': ObjectId('5fdd9cfb154b6e4192aa7ae9'), 'ParkName': 'Zion NP', 'ParkType': 'National Park', 'Region': 'Intermountain ', 'Year': 2019, 'Month': 1, 'TrafficCount': '34,299', 'TrafficCountTotal': '923,826'}\n{'_id': ObjectId('5fdd9cfb154b6e4192aa7aea'), 'ParkName': 'Zion NP', 'ParkType': 'National Park', 'Region': 'Intermountain ', 'Year': 2019, 'Month': 2, 'TrafficCount': '32,810', 'TrafficCountTotal': '923,826'}\n{'_id': ObjectId('5fdd9cfb154b6e4192aa7aeb'), 'ParkName': 'Zion NP', 'ParkType': 'National Park', 'Region': 'Intermountain ', 'Year': 2019, 'Month': 3, 'TrafficCount': '70,754', 'TrafficCountTotal': '923,826'}\n{'_id': ObjectId('5fdd9cfb154b6e4192aa7aec'), 'ParkName': 'Zion NP', 'ParkType': 'National Park', 'Region': 'Intermountain ', 'Year': 2019, 'Month': 4, 'TrafficCount': '81,809', 'TrafficCountTotal': '923,826'}\n{'_id': ObjectId('5fdd9cfb154b6e4192aa7aed'), 'ParkName': 'Zion NP', 'ParkType': 'National Park', 'Region': 'Intermountain ', 'Year': 2019, 'Month': 5, 'TrafficCount': '104,642', 'TrafficCountTotal': '923,826'}\n{'_id': ObjectId('5fdd9cfb154b6e4192aa7aee'), 'ParkName': 'Zion NP', 'ParkType': 'National Park', 'Region': 'Intermountain ', 'Year': 2019, 'Month': 6, 'TrafficCount': '103,638', 'TrafficCountTotal': '923,826'}\n{'_id': ObjectId('5fdd9cfb154b6e4192aa7aef'), 'ParkName': 'Zion NP', 'ParkType': 'National Park', 'Region': 'Intermountain ', 'Year': 2019, 'Month': 7, 'TrafficCount': '106,345', 'TrafficCountTotal': '923,826'}\n{'_id': ObjectId('5fdd9cfb154b6e4192aa7af0'), 'ParkName': 'Zion NP', 'ParkType': 'National Park', 'Region': 'Intermountain ', 'Year': 2019, 'Month': 8, 'TrafficCount': '100,222', 'TrafficCountTotal': '923,826'}\n{'_id': ObjectId('5fdd9cfb154b6e4192aa7af1'), 'ParkName': 'Zion NP', 'ParkType': 'National Park', 'Region': 'Intermountain ', 'Year': 2019, 'Month': 9, 'TrafficCount': '101,941', 'TrafficCountTotal': '923,826'}\n{'_id': ObjectId('5fdd9cfb154b6e4192aa7af2'), 'ParkName': 'Zion NP', 'ParkType': 'National Park', 'Region': 'Intermountain ', 'Year': 2019, 'Month': 10, 'TrafficCount': '84,041', 'TrafficCountTotal': '923,826'}\n{'_id': ObjectId('5fdd9cfb154b6e4192aa7af3'), 'ParkName': 'Zion NP', 'ParkType': 'National Park', 'Region': 'Intermountain ', 'Year': 2019, 'Month': 11, 'TrafficCount': '59,239', 'TrafficCountTotal': '923,826'}\n{'_id': ObjectId('5fdd9cfb154b6e4192aa7af4'), 'ParkName': 'Zion NP', 'ParkType': 'National Park', 'Region': 'Intermountain ', 'Year': 2019, 'Month': 12, 'TrafficCount': '44,086', 'TrafficCountTotal': '923,826'}\n"
     ]
    }
   ],
   "source": [
    "trafficCcount = db.traffic_count.find()\n",
    "\n",
    "for value in trafficCcount:\n",
    "    print(value)"
   ]
  },
  {
   "cell_type": "code",
   "execution_count": null,
   "metadata": {},
   "outputs": [],
   "source": []
  }
 ]
}