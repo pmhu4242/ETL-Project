{
 "metadata": {
  "language_info": {
   "codemirror_mode": {
    "name": "ipython",
    "version": 3
   },
   "file_extension": ".py",
   "mimetype": "text/x-python",
   "name": "python",
   "nbconvert_exporter": "python",
   "pygments_lexer": "ipython3",
   "version": "3.8.3-final"
  },
  "orig_nbformat": 2,
  "kernelspec": {
   "name": "python3",
   "display_name": "Python 3",
   "language": "python"
  }
 },
 "nbformat": 4,
 "nbformat_minor": 2,
 "cells": [
  {
   "cell_type": "code",
   "execution_count": 7,
   "metadata": {},
   "outputs": [],
   "source": [
    "import pandas as pd\n",
    "import csv\n",
    "import os\n",
    "from sqlalchemy import create_engine \n",
    "\n"
   ]
  },
  {
   "cell_type": "code",
   "execution_count": 181,
   "metadata": {},
   "outputs": [
    {
     "output_type": "execute_result",
     "data": {
      "text/plain": [
       "           ParkName       ParkType      Region  Year  Month TrafficCount  \\\n",
       "UnitCode                                                                   \n",
       "ACAD      Acadia NP  National Park  Northeast   2019      1        1,620   \n",
       "ACAD      Acadia NP  National Park  Northeast   2019      2        1,876   \n",
       "ACAD      Acadia NP  National Park  Northeast   2019      3        3,673   \n",
       "ACAD      Acadia NP  National Park  Northeast   2019      4        8,625   \n",
       "ACAD      Acadia NP  National Park  Northeast   2019      5       25,714   \n",
       "\n",
       "         TrafficCountTotal.1  \n",
       "UnitCode                      \n",
       "ACAD                 361,493  \n",
       "ACAD                 361,493  \n",
       "ACAD                 361,493  \n",
       "ACAD                 361,493  \n",
       "ACAD                 361,493  "
      ],
      "text/html": "<div>\n<style scoped>\n    .dataframe tbody tr th:only-of-type {\n        vertical-align: middle;\n    }\n\n    .dataframe tbody tr th {\n        vertical-align: top;\n    }\n\n    .dataframe thead th {\n        text-align: right;\n    }\n</style>\n<table border=\"1\" class=\"dataframe\">\n  <thead>\n    <tr style=\"text-align: right;\">\n      <th></th>\n      <th>ParkName</th>\n      <th>ParkType</th>\n      <th>Region</th>\n      <th>Year</th>\n      <th>Month</th>\n      <th>TrafficCount</th>\n      <th>TrafficCountTotal.1</th>\n    </tr>\n    <tr>\n      <th>UnitCode</th>\n      <th></th>\n      <th></th>\n      <th></th>\n      <th></th>\n      <th></th>\n      <th></th>\n      <th></th>\n    </tr>\n  </thead>\n  <tbody>\n    <tr>\n      <th>ACAD</th>\n      <td>Acadia NP</td>\n      <td>National Park</td>\n      <td>Northeast</td>\n      <td>2019</td>\n      <td>1</td>\n      <td>1,620</td>\n      <td>361,493</td>\n    </tr>\n    <tr>\n      <th>ACAD</th>\n      <td>Acadia NP</td>\n      <td>National Park</td>\n      <td>Northeast</td>\n      <td>2019</td>\n      <td>2</td>\n      <td>1,876</td>\n      <td>361,493</td>\n    </tr>\n    <tr>\n      <th>ACAD</th>\n      <td>Acadia NP</td>\n      <td>National Park</td>\n      <td>Northeast</td>\n      <td>2019</td>\n      <td>3</td>\n      <td>3,673</td>\n      <td>361,493</td>\n    </tr>\n    <tr>\n      <th>ACAD</th>\n      <td>Acadia NP</td>\n      <td>National Park</td>\n      <td>Northeast</td>\n      <td>2019</td>\n      <td>4</td>\n      <td>8,625</td>\n      <td>361,493</td>\n    </tr>\n    <tr>\n      <th>ACAD</th>\n      <td>Acadia NP</td>\n      <td>National Park</td>\n      <td>Northeast</td>\n      <td>2019</td>\n      <td>5</td>\n      <td>25,714</td>\n      <td>361,493</td>\n    </tr>\n  </tbody>\n</table>\n</div>"
     },
     "metadata": {},
     "execution_count": 181
    }
   ],
   "source": [
    "path = os.path.join(\"Traffic_Counts .csv\")\n",
    "tracounts = pd.read_csv(path, header=[3], encoding='utf-8', delimiter=\",\")\n",
    "tracounts = tracounts.set_index('UnitCode')\n",
    "tracounts = tracounts[['ParkName', 'ParkType', 'Region', 'Year', 'Month','TrafficCount', 'TrafficCountTotal.1']]\n",
    "tracounts.head()\n",
    "\n"
   ]
  },
  {
   "cell_type": "code",
   "execution_count": 24,
   "metadata": {},
   "outputs": [
    {
     "output_type": "execute_result",
     "data": {
      "text/plain": [
       "Index(['ParkName', 'ParkType', 'Region', 'TrafficCounter', 'Year', 'Month',\n",
       "       'TrafficCount', 'ParkNameTotal', 'UnitCodeTotal', 'ParkTypeTotal',\n",
       "       'RegionType', 'TrafficCountTotal', 'YearTotal', 'TrafficCountTotal.1'],\n",
       "      dtype='object')"
      ]
     },
     "metadata": {},
     "execution_count": 24
    }
   ],
   "source": [
    "tracounts.columns"
   ]
  },
  {
   "cell_type": "code",
   "execution_count": 178,
   "metadata": {},
   "outputs": [
    {
     "output_type": "execute_result",
     "data": {
      "text/plain": [
       "                     Area Name Region  State NPS Fee Acres  \\\n",
       "0        A LINCOLN BIRTHPL NHP      1     KY        344.50   \n",
       "128     FREDERICK DOUGLASS NHS      1     DC          8.57   \n",
       "129  FREDERICK LAW OLMSTED NHS      1     MA          7.06   \n",
       "130         FRED-SPOTS MEM NMP      1     VA      7,481.72   \n",
       "132        FRIENDSHIP HILL NHS      1     PA        661.44   \n",
       "..                         ...    ...    ...           ...   \n",
       "296          NORTH CASCADES NP      9     WA    504,654.18   \n",
       "153           FT VANCOUVER NHS      9     WA        164.70   \n",
       "301     OREGON CAVES NM & PRES      9     OR      4,554.03   \n",
       "91              CRATER LAKE NP  9, 10     OR    183,223.77   \n",
       "230     KLONDIKE GOLD RUSH NHP  9, 11  AK-WA      3,420.00   \n",
       "\n",
       "    NPS Less Than Fee Acres Other Federal Fee Acres Subtotal Federal Acres  \n",
       "0                      0.00                    0.00                 344.50  \n",
       "128                    0.00                    0.00                   8.57  \n",
       "129                    0.15                    0.00                   7.21  \n",
       "130                   85.69                    0.00               7,567.41  \n",
       "132                    0.00                    0.00                 661.44  \n",
       "..                      ...                     ...                    ...  \n",
       "296                    0.00                    0.00             504,654.18  \n",
       "153                    0.63                   32.08                 197.41  \n",
       "301                    0.00                    0.00               4,554.03  \n",
       "91                     0.00                    0.00             183,223.77  \n",
       "230                    0.00                    0.00               3,420.00  \n",
       "\n",
       "[424 rows x 7 columns]"
      ],
      "text/html": "<div>\n<style scoped>\n    .dataframe tbody tr th:only-of-type {\n        vertical-align: middle;\n    }\n\n    .dataframe tbody tr th {\n        vertical-align: top;\n    }\n\n    .dataframe thead th {\n        text-align: right;\n    }\n</style>\n<table border=\"1\" class=\"dataframe\">\n  <thead>\n    <tr style=\"text-align: right;\">\n      <th></th>\n      <th>Area Name</th>\n      <th>Region</th>\n      <th>State</th>\n      <th>NPS Fee Acres</th>\n      <th>NPS Less Than Fee Acres</th>\n      <th>Other Federal Fee Acres</th>\n      <th>Subtotal Federal Acres</th>\n    </tr>\n  </thead>\n  <tbody>\n    <tr>\n      <th>0</th>\n      <td>A LINCOLN BIRTHPL NHP</td>\n      <td>1</td>\n      <td>KY</td>\n      <td>344.50</td>\n      <td>0.00</td>\n      <td>0.00</td>\n      <td>344.50</td>\n    </tr>\n    <tr>\n      <th>128</th>\n      <td>FREDERICK DOUGLASS NHS</td>\n      <td>1</td>\n      <td>DC</td>\n      <td>8.57</td>\n      <td>0.00</td>\n      <td>0.00</td>\n      <td>8.57</td>\n    </tr>\n    <tr>\n      <th>129</th>\n      <td>FREDERICK LAW OLMSTED NHS</td>\n      <td>1</td>\n      <td>MA</td>\n      <td>7.06</td>\n      <td>0.15</td>\n      <td>0.00</td>\n      <td>7.21</td>\n    </tr>\n    <tr>\n      <th>130</th>\n      <td>FRED-SPOTS MEM NMP</td>\n      <td>1</td>\n      <td>VA</td>\n      <td>7,481.72</td>\n      <td>85.69</td>\n      <td>0.00</td>\n      <td>7,567.41</td>\n    </tr>\n    <tr>\n      <th>132</th>\n      <td>FRIENDSHIP HILL NHS</td>\n      <td>1</td>\n      <td>PA</td>\n      <td>661.44</td>\n      <td>0.00</td>\n      <td>0.00</td>\n      <td>661.44</td>\n    </tr>\n    <tr>\n      <th>...</th>\n      <td>...</td>\n      <td>...</td>\n      <td>...</td>\n      <td>...</td>\n      <td>...</td>\n      <td>...</td>\n      <td>...</td>\n    </tr>\n    <tr>\n      <th>296</th>\n      <td>NORTH CASCADES NP</td>\n      <td>9</td>\n      <td>WA</td>\n      <td>504,654.18</td>\n      <td>0.00</td>\n      <td>0.00</td>\n      <td>504,654.18</td>\n    </tr>\n    <tr>\n      <th>153</th>\n      <td>FT VANCOUVER NHS</td>\n      <td>9</td>\n      <td>WA</td>\n      <td>164.70</td>\n      <td>0.63</td>\n      <td>32.08</td>\n      <td>197.41</td>\n    </tr>\n    <tr>\n      <th>301</th>\n      <td>OREGON CAVES NM &amp; PRES</td>\n      <td>9</td>\n      <td>OR</td>\n      <td>4,554.03</td>\n      <td>0.00</td>\n      <td>0.00</td>\n      <td>4,554.03</td>\n    </tr>\n    <tr>\n      <th>91</th>\n      <td>CRATER LAKE NP</td>\n      <td>9, 10</td>\n      <td>OR</td>\n      <td>183,223.77</td>\n      <td>0.00</td>\n      <td>0.00</td>\n      <td>183,223.77</td>\n    </tr>\n    <tr>\n      <th>230</th>\n      <td>KLONDIKE GOLD RUSH NHP</td>\n      <td>9, 11</td>\n      <td>AK-WA</td>\n      <td>3,420.00</td>\n      <td>0.00</td>\n      <td>0.00</td>\n      <td>3,420.00</td>\n    </tr>\n  </tbody>\n</table>\n<p>424 rows × 7 columns</p>\n</div>"
     },
     "metadata": {},
     "execution_count": 178
    }
   ],
   "source": [
    "path = os.path.join(\"nps_acre.csv\")\n",
    "nps_acre = pd.read_csv(path, header=[1], encoding='utf-8', delimiter=\",\")\n",
    "nps_acre = nps_acre[['Area Name', 'Region', 'State', 'NPS Fee Acres', \n",
    "                    'NPS Less Than Fee Acres', 'Other Federal Fee Acres', 'Subtotal Federal Acres']]\n",
    "nps_acre = nps_acre.sort_values(by='Region').dropna()\n",
    "# nps_acre_split_val = nps_acre['Area Name'].str.split(f\" \", n=-1, expand=False)\n",
    "\n",
    "# nps_acre_split_val\n",
    "# nps_acre_split_val\n",
    "nps_acre"
   ]
  },
  {
   "cell_type": "code",
   "execution_count": 182,
   "metadata": {},
   "outputs": [
    {
     "output_type": "execute_result",
     "data": {
      "text/plain": [
       "Index(['Area Name', 'Region', 'State', 'NPS Fee Acres',\n",
       "       'NPS Less Than Fee Acres', 'Other Federal Fee Acres',\n",
       "       'Subtotal Federal Acres'],\n",
       "      dtype='object')"
      ]
     },
     "metadata": {},
     "execution_count": 182
    }
   ],
   "source": [
    "nps_acre.columns"
   ]
  },
  {
   "cell_type": "code",
   "execution_count": null,
   "metadata": {},
   "outputs": [],
   "source": []
  }
 ]
}